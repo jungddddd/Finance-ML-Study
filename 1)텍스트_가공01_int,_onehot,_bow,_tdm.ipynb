{
  "cells": [
    {
      "cell_type": "markdown",
      "metadata": {
        "id": "view-in-github",
        "colab_type": "text"
      },
      "source": [
        "<a href=\"https://colab.research.google.com/github/jungddddd/ML-/blob/main/1)%ED%85%8D%EC%8A%A4%ED%8A%B8_%EA%B0%80%EA%B3%B501_int%2C_onehot%2C_bow%2C_tdm.ipynb\" target=\"_parent\"><img src=\"https://colab.research.google.com/assets/colab-badge.svg\" alt=\"Open In Colab\"/></a>"
      ]
    },
    {
      "cell_type": "markdown",
      "metadata": {
        "id": "PHypZvLDLbkM"
      },
      "source": [
        "## 정수인코딩"
      ]
    },
    {
      "cell_type": "code",
      "source": [
        "# 토큰화를 위한 nltk 모듈 불러오기\n",
        "import nltk"
      ],
      "metadata": {
        "id": "iYKrykS6Ly_I"
      },
      "execution_count": null,
      "outputs": []
    },
    {
      "cell_type": "code",
      "source": [
        "nltk.download('punkt')"
      ],
      "metadata": {
        "id": "j3BSzmK4Lqze",
        "colab": {
          "base_uri": "https://localhost:8080/"
        },
        "outputId": "374fc96b-9565-4b6f-dbc6-b70bc35135f0"
      },
      "execution_count": null,
      "outputs": [
        {
          "output_type": "stream",
          "name": "stderr",
          "text": [
            "[nltk_data] Downloading package punkt to /root/nltk_data...\n",
            "[nltk_data]   Unzipping tokenizers/punkt.zip.\n"
          ]
        },
        {
          "output_type": "execute_result",
          "data": {
            "text/plain": [
              "True"
            ]
          },
          "metadata": {},
          "execution_count": 2
        }
      ]
    },
    {
      "cell_type": "markdown",
      "source": [
        "```\n",
        "text = \"A barber is a person. a barber is good person. a barber is huge person. he Knew A Secret! The Secret He Kept is huge secret. Huge secret. His barber kept his word. a barber kept his word. His barber kept his secret. But keeping and keeping such a huge secret to himself was driving the barber crazy. the barber went up a huge mountain.\"\n",
        "\n",
        "```"
      ],
      "metadata": {
        "id": "o7SRDt6U0WZv"
      }
    },
    {
      "cell_type": "code",
      "execution_count": null,
      "metadata": {
        "id": "-MIFM1oYLbkP"
      },
      "outputs": [],
      "source": [
        "# text 선언\n",
        "\n",
        "text = \"A barber is a person. a barber is good person. a barber is huge person. he Knew A Secret! The Secret He Kept is huge secret. Huge secret. His barber kept his word. a barber kept his word. His barber kept his secret. But keeping and keeping such a huge secret to himself was driving the barber crazy. the barber went up a huge mountain.\"\n"
      ]
    },
    {
      "cell_type": "code",
      "execution_count": null,
      "metadata": {
        "id": "fIHU44vqLbkR",
        "colab": {
          "base_uri": "https://localhost:8080/"
        },
        "outputId": "f5524693-f6f2-4187-ed8a-e7d6e3dc34d8"
      },
      "outputs": [
        {
          "output_type": "stream",
          "name": "stdout",
          "text": [
            "['A barber is a person.', 'a barber is good person.', 'a barber is huge person.', 'he Knew A Secret!', 'The Secret He Kept is huge secret.', 'Huge secret.', 'His barber kept his word.', 'a barber kept his word.', 'His barber kept his secret.', 'But keeping and keeping such a huge secret to himself was driving the barber crazy.', 'the barber went up a huge mountain.']\n"
          ]
        }
      ],
      "source": [
        "# 문장 토큰화\n",
        "# nltk.tokenize 의 sent_tokenize 불러와 사용\n",
        "# sent_tokenize 함수를 이용해 text를 문장단위로 토큰화하여 text 변수에 할당\n",
        "# .(마침표), !(느낌표)를 기준으로 토큰화 된 결과 확인\n",
        "from nltk.tokenize import sent_tokenize\n",
        "\n",
        "text = sent_tokenize(text)\n",
        "print(text)"
      ]
    },
    {
      "cell_type": "code",
      "source": [
        "len(text)"
      ],
      "metadata": {
        "colab": {
          "base_uri": "https://localhost:8080/"
        },
        "id": "rkgPMBIBsbaE",
        "outputId": "ae2529f7-5b1b-425d-853f-5f7484a906e2"
      },
      "execution_count": null,
      "outputs": [
        {
          "output_type": "execute_result",
          "data": {
            "text/plain": [
              "11"
            ]
          },
          "metadata": {},
          "execution_count": 5
        }
      ]
    },
    {
      "cell_type": "code",
      "source": [
        "nltk.download('stopwords')"
      ],
      "metadata": {
        "id": "2Uw6-AqzL8mR",
        "colab": {
          "base_uri": "https://localhost:8080/"
        },
        "outputId": "803d46e4-28a4-4d54-d1b0-bb2ba5e29cea"
      },
      "execution_count": null,
      "outputs": [
        {
          "output_type": "stream",
          "name": "stderr",
          "text": [
            "[nltk_data] Downloading package stopwords to /root/nltk_data...\n",
            "[nltk_data]   Unzipping corpora/stopwords.zip.\n"
          ]
        },
        {
          "output_type": "execute_result",
          "data": {
            "text/plain": [
              "True"
            ]
          },
          "metadata": {},
          "execution_count": 6
        }
      ]
    },
    {
      "cell_type": "code",
      "execution_count": null,
      "metadata": {
        "id": "zCLY8ZAWLbkT"
      },
      "outputs": [],
      "source": [
        "# 단어 토큰화\n",
        "# 필요한 모듈 불러오기\n",
        "# nltk.tokenize 의 word_tokenize 불러오기\n",
        "# nltk.corpus 의 stopwords 불러오기\n",
        "# collections 의 Counter 불러오기\n",
        "from nltk.tokenize import word_tokenize\n",
        "from nltk.corpus import stopwords\n",
        "from collections import Counter"
      ]
    },
    {
      "cell_type": "code",
      "source": [
        "# 단어 토큰화\n",
        "# Counter 함수를 이용해 단어의 빈도를 계산하여 vocab 변수에 할당하도록 지정\n",
        "# sentences 변수에 리스트 할당\n",
        "# stopwords의 words 함수에 english 를 지정해 영어 불용어를 stop_words 변수에 할당\n",
        "vocab = Counter() # 파이썬의 Counter 모듈을 이용하면 단어의 모든 빈도를 쉽게 계산할 수 있음\n",
        "\n",
        "sentences = []\n",
        "stop_words = set(stopwords.words('english'))"
      ],
      "metadata": {
        "id": "ME4a9WfSgnb6"
      },
      "execution_count": null,
      "outputs": []
    },
    {
      "cell_type": "code",
      "source": [
        "# 단어 토큰화\n",
        "# 반복문으로 text 를 word_tokenize() 함수를 이용해 단어 토큰화 수행하여 sentence 변수에 할당\n",
        "# 토큰화된 단어를 lower() 함수로 모든 단어를 소문자로 변경하여 단어의 개수를 줄여 word 변수에 할당\n",
        "# 단어 토큰화 된 결과에 대해 불용어 제거\n",
        "# 그리고 단어 길이가 2 이하인 경우 제거\n",
        "# 불용어가 아니고, 단어길이가 2 초과인 단어는 result 리스트에 추가\n",
        "# vocab 으로 각 단어의 빈도를 count해줌\n",
        "# sentences 리스트에 result를 추가\n",
        "# 문장 별로 단어 토큰화 결과가 리스트로 묶어서 출력됨\n",
        "for i in text:\n",
        "    sentence = word_tokenize(i) # 단어 토큰화를 수행\n",
        "\n",
        "    result = []\n",
        "\n",
        "    for word in sentence:\n",
        "        word = word.lower() # 모든 단어를 소문자화하여 단어의 개수 줄임\n",
        "        if word not in stop_words: # 단어 토큰화 된 결과에 대해서 불용어 제거\n",
        "            if len(word) > 2: # 단어 길이가 2이하인 경우에 대하여 추가로 단어 제거\n",
        "                result.append(word)\n",
        "                vocab[word] = vocab[word]+1 #각 단어의 빈도를 Count\n",
        "    sentences.append(result)\n",
        "\n",
        "print(sentences)"
      ],
      "metadata": {
        "id": "gV-S6EQShjcN",
        "colab": {
          "base_uri": "https://localhost:8080/"
        },
        "outputId": "56f6606b-26aa-4a50-8ea3-4cb14a89ef1c"
      },
      "execution_count": null,
      "outputs": [
        {
          "output_type": "stream",
          "name": "stdout",
          "text": [
            "[['barber', 'person'], ['barber', 'good', 'person'], ['barber', 'huge', 'person'], ['knew', 'secret'], ['secret', 'kept', 'huge', 'secret'], ['huge', 'secret'], ['barber', 'kept', 'word'], ['barber', 'kept', 'word'], ['barber', 'kept', 'secret'], ['keeping', 'keeping', 'huge', 'secret', 'driving', 'barber', 'crazy'], ['barber', 'went', 'huge', 'mountain']]\n"
          ]
        }
      ]
    },
    {
      "cell_type": "code",
      "execution_count": null,
      "metadata": {
        "id": "g7JnmJivLbkT",
        "colab": {
          "base_uri": "https://localhost:8080/"
        },
        "outputId": "96c360b2-a761-4bc8-e665-1c853f463ec8"
      },
      "outputs": [
        {
          "output_type": "stream",
          "name": "stdout",
          "text": [
            "Counter({'barber': 8, 'secret': 6, 'huge': 5, 'kept': 4, 'person': 3, 'word': 2, 'keeping': 2, 'good': 1, 'knew': 1, 'driving': 1, 'crazy': 1, 'went': 1, 'mountain': 1})\n"
          ]
        }
      ],
      "source": [
        "# vocab 으로 각 단어별로 계산된 빈도 확인\n",
        "print(vocab)"
      ]
    },
    {
      "cell_type": "code",
      "execution_count": null,
      "metadata": {
        "scrolled": true,
        "id": "2JapteHtLbkU",
        "colab": {
          "base_uri": "https://localhost:8080/"
        },
        "outputId": "a9b80c25-6af9-4589-f17f-e30fe1cae90e"
      },
      "outputs": [
        {
          "output_type": "stream",
          "name": "stdout",
          "text": [
            "[('barber', 8), ('secret', 6), ('huge', 5), ('kept', 4), ('person', 3), ('word', 2), ('keeping', 2), ('good', 1), ('knew', 1), ('driving', 1), ('crazy', 1), ('went', 1), ('mountain', 1)]\n"
          ]
        }
      ],
      "source": [
        "# vocab에 items() 함수를 적용하여 key와 value를 모두 출력\n",
        "# sorted 함수에 reverse 파라미터를 True 로 지정하여 x[1](value)를 기준으로 내림차순 정리\n",
        "vocab_sorted = sorted(vocab.items(), key = lambda x:x[1], reverse = True)\n",
        "print(vocab_sorted)"
      ]
    },
    {
      "cell_type": "code",
      "execution_count": null,
      "metadata": {
        "id": "P1Yeqbp3LbkV",
        "colab": {
          "base_uri": "https://localhost:8080/"
        },
        "outputId": "ac1117f6-7b02-4774-ccb0-8476f9ea2d7a"
      },
      "outputs": [
        {
          "output_type": "stream",
          "name": "stdout",
          "text": [
            "{'barber': 1, 'secret': 2, 'huge': 3, 'kept': 4, 'person': 5, 'word': 6, 'keeping': 7}\n"
          ]
        }
      ],
      "source": [
        "# 정수 인코딩\n",
        "# word_to_index 로 딕셔너리 할당\n",
        "# 빈도순으로 정렬된 vocab_sorted 에서 단어와 빈도를 각각 word, frequency 로 할당\n",
        "# 빈도가 한번으로 적은 단어는 제외하고 1번부터 번호를 붙여줌\n",
        "word_to_index = {}\n",
        "i = 0\n",
        "\n",
        "for (word, frequency) in vocab_sorted : #barber, 8 / secret, 6\n",
        "     if frequency > 1 : # 정제(Cleaning) 챕터에서 언급했듯이 빈도수가 적은 단어는 제외\n",
        "        i = i+1  #i=1, #i=2\n",
        "        word_to_index[word] = i  #barber : 1, secret : 2\n",
        "print(word_to_index)"
      ]
    },
    {
      "cell_type": "markdown",
      "metadata": {
        "id": "0c-BPA6MLbkX"
      },
      "source": [
        "## one-hot encoding"
      ]
    },
    {
      "cell_type": "code",
      "source": [
        "# 한글 토큰화를 위해 konlpy 설치\n",
        "!pip install konlpy"
      ],
      "metadata": {
        "id": "q-rxeZwYMAK_",
        "colab": {
          "base_uri": "https://localhost:8080/"
        },
        "outputId": "6ea3c420-742b-4cd7-fbc5-b57e16a125ec"
      },
      "execution_count": null,
      "outputs": [
        {
          "output_type": "stream",
          "name": "stdout",
          "text": [
            "Collecting konlpy\n",
            "  Downloading konlpy-0.6.0-py2.py3-none-any.whl (19.4 MB)\n",
            "\u001b[2K     \u001b[90m━━━━━━━━━━━━━━━━━━━━━━━━━━━━━━━━━━━━━━━━\u001b[0m \u001b[32m19.4/19.4 MB\u001b[0m \u001b[31m38.2 MB/s\u001b[0m eta \u001b[36m0:00:00\u001b[0m\n",
            "\u001b[?25hCollecting JPype1>=0.7.0 (from konlpy)\n",
            "  Downloading JPype1-1.4.1-cp310-cp310-manylinux_2_12_x86_64.manylinux2010_x86_64.whl (465 kB)\n",
            "\u001b[2K     \u001b[90m━━━━━━━━━━━━━━━━━━━━━━━━━━━━━━━━━━━━━━\u001b[0m \u001b[32m465.3/465.3 kB\u001b[0m \u001b[31m38.7 MB/s\u001b[0m eta \u001b[36m0:00:00\u001b[0m\n",
            "\u001b[?25hRequirement already satisfied: lxml>=4.1.0 in /usr/local/lib/python3.10/dist-packages (from konlpy) (4.9.3)\n",
            "Requirement already satisfied: numpy>=1.6 in /usr/local/lib/python3.10/dist-packages (from konlpy) (1.22.4)\n",
            "Requirement already satisfied: packaging in /usr/local/lib/python3.10/dist-packages (from JPype1>=0.7.0->konlpy) (23.1)\n",
            "Installing collected packages: JPype1, konlpy\n",
            "Successfully installed JPype1-1.4.1 konlpy-0.6.0\n"
          ]
        }
      ]
    },
    {
      "cell_type": "markdown",
      "source": [
        "```\n",
        "example = \"이 여름 다시 한번 설레고 싶다 그때 그 여름을 틀어줘 그 여름을 들려줘 이 여름도 언젠가는 그해 여름 오늘이 가장 젊은 내 여름\"\n",
        "```"
      ],
      "metadata": {
        "id": "f2ydQz304qAR"
      }
    },
    {
      "cell_type": "code",
      "execution_count": null,
      "metadata": {
        "id": "lq9BJWTMLbkX"
      },
      "outputs": [],
      "source": [
        "# example 선언\n",
        "example = \"이 여름 다시 한번 설레고 싶다 그때 그 여름을 틀어줘 그 여름을 들려줘 이 여름도 언젠가는 그해 여름 오늘이 가장 젊은 내 여름\""
      ]
    },
    {
      "cell_type": "code",
      "execution_count": null,
      "metadata": {
        "id": "0VVsgbNILbkY",
        "colab": {
          "base_uri": "https://localhost:8080/"
        },
        "outputId": "33fcaa55-a499-4971-c42a-775b8ca76095"
      },
      "outputs": [
        {
          "output_type": "stream",
          "name": "stdout",
          "text": [
            "['이', '여름', '다시', '한번', '설레고', '싶다', '그때', '그', '여름', '을', '틀어줘', '그', '여름', '을', '들려줘', '이', '여름', '도', '언젠가', '는', '그해', '여름', '오늘이', '가장', '젊은', '내', '여름']\n"
          ]
        }
      ],
      "source": [
        "# 한국어 형태소 분석을 위한 konlpy 의 Okt 분석기 불러오기\n",
        "# okt 분석기의 morphs 함수를 이용해 형태소를 추출하여 token 변수에 할당\n",
        "from konlpy.tag import Okt\n",
        "okt = Okt()\n",
        "\n",
        "token = okt.morphs(example)\n",
        "\n",
        "print(token)"
      ]
    },
    {
      "cell_type": "code",
      "execution_count": null,
      "metadata": {
        "id": "4nP37XTxLbkY",
        "colab": {
          "base_uri": "https://localhost:8080/"
        },
        "outputId": "a92ec369-148d-4e97-e9fc-8b994bae361b"
      },
      "outputs": [
        {
          "output_type": "stream",
          "name": "stdout",
          "text": [
            "{'이': 0, '여름': 1, '다시': 2, '한번': 3, '설레고': 4, '싶다': 5, '그때': 6, '그': 7, '을': 8, '틀어줘': 9, '들려줘': 10, '도': 11, '언젠가': 12, '는': 13, '그해': 14, '오늘이': 15, '가장': 16, '젊은': 17, '내': 18}\n"
          ]
        }
      ],
      "source": [
        "# 정수 인코딩\n",
        "# word_to_index 로 딕셔너리 할당\n",
        "# word_to_index 에 key에 없는 단어라면 그 단어의 value 를 word_to_index 딕셔너리의 요소 개수로 지정\n",
        "word_to_index={}\n",
        "\n",
        "for voca in token: #이, 여름\n",
        "     if voca not in word_to_index.keys(): #이 : 0, 여름 : 1\n",
        "            word_to_index[voca]=len(word_to_index)\n",
        "\n",
        "print(word_to_index)"
      ]
    },
    {
      "cell_type": "code",
      "execution_count": null,
      "metadata": {
        "id": "oHies2A3LbkZ"
      },
      "outputs": [],
      "source": [
        "# one_hot_encoding() 함수 정의\n",
        "# word_to_index 길이만큼 0이 할당된 리스트를 one_hot_vector로 지정\n",
        "# word_to_index 의 단어(key)에 대응된 value 를 index 로 지정\n",
        "# one_hot_vector의 index 값의 위치에 1을 업데이트 해서 단어의 one hot 벡터 생성\n",
        "def one_hot_encoding(word, word_to_index):\n",
        "    one_hot_vector = [0]*(len(word_to_index)) #[0,0,0,...,0,0]\n",
        "    index = word_to_index[word] #\"여름\" : 1 -> index\n",
        "    one_hot_vector[index] = 1  #[0,1,0,0,0,0,0,...,0]\n",
        "    return one_hot_vector"
      ]
    },
    {
      "cell_type": "code",
      "execution_count": null,
      "metadata": {
        "id": "yaHL_PkILbkZ",
        "colab": {
          "base_uri": "https://localhost:8080/"
        },
        "outputId": "6416e8e0-435f-4fad-b56c-0be04c8a2f4f"
      },
      "outputs": [
        {
          "output_type": "execute_result",
          "data": {
            "text/plain": [
              "[0, 1, 0, 0, 0, 0, 0, 0, 0, 0, 0, 0, 0, 0, 0, 0, 0, 0, 0]"
            ]
          },
          "metadata": {},
          "execution_count": 18
        }
      ],
      "source": [
        "# 정의한 one_hot_encoding() 함수를 이용해 one hot vector 확인\n",
        "one_hot_encoding(\"여름\", word_to_index)"
      ]
    },
    {
      "cell_type": "code",
      "execution_count": null,
      "metadata": {
        "id": "DR8ggsDWLbkZ",
        "colab": {
          "base_uri": "https://localhost:8080/"
        },
        "outputId": "03b70c11-51d5-4256-962f-570ac53a2f8a"
      },
      "outputs": [
        {
          "output_type": "execute_result",
          "data": {
            "text/plain": [
              "[0, 0, 0, 0, 0, 0, 0, 0, 0, 0, 0, 0, 0, 0, 0, 0, 1, 0, 0]"
            ]
          },
          "metadata": {},
          "execution_count": 19
        }
      ],
      "source": [
        "# 정의한 one_hot_encoding() 함수를 이용해 one hot vector 확인\n",
        "one_hot_encoding(\"가장\", word_to_index)"
      ]
    },
    {
      "cell_type": "markdown",
      "metadata": {
        "id": "J-HajNqZLbka"
      },
      "source": [
        "### < 과제 >"
      ]
    },
    {
      "cell_type": "code",
      "execution_count": null,
      "metadata": {
        "id": "1ceDBc6gLbka"
      },
      "outputs": [],
      "source": [
        "from collections import Counter\n",
        "vocab = Counter()\n",
        "\n",
        "for word in token:\n",
        "    voca = []\n",
        "    if len(word) > 1:        # 단어 길이가 1인 경우 제외\n",
        "        voca.append(word)\n",
        "        vocab[word]=vocab[word]+1 #각 단어의 빈도 count\n",
        "\n",
        "\n",
        "print(vocab)"
      ]
    },
    {
      "cell_type": "code",
      "execution_count": null,
      "metadata": {
        "id": "BqBDtO33Lbkb"
      },
      "outputs": [],
      "source": [
        "vocab_sorted=sorted(vocab.items(), key=lambda x:x[1], reverse=True)\n",
        "print(vocab_sorted)"
      ]
    },
    {
      "cell_type": "code",
      "execution_count": null,
      "metadata": {
        "id": "861rrr6hLbkb"
      },
      "outputs": [],
      "source": [
        "word_to_index={}\n",
        "i = 0\n",
        "\n",
        "for (word, frequency) in vocab_sorted :\n",
        "    word_to_index[word]=i\n",
        "    i=i+1\n",
        "\n",
        "print(word_to_index)"
      ]
    },
    {
      "cell_type": "code",
      "execution_count": null,
      "metadata": {
        "id": "2pNNKHTnLbkc"
      },
      "outputs": [],
      "source": [
        "one_hot_encoding(\"젊은\", word_to_index)"
      ]
    },
    {
      "cell_type": "code",
      "execution_count": null,
      "metadata": {
        "id": "W-IhH_bPLbkc"
      },
      "outputs": [],
      "source": []
    },
    {
      "cell_type": "markdown",
      "metadata": {
        "id": "g9wRNnNXLbkc"
      },
      "source": [
        "## BoW"
      ]
    },
    {
      "cell_type": "markdown",
      "source": [
        "```\n",
        "text = \"이 여름 다시 한번 설레고 싶다. 그때 그 여름을 틀어줘. 그 여름을 들려줘. 이 여름도 언젠가는 그해 여름. 오늘이 가장 젊은 내 여름.\"\n",
        "```"
      ],
      "metadata": {
        "id": "aLS2g6y87AQw"
      }
    },
    {
      "cell_type": "code",
      "execution_count": null,
      "metadata": {
        "id": "ph8zeizjLbkd"
      },
      "outputs": [],
      "source": [
        "# text 선언\n",
        "text = \"이 여름 다시 한번 설레고 싶다. 그때 그 여름을 틀어줘. 그 여름을 들려줘. 이 여름도 언젠가는 그해 여름. 오늘이 가장 젊은 내 여름.\""
      ]
    },
    {
      "cell_type": "code",
      "execution_count": null,
      "metadata": {
        "id": "taE_5114Lbkd"
      },
      "outputs": [],
      "source": [
        "# 한국어 형태소 분석을 위한 konlpy 의 Okt 분석기 불러오기\n",
        "# 정규표현식 사용을 위해 re 모듈 불러오기\n",
        "from konlpy.tag import Okt\n",
        "import re\n",
        "\n",
        "okt = Okt()"
      ]
    },
    {
      "cell_type": "code",
      "execution_count": null,
      "metadata": {
        "id": "hanuh1i7Lbkd",
        "colab": {
          "base_uri": "https://localhost:8080/"
        },
        "outputId": "6dff3d50-9f41-4b1d-bd59-f8d7cf9a8d77"
      },
      "outputs": [
        {
          "output_type": "stream",
          "name": "stdout",
          "text": [
            "이 여름 다시 한번 설레고 싶다 그때 그 여름을 틀어줘 그 여름을 들려줘 이 여름도 언젠가는 그해 여름 오늘이 가장 젊은 내 여름\n"
          ]
        }
      ],
      "source": [
        "# 정규표현식을 통해 온점을 제거하여 token 변수에 할당\n",
        "token = re.sub(\"(\\.)\",\"\",text)\n",
        "\n",
        "print(token)"
      ]
    },
    {
      "cell_type": "code",
      "execution_count": null,
      "metadata": {
        "id": "qitwmtDgLbkd",
        "colab": {
          "base_uri": "https://localhost:8080/"
        },
        "outputId": "d443e090-3f0c-436c-bb36-c36af5167b38"
      },
      "outputs": [
        {
          "output_type": "stream",
          "name": "stdout",
          "text": [
            "['이', '여름', '다시', '한번', '설레고', '싶다', '그때', '그', '여름', '을', '틀어줘', '그', '여름', '을', '들려줘', '이', '여름', '도', '언젠가', '는', '그해', '여름', '오늘이', '가장', '젊은', '내', '여름']\n"
          ]
        }
      ],
      "source": [
        "# okt 분석기의 morphs 함수를 이용해 형태소를 추출하여 token 변수에 할당\n",
        "token = okt.morphs(token)\n",
        "\n",
        "print(token)"
      ]
    },
    {
      "cell_type": "code",
      "execution_count": null,
      "metadata": {
        "id": "SNx8P_ItLbke",
        "colab": {
          "base_uri": "https://localhost:8080/"
        },
        "outputId": "ba4da562-9152-43fb-99cc-b1ffd96b54cb"
      },
      "outputs": [
        {
          "output_type": "stream",
          "name": "stdout",
          "text": [
            "{'이': 0, '여름': 1, '다시': 2, '한번': 3, '설레고': 4, '싶다': 5, '그때': 6, '그': 7, '을': 8, '틀어줘': 9, '들려줘': 10, '도': 11, '언젠가': 12, '는': 13, '그해': 14, '오늘이': 15, '가장': 16, '젊은': 17, '내': 18}\n"
          ]
        }
      ],
      "source": [
        "# 정수 인코딩\n",
        "# word2index 로 딕셔너리 할당, bow 로 리스트 할당\n",
        "# (if) word2index 에 key에 없는 단어라면 그 단어의 value 를 word2index 딕셔너리의 요소 개수로 지정\n",
        "# 그리고 bow 에 insert 함수를 이용해 모두 1로 기본값 지정\n",
        "# (else) word2index 에 있는 단어라면 해당 단어의 인덱스 값에 1을 더해줌\n",
        "word2index={}\n",
        "bow=[]\n",
        "\n",
        "for voca in token: #이\n",
        "    if voca not in word2index.keys():\n",
        "        word2index[voca] = len(word2index) #이:0\n",
        "               # token을 읽으면서, word2index에 없는 (not in) 단어는 새로 추가하고,\n",
        "               # 이미 있는 단어는 넘김\n",
        "        bow.insert(len(word2index)-1,1)  # BoW 전체에 전부 기본값 1 지정 #(1-1, 1)=(0, 1)\n",
        "\n",
        "    else:\n",
        "        index = word2index.get(voca) # 재등장하는 단어의 인덱스 #0\n",
        "        bow[index] = bow[index]+1 # 재등장한 단어의 해당 인덱스에 1을 더함 #[0] +1\n",
        "\n",
        "print(word2index)"
      ]
    },
    {
      "cell_type": "code",
      "execution_count": null,
      "metadata": {
        "id": "bf1NHoxiLbkf",
        "colab": {
          "base_uri": "https://localhost:8080/"
        },
        "outputId": "4b627df7-6671-4324-d791-dc877dca1dc4"
      },
      "outputs": [
        {
          "output_type": "stream",
          "name": "stdout",
          "text": [
            "[2, 6, 1, 1, 1, 1, 1, 2, 2, 1, 1, 1, 1, 1, 1, 1, 1, 1, 1]\n"
          ]
        }
      ],
      "source": [
        "# bow 확인\n",
        "print(bow)"
      ]
    },
    {
      "cell_type": "code",
      "execution_count": null,
      "metadata": {
        "id": "SNMN-gKALbkf"
      },
      "outputs": [],
      "source": []
    },
    {
      "cell_type": "code",
      "execution_count": null,
      "metadata": {
        "id": "tK-1T5e9Lbkf",
        "colab": {
          "base_uri": "https://localhost:8080/"
        },
        "outputId": "6b599a28-1b98-4b8d-b0b8-4748e0c221d5"
      },
      "outputs": [
        {
          "output_type": "stream",
          "name": "stdout",
          "text": [
            "[[1 1 2 1 2 1]]\n",
            "{'you': 4, 'know': 1, 'want': 3, 'your': 5, 'love': 2, 'because': 0}\n"
          ]
        }
      ],
      "source": [
        "# 사이킷런을 이용해 BoW 만들기\n",
        "# sklearn.feature_extraction.text 모듈의 CountVectorizer 함수 불러오기\n",
        "# CountVectorizer : 단어의 빈도를 Count하여 Vector로 만들어줌\n",
        "# corpus를 리스트로 할당\n",
        "# fit_transform 함수로 corpus 데이터를 변경해 array 로 변환하여 corpus 에서 각 단어의 빈도 수를 기록\n",
        "# vocabulary_ 로 각 단어의 인덱스 확인\n",
        "from sklearn.feature_extraction.text import CountVectorizer\n",
        "\n",
        "corpus = ['you know I want your love. because I love you.']\n",
        "vector = CountVectorizer()\n",
        "\n",
        "print(vector.fit_transform(corpus).toarray()) # 코퍼스로부터 각 단어의 빈도 수 기록\n",
        "print(vector.vocabulary_) # 각 단어의 인덱스 확인"
      ]
    },
    {
      "cell_type": "markdown",
      "source": [
        "- you와 love는 두 번씩 언급되었으므로 각각 인덱스 2와 인덱스 4에서 2의 값을 가지며,그 외의 값에서는 1의 값을 가지는 것을 볼 수 있음\n",
        "\n",
        "- CountVectorizer가 기본적으로 길이가 2이상인 문자에 대해서만 토큰으로 인식하기 때문에 알파벳 I는 BoW를 만드는 과정에서 제외됨"
      ],
      "metadata": {
        "id": "c2ABlngHuGsj"
      }
    },
    {
      "cell_type": "code",
      "execution_count": null,
      "metadata": {
        "id": "YvTG_VatLbks",
        "colab": {
          "base_uri": "https://localhost:8080/"
        },
        "outputId": "f4a4433a-99a8-4237-ba35-6c4d2b5ae413"
      },
      "outputs": [
        {
          "output_type": "stream",
          "name": "stdout",
          "text": [
            "  (0, 4)\t2\n",
            "  (0, 1)\t1\n",
            "  (0, 3)\t1\n",
            "  (0, 5)\t1\n",
            "  (0, 2)\t2\n",
            "  (0, 0)\t1\n"
          ]
        }
      ],
      "source": [
        "# fit_transform 을 적용한 결과 확인\n",
        "print(vector.fit_transform(corpus))"
      ]
    },
    {
      "cell_type": "code",
      "execution_count": null,
      "metadata": {
        "id": "2e5JKAIiLbkt",
        "colab": {
          "base_uri": "https://localhost:8080/"
        },
        "outputId": "16965f7b-77d0-42af-d768-68717e630a02"
      },
      "outputs": [
        {
          "output_type": "stream",
          "name": "stdout",
          "text": [
            "[[1 1 2 1]]\n",
            "{'know': 1, 'want': 3, 'love': 2, 'because': 0}\n"
          ]
        }
      ],
      "source": [
        "# sklearn.feature_extraction.text 모듈의 CountVectorizer 함수 불러오기\n",
        "# CountVectorizer : 단어의 빈도를 Count하여 Vector로 만들어줌\n",
        "# CountVectorizer에 stop_words를 리스트로 불용어 지정\n",
        "# fit_transform 함수로 corpus 데이터를 변경해 array 로 변환하여 corpus 에서 각 단어의 빈도 수를 기록\n",
        "# vocabulary_ 로 각 단어의 인덱스 확인\n",
        "from sklearn.feature_extraction.text import CountVectorizer\n",
        "\n",
        "corpus = ['you know I want your love. because I love you.']\n",
        "vector = CountVectorizer(stop_words=[\"you\", \"your\"])\n",
        "\n",
        "print(vector.fit_transform(corpus).toarray())\n",
        "print(vector.vocabulary_)"
      ]
    },
    {
      "cell_type": "code",
      "execution_count": null,
      "metadata": {
        "id": "1lr8FUG0Lbkt",
        "colab": {
          "base_uri": "https://localhost:8080/"
        },
        "outputId": "0222c499-0997-4618-de0f-2cf4b8ce9295"
      },
      "outputs": [
        {
          "output_type": "stream",
          "name": "stdout",
          "text": [
            "[[1 2 1]]\n",
            "{'know': 0, 'want': 2, 'love': 1}\n"
          ]
        }
      ],
      "source": [
        "# sklearn.feature_extraction.text 모듈의 CountVectorizer 함수 불러오기\n",
        "# nltk.corpus 의 stopwords 불러오기\n",
        "# stopwords의 words 함수에 english 를 지정해 영어 불용어를 sw 변수에 할당\n",
        "# CountVectorizer에 sw를 리스트로 불용어 지정\n",
        "# fit_transform 함수로 corpus 데이터를 변경해 array 로 변환하여 corpus 에서 각 단어의 빈도 수를 기록\n",
        "# vocabulary_ 로 각 단어의 인덱스 확인\n",
        "from sklearn.feature_extraction.text import CountVectorizer\n",
        "from nltk.corpus import stopwords\n",
        "\n",
        "sw = stopwords.words(\"english\")\n",
        "\n",
        "corpus = ['you know I want your love. because I love you.']\n",
        "vector = CountVectorizer(stop_words = sw)\n",
        "\n",
        "print(vector.fit_transform(corpus).toarray())\n",
        "print(vector.vocabulary_)"
      ]
    },
    {
      "cell_type": "markdown",
      "metadata": {
        "id": "k0ocVgP3Mu1N"
      },
      "source": [
        "## TDM"
      ]
    },
    {
      "cell_type": "code",
      "execution_count": null,
      "metadata": {
        "id": "00AaLNmkMu1Q",
        "colab": {
          "base_uri": "https://localhost:8080/"
        },
        "outputId": "58f5ac41-d74f-40ba-95cb-a0733e48f559"
      },
      "outputs": [
        {
          "output_type": "stream",
          "name": "stdout",
          "text": [
            "[[0 1 0 1 0 1 0 1 1]\n",
            " [0 0 1 0 0 0 0 1 0]\n",
            " [1 0 0 0 1 0 1 0 0]]\n",
            "{'you': 7, 'know': 1, 'want': 5, 'your': 8, 'love': 3, 'like': 2, 'what': 6, 'should': 4, 'do': 0}\n"
          ]
        }
      ],
      "source": [
        "# 사이킷런을 이용하여 TDM 생성\n",
        "# sklearn.feature_extraction.text 모듈의 CountVectorizer 함수 불러오기\n",
        "# fit_transform 함수로 corpus 데이터를 변경해 array 로 변환하여 corpus 에서 각 단어의 빈도 수를 기록\n",
        "# vocabulary_ 로 각 단어의 인덱스 확인\n",
        "from sklearn.feature_extraction.text import CountVectorizer\n",
        "\n",
        "corpus = ['you know I want your love',\n",
        "          'I like you',\n",
        "          'what should I do']\n",
        "\n",
        "vector = CountVectorizer()\n",
        "\n",
        "print(vector.fit_transform(corpus).toarray()) # 코퍼스로부터 각 단어의 빈도 수 기록\n",
        "print(vector.vocabulary_) # 각 단어의 인덱스 확인"
      ]
    },
    {
      "cell_type": "markdown",
      "source": [
        "### 폭염데이터"
      ],
      "metadata": {
        "id": "JsAUAPe2Nssa"
      }
    },
    {
      "cell_type": "code",
      "execution_count": null,
      "metadata": {
        "id": "7t7Fx7QLMu1W",
        "colab": {
          "base_uri": "https://localhost:8080/",
          "height": 1000
        },
        "outputId": "d0dbcaa1-b70c-4b2a-824b-32698c72e6c5"
      },
      "outputs": [
        {
          "output_type": "stream",
          "name": "stderr",
          "text": [
            "<ipython-input-1-d69994909706>:6: FutureWarning: The error_bad_lines argument has been deprecated and will be removed in a future version. Use on_bad_lines in the future.\n",
            "\n",
            "\n",
            "  df = pd.read_csv('/content/drive/MyDrive/Bigdata_ML/III.빅데이터_분석을 _위한_파이썬_기반_머신러닝/3.텍스트/폭염.csv',\n",
            "<ipython-input-1-d69994909706>:6: FutureWarning: The warn_bad_lines argument has been deprecated and will be removed in a future version. Use on_bad_lines in the future.\n",
            "\n",
            "\n",
            "  df = pd.read_csv('/content/drive/MyDrive/Bigdata_ML/III.빅데이터_분석을 _위한_파이썬_기반_머신러닝/3.텍스트/폭염.csv',\n"
          ]
        },
        {
          "output_type": "execute_result",
          "data": {
            "text/plain": [
              "                                                  주소        일자     언론사  \\\n",
              "0  http://www.bigkinds.or.kr/news/newsDetailView....  20180724   헤럴드경제   \n",
              "1  http://www.bigkinds.or.kr/news/newsDetailView....  20180724   헤럴드경제   \n",
              "2  http://www.bigkinds.or.kr/news/newsDetailView....  20180724    서울경제   \n",
              "3  http://www.bigkinds.or.kr/news/newsDetailView....  20180724    서울경제   \n",
              "4  http://www.bigkinds.or.kr/news/newsDetailView....  20180724  파이낸셜뉴스   \n",
              "\n",
              "      기고자                                                 제목    통합 분류1  \\\n",
              "0  김유진 기자                         [펄펄 끓는 한반도] 최고기온 40도 시간문제…     사회>날씨   \n",
              "1  박로명 기자                    붙이는 네일·인스턴트 타투…폭염에도 ‘반짝 뷰티템’ 인기     경제>유통   \n",
              "2  김도건 기자  천기누설! ‘수익의 법칙’ 업종별 순환매를 알았다면….제약바이오, 경협, 전기차 상관관계  경제>증권_증시   \n",
              "3  김도건 기자  천기누설! ‘수익의 법칙’ 업종별 순환매를 알았다면….제약바이오, 경협, 전기차 상관관계  경제>증권_증시   \n",
              "4  파이낸셜뉴스                          [fn사설] 탄소 배출 후진국으로 추락한 한국       NaN   \n",
              "\n",
              "      통합 분류2     통합 분류3 사건/사고 분류1 사건/사고 분류2 사건/사고 분류3 개체명(인물)  \\\n",
              "0        NaN        NaN       NaN       NaN       NaN     NaN   \n",
              "1  경제>서비스_쇼핑   경제>산업_기업       NaN       NaN       NaN      롭스   \n",
              "2   경제>산업_기업  경제>금융_재테크       NaN       NaN       NaN     NaN   \n",
              "3   경제>산업_기업  경제>금융_재테크       NaN       NaN       NaN     NaN   \n",
              "4        NaN        NaN       NaN       NaN       NaN     NaN   \n",
              "\n",
              "                                             개체명(지역)  \\\n",
              "0  경북, 경북 경산, 경상북도, 금락리, 대구, 북태평양, 신녕면, 하양읍, 한반도,...   \n",
              "1                                                인디아   \n",
              "2                                      대장주, 서울경, 수혜주   \n",
              "3                                      대장주, 서울경, 수혜주   \n",
              "4            한반도, 독일, 고위도, 캐나다, 미국, 스웨덴, 일본, 수정안, 한국   \n",
              "\n",
              "                                        개체명(기업/기관)  \\\n",
              "0                       경산시, 경주, 기상청, 대구, 영천시, 한반도   \n",
              "1                   H&B, 네일아트, 데싱디바, 롭스, 롯데, 헬스앤뷰티   \n",
              "2                           제약바이오, 제천대성, 중국, 창성바이오   \n",
              "3                           제약바이오, 제천대성, 중국, 창성바이오   \n",
              "4  환경부, 미국, OECD, 지난해, 글로벌, 서울, 회원국, 경제협력개발기구, 행정부   \n",
              "\n",
              "                                                 키워드  \\\n",
              "0  시간문제,최고기온,경북,경산,8월,기록,대구,7말,열축적,가속,7말,더위,절정,열흘...   \n",
              "1  네일,인스턴트,타투,폭염,뷰티템,인기,롭스,네일,염모제,매출,52%·31%,양보,전...   \n",
              "2  천기누설,수익,법칙,업종별,순환매,제약바이오,경협,전기차,상관관계,중국,창성,바이오...   \n",
              "3  천기누설,수익,법칙,업종별,순환매,제약바이오,경협,전기차,상관관계,중국,창성,바이오...   \n",
              "4  후진국,탄소,배출,추락,한국,OECD,주요국,역행,탈원전,상황,악화,우리나라,이산화...   \n",
              "\n",
              "                                                특성추출  \\\n",
              "0  가능성,40도,기상청,대구,최고기온,고기압,경상북도,열축적,경북,시간문제,북태평양,...   \n",
              "1  롭스,2주,휴가철,올리브영,염모제,타투스티커,연평균,네일숍,데싱디바,120ml,5만...   \n",
              "2  톡스타,순환매,제약바이오,전기차,경협주,전문가,서울경제,중국,설리,가능성,전문가들,...   \n",
              "3  톡스타,순환매,제약바이오,전기차,경협주,전문가,서울경제,중국,설리,가능성,전문가들,...   \n",
              "4  온실가스,배출량,탈원전,한국,oecd,미국,사망자,온난화,발전량,후진국,8차,서울,...   \n",
              "\n",
              "                                                  본문  \\\n",
              "0  23일 경북 경산 39.9도까지 치솟아 1942년 8월1일 대구 40.0도 기..열...   \n",
              "1  롭스, 네일·염모제 매출 각각 52%·31% ↑ “아무리 더워도 아름다움 양보 못해...   \n",
              "2  중국의 창성바이오가 가짜백신으로 상장폐지 위기. 국내 제약바이오주들도 덩달아 급락....   \n",
              "3  중국의 창성바이오가 가짜백신으로 상장폐지 위기. 국내 제약바이오주들도 덩달아 급락....   \n",
              "4  OECD 주요국과 역행.. 탈원전이 상황 악화시켜       지난해 우리나라 이산화...   \n",
              "\n",
              "                                                원본주소  \n",
              "0  http://biz.heraldcorp.com/view.php?ud=20180724...  \n",
              "1  http://biz.heraldcorp.com/view.php?ud=20180724...  \n",
              "2         http://www.sedaily.com/NewsView/1S27K8I4H4  \n",
              "3         http://www.sedaily.com/NewsView/1S27KI9O3X  \n",
              "4      http://www.fnnews.com/news/201807231714237258  "
            ],
            "text/html": [
              "\n",
              "\n",
              "  <div id=\"df-17ebc220-4c45-4881-9f80-73d5a5bb93e5\">\n",
              "    <div class=\"colab-df-container\">\n",
              "      <div>\n",
              "<style scoped>\n",
              "    .dataframe tbody tr th:only-of-type {\n",
              "        vertical-align: middle;\n",
              "    }\n",
              "\n",
              "    .dataframe tbody tr th {\n",
              "        vertical-align: top;\n",
              "    }\n",
              "\n",
              "    .dataframe thead th {\n",
              "        text-align: right;\n",
              "    }\n",
              "</style>\n",
              "<table border=\"1\" class=\"dataframe\">\n",
              "  <thead>\n",
              "    <tr style=\"text-align: right;\">\n",
              "      <th></th>\n",
              "      <th>주소</th>\n",
              "      <th>일자</th>\n",
              "      <th>언론사</th>\n",
              "      <th>기고자</th>\n",
              "      <th>제목</th>\n",
              "      <th>통합 분류1</th>\n",
              "      <th>통합 분류2</th>\n",
              "      <th>통합 분류3</th>\n",
              "      <th>사건/사고 분류1</th>\n",
              "      <th>사건/사고 분류2</th>\n",
              "      <th>사건/사고 분류3</th>\n",
              "      <th>개체명(인물)</th>\n",
              "      <th>개체명(지역)</th>\n",
              "      <th>개체명(기업/기관)</th>\n",
              "      <th>키워드</th>\n",
              "      <th>특성추출</th>\n",
              "      <th>본문</th>\n",
              "      <th>원본주소</th>\n",
              "    </tr>\n",
              "  </thead>\n",
              "  <tbody>\n",
              "    <tr>\n",
              "      <th>0</th>\n",
              "      <td>http://www.bigkinds.or.kr/news/newsDetailView....</td>\n",
              "      <td>20180724</td>\n",
              "      <td>헤럴드경제</td>\n",
              "      <td>김유진 기자</td>\n",
              "      <td>[펄펄 끓는 한반도] 최고기온 40도 시간문제…</td>\n",
              "      <td>사회&gt;날씨</td>\n",
              "      <td>NaN</td>\n",
              "      <td>NaN</td>\n",
              "      <td>NaN</td>\n",
              "      <td>NaN</td>\n",
              "      <td>NaN</td>\n",
              "      <td>NaN</td>\n",
              "      <td>경북, 경북 경산, 경상북도, 금락리, 대구, 북태평양, 신녕면, 하양읍, 한반도,...</td>\n",
              "      <td>경산시, 경주, 기상청, 대구, 영천시, 한반도</td>\n",
              "      <td>시간문제,최고기온,경북,경산,8월,기록,대구,7말,열축적,가속,7말,더위,절정,열흘...</td>\n",
              "      <td>가능성,40도,기상청,대구,최고기온,고기압,경상북도,열축적,경북,시간문제,북태평양,...</td>\n",
              "      <td>23일 경북 경산 39.9도까지 치솟아 1942년 8월1일 대구 40.0도 기..열...</td>\n",
              "      <td>http://biz.heraldcorp.com/view.php?ud=20180724...</td>\n",
              "    </tr>\n",
              "    <tr>\n",
              "      <th>1</th>\n",
              "      <td>http://www.bigkinds.or.kr/news/newsDetailView....</td>\n",
              "      <td>20180724</td>\n",
              "      <td>헤럴드경제</td>\n",
              "      <td>박로명 기자</td>\n",
              "      <td>붙이는 네일·인스턴트 타투…폭염에도 ‘반짝 뷰티템’ 인기</td>\n",
              "      <td>경제&gt;유통</td>\n",
              "      <td>경제&gt;서비스_쇼핑</td>\n",
              "      <td>경제&gt;산업_기업</td>\n",
              "      <td>NaN</td>\n",
              "      <td>NaN</td>\n",
              "      <td>NaN</td>\n",
              "      <td>롭스</td>\n",
              "      <td>인디아</td>\n",
              "      <td>H&amp;B, 네일아트, 데싱디바, 롭스, 롯데, 헬스앤뷰티</td>\n",
              "      <td>네일,인스턴트,타투,폭염,뷰티템,인기,롭스,네일,염모제,매출,52%·31%,양보,전...</td>\n",
              "      <td>롭스,2주,휴가철,올리브영,염모제,타투스티커,연평균,네일숍,데싱디바,120ml,5만...</td>\n",
              "      <td>롭스, 네일·염모제 매출 각각 52%·31% ↑ “아무리 더워도 아름다움 양보 못해...</td>\n",
              "      <td>http://biz.heraldcorp.com/view.php?ud=20180724...</td>\n",
              "    </tr>\n",
              "    <tr>\n",
              "      <th>2</th>\n",
              "      <td>http://www.bigkinds.or.kr/news/newsDetailView....</td>\n",
              "      <td>20180724</td>\n",
              "      <td>서울경제</td>\n",
              "      <td>김도건 기자</td>\n",
              "      <td>천기누설! ‘수익의 법칙’ 업종별 순환매를 알았다면….제약바이오, 경협, 전기차 상관관계</td>\n",
              "      <td>경제&gt;증권_증시</td>\n",
              "      <td>경제&gt;산업_기업</td>\n",
              "      <td>경제&gt;금융_재테크</td>\n",
              "      <td>NaN</td>\n",
              "      <td>NaN</td>\n",
              "      <td>NaN</td>\n",
              "      <td>NaN</td>\n",
              "      <td>대장주, 서울경, 수혜주</td>\n",
              "      <td>제약바이오, 제천대성, 중국, 창성바이오</td>\n",
              "      <td>천기누설,수익,법칙,업종별,순환매,제약바이오,경협,전기차,상관관계,중국,창성,바이오...</td>\n",
              "      <td>톡스타,순환매,제약바이오,전기차,경협주,전문가,서울경제,중국,설리,가능성,전문가들,...</td>\n",
              "      <td>중국의 창성바이오가 가짜백신으로 상장폐지 위기. 국내 제약바이오주들도 덩달아 급락....</td>\n",
              "      <td>http://www.sedaily.com/NewsView/1S27K8I4H4</td>\n",
              "    </tr>\n",
              "    <tr>\n",
              "      <th>3</th>\n",
              "      <td>http://www.bigkinds.or.kr/news/newsDetailView....</td>\n",
              "      <td>20180724</td>\n",
              "      <td>서울경제</td>\n",
              "      <td>김도건 기자</td>\n",
              "      <td>천기누설! ‘수익의 법칙’ 업종별 순환매를 알았다면….제약바이오, 경협, 전기차 상관관계</td>\n",
              "      <td>경제&gt;증권_증시</td>\n",
              "      <td>경제&gt;산업_기업</td>\n",
              "      <td>경제&gt;금융_재테크</td>\n",
              "      <td>NaN</td>\n",
              "      <td>NaN</td>\n",
              "      <td>NaN</td>\n",
              "      <td>NaN</td>\n",
              "      <td>대장주, 서울경, 수혜주</td>\n",
              "      <td>제약바이오, 제천대성, 중국, 창성바이오</td>\n",
              "      <td>천기누설,수익,법칙,업종별,순환매,제약바이오,경협,전기차,상관관계,중국,창성,바이오...</td>\n",
              "      <td>톡스타,순환매,제약바이오,전기차,경협주,전문가,서울경제,중국,설리,가능성,전문가들,...</td>\n",
              "      <td>중국의 창성바이오가 가짜백신으로 상장폐지 위기. 국내 제약바이오주들도 덩달아 급락....</td>\n",
              "      <td>http://www.sedaily.com/NewsView/1S27KI9O3X</td>\n",
              "    </tr>\n",
              "    <tr>\n",
              "      <th>4</th>\n",
              "      <td>http://www.bigkinds.or.kr/news/newsDetailView....</td>\n",
              "      <td>20180724</td>\n",
              "      <td>파이낸셜뉴스</td>\n",
              "      <td>파이낸셜뉴스</td>\n",
              "      <td>[fn사설] 탄소 배출 후진국으로 추락한 한국</td>\n",
              "      <td>NaN</td>\n",
              "      <td>NaN</td>\n",
              "      <td>NaN</td>\n",
              "      <td>NaN</td>\n",
              "      <td>NaN</td>\n",
              "      <td>NaN</td>\n",
              "      <td>NaN</td>\n",
              "      <td>한반도, 독일, 고위도, 캐나다, 미국, 스웨덴, 일본, 수정안, 한국</td>\n",
              "      <td>환경부, 미국, OECD, 지난해, 글로벌, 서울, 회원국, 경제협력개발기구, 행정부</td>\n",
              "      <td>후진국,탄소,배출,추락,한국,OECD,주요국,역행,탈원전,상황,악화,우리나라,이산화...</td>\n",
              "      <td>온실가스,배출량,탈원전,한국,oecd,미국,사망자,온난화,발전량,후진국,8차,서울,...</td>\n",
              "      <td>OECD 주요국과 역행.. 탈원전이 상황 악화시켜       지난해 우리나라 이산화...</td>\n",
              "      <td>http://www.fnnews.com/news/201807231714237258</td>\n",
              "    </tr>\n",
              "  </tbody>\n",
              "</table>\n",
              "</div>\n",
              "      <button class=\"colab-df-convert\" onclick=\"convertToInteractive('df-17ebc220-4c45-4881-9f80-73d5a5bb93e5')\"\n",
              "              title=\"Convert this dataframe to an interactive table.\"\n",
              "              style=\"display:none;\">\n",
              "\n",
              "  <svg xmlns=\"http://www.w3.org/2000/svg\" height=\"24px\"viewBox=\"0 0 24 24\"\n",
              "       width=\"24px\">\n",
              "    <path d=\"M0 0h24v24H0V0z\" fill=\"none\"/>\n",
              "    <path d=\"M18.56 5.44l.94 2.06.94-2.06 2.06-.94-2.06-.94-.94-2.06-.94 2.06-2.06.94zm-11 1L8.5 8.5l.94-2.06 2.06-.94-2.06-.94L8.5 2.5l-.94 2.06-2.06.94zm10 10l.94 2.06.94-2.06 2.06-.94-2.06-.94-.94-2.06-.94 2.06-2.06.94z\"/><path d=\"M17.41 7.96l-1.37-1.37c-.4-.4-.92-.59-1.43-.59-.52 0-1.04.2-1.43.59L10.3 9.45l-7.72 7.72c-.78.78-.78 2.05 0 2.83L4 21.41c.39.39.9.59 1.41.59.51 0 1.02-.2 1.41-.59l7.78-7.78 2.81-2.81c.8-.78.8-2.07 0-2.86zM5.41 20L4 18.59l7.72-7.72 1.47 1.35L5.41 20z\"/>\n",
              "  </svg>\n",
              "      </button>\n",
              "\n",
              "\n",
              "\n",
              "    <div id=\"df-7a2047ad-f623-4491-92b9-58f88a71eefa\">\n",
              "      <button class=\"colab-df-quickchart\" onclick=\"quickchart('df-7a2047ad-f623-4491-92b9-58f88a71eefa')\"\n",
              "              title=\"Suggest charts.\"\n",
              "              style=\"display:none;\">\n",
              "\n",
              "<svg xmlns=\"http://www.w3.org/2000/svg\" height=\"24px\"viewBox=\"0 0 24 24\"\n",
              "     width=\"24px\">\n",
              "    <g>\n",
              "        <path d=\"M19 3H5c-1.1 0-2 .9-2 2v14c0 1.1.9 2 2 2h14c1.1 0 2-.9 2-2V5c0-1.1-.9-2-2-2zM9 17H7v-7h2v7zm4 0h-2V7h2v10zm4 0h-2v-4h2v4z\"/>\n",
              "    </g>\n",
              "</svg>\n",
              "      </button>\n",
              "    </div>\n",
              "\n",
              "<style>\n",
              "  .colab-df-quickchart {\n",
              "    background-color: #E8F0FE;\n",
              "    border: none;\n",
              "    border-radius: 50%;\n",
              "    cursor: pointer;\n",
              "    display: none;\n",
              "    fill: #1967D2;\n",
              "    height: 32px;\n",
              "    padding: 0 0 0 0;\n",
              "    width: 32px;\n",
              "  }\n",
              "\n",
              "  .colab-df-quickchart:hover {\n",
              "    background-color: #E2EBFA;\n",
              "    box-shadow: 0px 1px 2px rgba(60, 64, 67, 0.3), 0px 1px 3px 1px rgba(60, 64, 67, 0.15);\n",
              "    fill: #174EA6;\n",
              "  }\n",
              "\n",
              "  [theme=dark] .colab-df-quickchart {\n",
              "    background-color: #3B4455;\n",
              "    fill: #D2E3FC;\n",
              "  }\n",
              "\n",
              "  [theme=dark] .colab-df-quickchart:hover {\n",
              "    background-color: #434B5C;\n",
              "    box-shadow: 0px 1px 3px 1px rgba(0, 0, 0, 0.15);\n",
              "    filter: drop-shadow(0px 1px 2px rgba(0, 0, 0, 0.3));\n",
              "    fill: #FFFFFF;\n",
              "  }\n",
              "</style>\n",
              "\n",
              "    <script>\n",
              "      async function quickchart(key) {\n",
              "        const containerElement = document.querySelector('#' + key);\n",
              "        const charts = await google.colab.kernel.invokeFunction(\n",
              "            'suggestCharts', [key], {});\n",
              "      }\n",
              "    </script>\n",
              "\n",
              "      <script>\n",
              "\n",
              "function displayQuickchartButton(domScope) {\n",
              "  let quickchartButtonEl =\n",
              "    domScope.querySelector('#df-7a2047ad-f623-4491-92b9-58f88a71eefa button.colab-df-quickchart');\n",
              "  quickchartButtonEl.style.display =\n",
              "    google.colab.kernel.accessAllowed ? 'block' : 'none';\n",
              "}\n",
              "\n",
              "        displayQuickchartButton(document);\n",
              "      </script>\n",
              "      <style>\n",
              "    .colab-df-container {\n",
              "      display:flex;\n",
              "      flex-wrap:wrap;\n",
              "      gap: 12px;\n",
              "    }\n",
              "\n",
              "    .colab-df-convert {\n",
              "      background-color: #E8F0FE;\n",
              "      border: none;\n",
              "      border-radius: 50%;\n",
              "      cursor: pointer;\n",
              "      display: none;\n",
              "      fill: #1967D2;\n",
              "      height: 32px;\n",
              "      padding: 0 0 0 0;\n",
              "      width: 32px;\n",
              "    }\n",
              "\n",
              "    .colab-df-convert:hover {\n",
              "      background-color: #E2EBFA;\n",
              "      box-shadow: 0px 1px 2px rgba(60, 64, 67, 0.3), 0px 1px 3px 1px rgba(60, 64, 67, 0.15);\n",
              "      fill: #174EA6;\n",
              "    }\n",
              "\n",
              "    [theme=dark] .colab-df-convert {\n",
              "      background-color: #3B4455;\n",
              "      fill: #D2E3FC;\n",
              "    }\n",
              "\n",
              "    [theme=dark] .colab-df-convert:hover {\n",
              "      background-color: #434B5C;\n",
              "      box-shadow: 0px 1px 3px 1px rgba(0, 0, 0, 0.15);\n",
              "      filter: drop-shadow(0px 1px 2px rgba(0, 0, 0, 0.3));\n",
              "      fill: #FFFFFF;\n",
              "    }\n",
              "  </style>\n",
              "\n",
              "      <script>\n",
              "        const buttonEl =\n",
              "          document.querySelector('#df-17ebc220-4c45-4881-9f80-73d5a5bb93e5 button.colab-df-convert');\n",
              "        buttonEl.style.display =\n",
              "          google.colab.kernel.accessAllowed ? 'block' : 'none';\n",
              "\n",
              "        async function convertToInteractive(key) {\n",
              "          const element = document.querySelector('#df-17ebc220-4c45-4881-9f80-73d5a5bb93e5');\n",
              "          const dataTable =\n",
              "            await google.colab.kernel.invokeFunction('convertToInteractive',\n",
              "                                                     [key], {});\n",
              "          if (!dataTable) return;\n",
              "\n",
              "          const docLinkHtml = 'Like what you see? Visit the ' +\n",
              "            '<a target=\"_blank\" href=https://colab.research.google.com/notebooks/data_table.ipynb>data table notebook</a>'\n",
              "            + ' to learn more about interactive tables.';\n",
              "          element.innerHTML = '';\n",
              "          dataTable['output_type'] = 'display_data';\n",
              "          await google.colab.output.renderOutput(dataTable, element);\n",
              "          const docLink = document.createElement('div');\n",
              "          docLink.innerHTML = docLinkHtml;\n",
              "          element.appendChild(docLink);\n",
              "        }\n",
              "      </script>\n",
              "    </div>\n",
              "  </div>\n"
            ]
          },
          "metadata": {},
          "execution_count": 1
        }
      ],
      "source": [
        "# pandas 모듈 불러오기\n",
        "# 구분자는 ,(콤마), quotechar는 \"(큰따옴표)\",  error_bad_lines 을 False 로 지정하여 오류가 발생한 줄을 빼고 처리하도록 함\n",
        "# warn_bad_lines 를 False로 하면 경고도 보여주지 않음\n",
        "import pandas as pd\n",
        "\n",
        "df = pd.read_csv('/content/drive/MyDrive/Bigdata_ML/III.빅데이터_분석을 _위한_파이썬_기반_머신러닝/3.텍스트/폭염.csv',\n",
        "                 sep=',', quotechar='\"',\n",
        "                 error_bad_lines=False, warn_bad_lines=False, encoding='utf-8')\n",
        "df.head()"
      ]
    },
    {
      "cell_type": "code",
      "source": [
        "from google.colab import drive\n",
        "drive.mount('/content/drive')"
      ],
      "metadata": {
        "id": "JVsG__kzwxBB",
        "colab": {
          "base_uri": "https://localhost:8080/"
        },
        "outputId": "389f3762-34b8-46ec-b8e3-51ab02ec0131"
      },
      "execution_count": null,
      "outputs": [
        {
          "output_type": "stream",
          "name": "stdout",
          "text": [
            "Mounted at /content/drive\n"
          ]
        }
      ]
    },
    {
      "cell_type": "code",
      "execution_count": null,
      "metadata": {
        "id": "SYvYQ4JPMu1X",
        "colab": {
          "base_uri": "https://localhost:8080/"
        },
        "outputId": "9fc54edd-4af0-4ac8-dddb-28138abdda66"
      },
      "outputs": [
        {
          "output_type": "execute_result",
          "data": {
            "text/plain": [
              "(4924, 18)"
            ]
          },
          "metadata": {},
          "execution_count": 34
        }
      ],
      "source": [
        "# shape 로 데이터 형태 확인\n",
        "# 4924행, 18 열로 구성\n",
        "df.shape"
      ]
    },
    {
      "cell_type": "code",
      "execution_count": null,
      "metadata": {
        "id": "X-CQ3btOMu1X",
        "colab": {
          "base_uri": "https://localhost:8080/"
        },
        "outputId": "c56a441f-2dc8-4b50-84dd-92f8200b786d"
      },
      "outputs": [
        {
          "output_type": "stream",
          "name": "stdout",
          "text": [
            "<class 'pandas.core.frame.DataFrame'>\n",
            "RangeIndex: 4924 entries, 0 to 4923\n",
            "Data columns (total 18 columns):\n",
            " #   Column      Non-Null Count  Dtype \n",
            "---  ------      --------------  ----- \n",
            " 0   주소          4924 non-null   object\n",
            " 1   일자          4924 non-null   int64 \n",
            " 2   언론사         4924 non-null   object\n",
            " 3   기고자         4227 non-null   object\n",
            " 4   제목          4924 non-null   object\n",
            " 5   통합 분류1      4727 non-null   object\n",
            " 6   통합 분류2      3001 non-null   object\n",
            " 7   통합 분류3      1620 non-null   object\n",
            " 8   사건/사고 분류1   1898 non-null   object\n",
            " 9   사건/사고 분류2   402 non-null    object\n",
            " 10  사건/사고 분류3   75 non-null     object\n",
            " 11  개체명(인물)     2056 non-null   object\n",
            " 12  개체명(지역)     4217 non-null   object\n",
            " 13  개체명(기업/기관)  4537 non-null   object\n",
            " 14  키워드         4924 non-null   object\n",
            " 15  특성추출        4924 non-null   object\n",
            " 16  본문          4924 non-null   object\n",
            " 17  원본주소        4697 non-null   object\n",
            "dtypes: int64(1), object(17)\n",
            "memory usage: 692.6+ KB\n"
          ]
        }
      ],
      "source": [
        "# info() : 데이터 정보 확인\n",
        "df.info()"
      ]
    },
    {
      "cell_type": "code",
      "execution_count": null,
      "metadata": {
        "id": "Rpbk0oxZMu1Y",
        "colab": {
          "base_uri": "https://localhost:8080/"
        },
        "outputId": "bc1ce32b-11ca-4f1d-c475-51b47ab83b95"
      },
      "outputs": [
        {
          "output_type": "execute_result",
          "data": {
            "text/plain": [
              "Index(['주소', '일자', '언론사', '기고자', '제목', '통합 분류1', '통합 분류2', '통합 분류3',\n",
              "       '사건/사고 분류1', '사건/사고 분류2', '사건/사고 분류3', '개체명(인물)', '개체명(지역)',\n",
              "       '개체명(기업/기관)', '키워드', '특성추출', '본문', '원본주소'],\n",
              "      dtype='object')"
            ]
          },
          "metadata": {},
          "execution_count": 36
        }
      ],
      "source": [
        "# columns : 컬럼명 확인\n",
        "df.columns"
      ]
    },
    {
      "cell_type": "code",
      "execution_count": null,
      "metadata": {
        "id": "O1yby4X_Mu1Y",
        "colab": {
          "base_uri": "https://localhost:8080/"
        },
        "outputId": "7def52e5-acb0-46c8-c6b0-574885ebabac"
      },
      "outputs": [
        {
          "output_type": "execute_result",
          "data": {
            "text/plain": [
              "0    23일 경북 경산 39.9도까지 치솟아 1942년 8월1일 대구 40.0도 기..열...\n",
              "1    롭스, 네일·염모제 매출 각각 52%·31% ↑ “아무리 더워도 아름다움 양보 못해...\n",
              "2    중국의 창성바이오가 가짜백신으로 상장폐지 위기. 국내 제약바이오주들도 덩달아 급락....\n",
              "3    중국의 창성바이오가 가짜백신으로 상장폐지 위기. 국내 제약바이오주들도 덩달아 급락....\n",
              "4    OECD 주요국과 역행.. 탈원전이 상황 악화시켜       지난해 우리나라 이산화...\n",
              "Name: 본문, dtype: object"
            ]
          },
          "metadata": {},
          "execution_count": 37
        }
      ],
      "source": [
        "# head() 함수를 이용해 '본문' 컬럼만 확인\n",
        "df['본문'].head()"
      ]
    },
    {
      "cell_type": "code",
      "execution_count": null,
      "metadata": {
        "id": "IHn45dYPMu1Y"
      },
      "outputs": [],
      "source": [
        "# 한국어 형태소 분석을 위한 konlpy 의 Okt 분석기 불러오기\n",
        "# 정규표현식 사용을 위해 re 모듈 불러오기\n",
        "from konlpy.tag import Okt\n",
        "import re\n",
        "\n",
        "okt = Okt()  # Okt 형태소 분석기를 불러 okt 에 저장한다."
      ]
    },
    {
      "cell_type": "markdown",
      "source": [
        "#### 명사 추출 함수 만들기"
      ],
      "metadata": {
        "id": "-5vrabnUzAU0"
      }
    },
    {
      "cell_type": "code",
      "execution_count": null,
      "metadata": {
        "id": "nrnsuttTMu1Z",
        "colab": {
          "base_uri": "https://localhost:8080/"
        },
        "outputId": "a219d550-8583-4b8f-b963-b52855ca2f45"
      },
      "outputs": [
        {
          "output_type": "execute_result",
          "data": {
            "text/plain": [
              "['아침', '해', '버스']"
            ]
          },
          "metadata": {},
          "execution_count": 39
        }
      ],
      "source": [
        "# okt 분석기의 nouns 함수로 명사 추출\n",
        "okt.nouns('아침에 해를 보며 버스를 탔다')"
      ]
    },
    {
      "cell_type": "code",
      "execution_count": null,
      "metadata": {
        "id": "QwPTHe5dMu1Z"
      },
      "outputs": [],
      "source": [
        "# get_nouns() 함수 정의\n",
        "# 문장에서 nouns 함수로 명사를 추출하여 nouns 변수에 할당\n",
        "# 단어의 길이가 2 이상인 경우의 단어 추출\n",
        "# 그리고 숫자가 아닌 단어 추출\n",
        "def get_nouns(text):\n",
        "    nouns = okt.nouns(text)\n",
        "    nouns = [word for word in nouns if len(word) > 1]\n",
        "    nouns = [word for word in nouns if not re.match(r'\\d+', word)]\n",
        "    return nouns"
      ]
    },
    {
      "cell_type": "code",
      "execution_count": null,
      "metadata": {
        "id": "5R-S-SSrMu1a",
        "colab": {
          "base_uri": "https://localhost:8080/"
        },
        "outputId": "07cadad7-7f62-404f-809a-d72ba2ec1a92"
      },
      "outputs": [
        {
          "output_type": "execute_result",
          "data": {
            "text/plain": [
              "['아침', '버스']"
            ]
          },
          "metadata": {},
          "execution_count": 41
        }
      ],
      "source": [
        "# 정의한 함수 확인\n",
        "get_nouns('아침에 해를 보며 버스를 탔다')"
      ]
    },
    {
      "cell_type": "code",
      "execution_count": null,
      "metadata": {
        "id": "riKGh02TMu1a"
      },
      "outputs": [],
      "source": [
        "# sklearn.feature_extraction.text 모듈의 CountVectorizer 함수 불러오기\n",
        "# CountVectorizer : 단어의 빈도를 Count하여 Vector로 만들어줌\n",
        "from sklearn.feature_extraction.text import CountVectorizer"
      ]
    },
    {
      "cell_type": "code",
      "execution_count": null,
      "metadata": {
        "id": "gkEKSfUuMu1b"
      },
      "outputs": [],
      "source": [
        "# CountVectorizer에 최대 단어 개수를 1000개, tokenizer로 정의한 get_nouns 함수 지정\n",
        "cv = CountVectorizer(max_features=1000, tokenizer=get_nouns)"
      ]
    },
    {
      "cell_type": "code",
      "execution_count": null,
      "metadata": {
        "id": "YnKxsN6HMu1b",
        "colab": {
          "base_uri": "https://localhost:8080/"
        },
        "outputId": "4f162ce9-2091-4907-ba96-6bd274b4f312"
      },
      "outputs": [
        {
          "output_type": "stream",
          "name": "stderr",
          "text": [
            "/usr/local/lib/python3.10/dist-packages/sklearn/feature_extraction/text.py:528: UserWarning: The parameter 'token_pattern' will not be used since 'tokenizer' is not None'\n",
            "  warnings.warn(\n"
          ]
        }
      ],
      "source": [
        "# 본문에서 추출된 각 단어(정수)의 빈도 수 기록하여 tdm에 할당\n",
        "tdm = cv.fit_transform(df['본문'])"
      ]
    },
    {
      "cell_type": "code",
      "execution_count": null,
      "metadata": {
        "id": "SU55cqAeMu1b"
      },
      "outputs": [],
      "source": [
        "# get_feature_names_out 함수로 추출된 단어를 words 변수에 할당\n",
        "words = cv.get_feature_names_out()"
      ]
    },
    {
      "cell_type": "code",
      "execution_count": null,
      "metadata": {
        "id": "ByKqnaD5Mu1b",
        "colab": {
          "base_uri": "https://localhost:8080/"
        },
        "outputId": "b5d46b57-3265-484f-c1f5-4a75639e6d5a"
      },
      "outputs": [
        {
          "output_type": "execute_result",
          "data": {
            "text/plain": [
              "array(['가격', '가구', '가까이', '가끔', '가능성', '가동', '가두리', '가량', '가마솥', '가뭄'],\n",
              "      dtype=object)"
            ]
          },
          "metadata": {},
          "execution_count": 46
        }
      ],
      "source": [
        "# 첫 10개 단어 확인\n",
        "words[:10]"
      ]
    },
    {
      "cell_type": "code",
      "execution_count": null,
      "metadata": {
        "collapsed": true,
        "id": "4botKi6XMu1c"
      },
      "outputs": [],
      "source": [
        "# 단어별로 인덱스 확인\n",
        "cv.vocabulary_"
      ]
    },
    {
      "cell_type": "code",
      "execution_count": null,
      "metadata": {
        "id": "LCRqIvb0Mu1c",
        "colab": {
          "base_uri": "https://localhost:8080/"
        },
        "outputId": "4bc0d107-88f9-4c0b-a78b-12af3bc7cf34"
      },
      "outputs": [
        {
          "output_type": "execute_result",
          "data": {
            "text/plain": [
              "0"
            ]
          },
          "metadata": {},
          "execution_count": 48
        }
      ],
      "source": [
        "# '가격'의 인덱스 확인\n",
        "cv.vocabulary_['가격']"
      ]
    },
    {
      "cell_type": "code",
      "execution_count": null,
      "metadata": {
        "id": "76d6oLfXMu1d",
        "colab": {
          "base_uri": "https://localhost:8080/"
        },
        "outputId": "83c90965-88c4-4a2c-a5a4-ead515c920f3"
      },
      "outputs": [
        {
          "output_type": "execute_result",
          "data": {
            "text/plain": [
              "array([[0, 0, 0, 0, 0, 0, 0, 0, 0, 0, 0, 0, 0, 0, 0, 0, 0, 0, 0, 0, 0, 0,\n",
              "        0, 0, 0, 0, 0, 0, 0, 0, 0, 0, 0, 0, 0, 0, 0, 0, 0, 0, 0, 0, 0, 0,\n",
              "        0, 0, 0, 0, 0, 0, 0, 0, 0, 0, 0, 0, 0, 1, 1, 0, 0, 0, 0, 0, 0, 0,\n",
              "        2, 0, 0, 0, 0, 0, 0, 0, 0, 0, 0, 0, 0, 0, 0, 0, 0, 0, 0, 0, 0, 0,\n",
              "        0, 0, 0, 0, 0, 0, 0, 0, 0, 0, 0, 0, 1, 0, 0, 0, 0, 0, 0, 0, 0, 0,\n",
              "        0, 0, 0, 0, 0, 0, 0, 0, 0, 0, 0, 0, 0, 0, 0, 0, 0, 0, 0, 0, 0, 0,\n",
              "        0, 0, 0, 0, 0, 0, 0, 0, 0, 0, 0, 0, 1, 0, 0, 1, 0, 0, 0, 0, 0, 1,\n",
              "        0, 0, 0, 0, 0, 0, 0, 0, 0, 0, 0, 0, 0, 0, 0, 0, 0, 0, 0, 0, 0, 0,\n",
              "        0, 0, 0, 0, 0, 0, 0, 0, 0, 0, 0, 0, 0, 0, 0, 0, 0, 0, 0, 0, 0, 0,\n",
              "        0, 0, 0, 0, 0, 0, 0, 0, 0, 0, 0, 0, 0, 0, 0, 0, 1, 0, 0, 0, 0, 0,\n",
              "        0, 0, 0, 0, 0, 0, 0, 0, 0, 0, 0, 0, 0, 0, 1, 0, 0, 0, 0, 0, 0, 0,\n",
              "        0, 0, 0, 0, 0, 0, 0, 0, 0, 0, 0, 0, 0, 0, 0, 0, 0, 0, 0, 0, 0, 0,\n",
              "        0, 0, 0, 0, 0, 0, 0, 0, 0, 0, 0, 0, 0, 0, 0, 0, 0, 0, 0, 0, 0, 0,\n",
              "        0, 0, 0, 0, 0, 0, 0, 0, 0, 0, 0, 0, 0, 0, 0, 0, 0, 0, 0, 0, 0, 0,\n",
              "        0, 0, 0, 0, 0, 0, 0, 0, 0, 0, 0, 0, 0, 0, 0, 0, 0, 0, 0, 0, 0, 0,\n",
              "        0, 0, 0, 0, 0, 0, 0, 0, 0, 0, 0, 0, 0, 0, 0, 0, 0, 0, 0, 0, 0, 0,\n",
              "        0, 0, 0, 0, 0, 0, 0, 0, 0, 0, 0, 0, 0, 0, 0, 0, 0, 0, 0, 0, 0, 0,\n",
              "        0, 0, 0, 0, 0, 0, 0, 0, 0, 0, 0, 0, 0, 0, 0, 0, 0, 0, 0, 0, 0, 0,\n",
              "        1, 0, 0, 0, 0, 0, 0, 0, 0, 0, 0, 0, 0, 0, 0, 0, 0, 0, 0, 0, 0, 0,\n",
              "        0, 0, 0, 0, 0, 0, 0, 0, 0, 0, 0, 0, 0, 0, 0, 0, 0, 0, 0, 0, 0, 0,\n",
              "        0, 0, 0, 0, 0, 0, 0, 0, 0, 0, 0, 0, 0, 0, 0, 0, 0, 0, 0, 0, 0, 0,\n",
              "        0, 0, 0, 0, 0, 0, 0, 0, 0, 0, 0, 0, 0, 0, 0, 0, 0, 0, 0, 0, 0, 0,\n",
              "        0, 0, 0, 0, 0, 0, 0, 0, 0, 0, 0, 0, 0, 0, 0, 0, 0, 0, 0, 0, 0, 0,\n",
              "        0, 0, 0, 0, 0, 0, 0, 0, 0, 0, 0, 0, 0, 0, 0, 0, 0, 0, 0, 0, 0, 0,\n",
              "        0, 0, 0, 0, 0, 0, 0, 0, 0, 0, 0, 0, 0, 0, 0, 0, 0, 0, 0, 0, 0, 0,\n",
              "        0, 0, 0, 0, 0, 0, 0, 0, 0, 0, 0, 0, 0, 0, 0, 0, 0, 0, 0, 0, 0, 1,\n",
              "        0, 0, 0, 0, 0, 0, 0, 0, 0, 0, 0, 0, 0, 0, 1, 0, 0, 0, 0, 0, 0, 0,\n",
              "        0, 0, 0, 0, 0, 0, 0, 0, 0, 0, 0, 0, 0, 0, 0, 0, 1, 0, 0, 0, 0, 0,\n",
              "        0, 0, 0, 0, 0, 0, 0, 0, 1, 0, 0, 0, 0, 0, 0, 0, 0, 0, 0, 0, 0, 0,\n",
              "        0, 0, 0, 0, 0, 0, 0, 0, 0, 0, 0, 0, 0, 0, 0, 0, 0, 0, 0, 0, 0, 0,\n",
              "        0, 0, 0, 0, 0, 0, 0, 0, 0, 0, 0, 0, 0, 0, 0, 0, 0, 0, 0, 0, 0, 0,\n",
              "        0, 0, 0, 0, 0, 0, 0, 0, 0, 0, 0, 0, 0, 0, 0, 0, 0, 0, 0, 0, 0, 0,\n",
              "        0, 0, 0, 0, 0, 0, 0, 0, 0, 0, 0, 0, 0, 0, 0, 0, 0, 0, 0, 0, 0, 0,\n",
              "        0, 0, 0, 0, 0, 0, 0, 0, 0, 1, 0, 0, 0, 0, 0, 0, 0, 0, 0, 0, 0, 0,\n",
              "        0, 0, 0, 0, 0, 0, 0, 0, 0, 0, 0, 0, 0, 0, 0, 0, 0, 0, 0, 0, 0, 0,\n",
              "        0, 0, 0, 0, 0, 0, 0, 0, 0, 0, 0, 0, 0, 0, 0, 0, 0, 0, 0, 0, 1, 0,\n",
              "        0, 0, 0, 0, 0, 0, 0, 0, 0, 0, 0, 0, 0, 0, 0, 0, 0, 0, 0, 1, 0, 0,\n",
              "        0, 0, 0, 0, 0, 0, 0, 0, 0, 0, 0, 0, 0, 0, 0, 0, 0, 0, 0, 0, 0, 0,\n",
              "        0, 0, 0, 0, 0, 0, 0, 0, 0, 0, 0, 0, 0, 0, 0, 0, 0, 0, 0, 0, 0, 0,\n",
              "        0, 0, 0, 0, 0, 0, 0, 0, 0, 0, 0, 0, 0, 0, 0, 2, 0, 0, 0, 0, 0, 0,\n",
              "        0, 0, 0, 0, 0, 0, 0, 0, 0, 0, 0, 0, 0, 0, 0, 0, 0, 0, 0, 0, 0, 0,\n",
              "        0, 0, 0, 0, 0, 0, 0, 0, 0, 0, 0, 0, 0, 0, 0, 0, 0, 0, 0, 0, 0, 0,\n",
              "        0, 0, 0, 0, 5, 0, 0, 0, 0, 0, 0, 0, 0, 0, 0, 0, 0, 0, 0, 0, 0, 0,\n",
              "        0, 0, 0, 0, 0, 0, 0, 0, 0, 0, 0, 0, 0, 0, 0, 0, 0, 0, 0, 0, 0, 0,\n",
              "        0, 0, 0, 0, 0, 0, 0, 0, 0, 0, 0, 0, 0, 0, 0, 0, 0, 0, 0, 0, 0, 0,\n",
              "        0, 0, 0, 0, 0, 0, 0, 0, 0, 0]])"
            ]
          },
          "metadata": {},
          "execution_count": 8
        }
      ],
      "source": [
        "# 0번 문장의 bow 확인\n",
        "# tdm의 0번 인덱스에 해당하는 배열 확인\n",
        "doc = tdm[0].toarray()\n",
        "doc"
      ]
    },
    {
      "cell_type": "code",
      "execution_count": null,
      "metadata": {
        "id": "fvv6FhXCMu1d",
        "colab": {
          "base_uri": "https://localhost:8080/"
        },
        "outputId": "18da9ce2-65ff-42eb-85fb-ba4e944ee89a"
      },
      "outputs": [
        {
          "output_type": "stream",
          "name": "stdout",
          "text": [
            "[[  124    85    53    31   247   184    28    70    65   177   751   217\n",
            "     40   164    77    27   256    35    28    66    29    48    69    29\n",
            "     32    49   104    30   109    70    60    28   104    46    33    58\n",
            "     35    32    44   102    28    54    81    44   117   422    34   164\n",
            "     66    72   105    50   190   138   129   125   259   213    34    83\n",
            "    193   150    85    65    32    63  1186    43   311   183    90    48\n",
            "     30    34    41    37    79    32    45   159    40    62   142    39\n",
            "     48    47   175    66   143    57    28    42    37    82    29    72\n",
            "    147   216   607    95    83    76   174    45    29    59   202    54\n",
            "     38    32    28    29    74    33    76    35    31    28    29    34\n",
            "     46    52    77   144    36    72    67   103    40    44    35   147\n",
            "     29    39    30   163   100    43    33   248   210    91    42    43\n",
            "    834    82    33   334    34   132    68   289    82   970  1140   104\n",
            "     29    47   195    80    75    32    27   225    54    40    42    30\n",
            "     44    68    31   181    28   201    50    71   254    92    50    78\n",
            "     30    37   309    53    29    37   107   137   164    43    51   201\n",
            "     95    57    46    57    39    28    39   194   187    64    37    33\n",
            "     36    44    81    37    50   227    94    55    30    36   288    40\n",
            "    211   524   239    34    29   418   151    28   728    83   109   150\n",
            "     35   364   107    87    79   115   861    84   335    29    44    74\n",
            "    106    68    30    36    75    28    30    40    35   139    39    35\n",
            "    105    32   210    27   326    52   102    32    38    68    36    38\n",
            "     30    28   341   114   166    83    67    32    43    51   133    30\n",
            "     36    31    40   136   124    28    71   147    39    54    31    70\n",
            "     62    32   109    72    49   109    31    27    28   718    57    53\n",
            "    145   113    56   198    34    58    38    63    27    32    38    82\n",
            "     30    95    61    65    33    40    29    94    28   198   764    51\n",
            "     96    40   232    27    48    40   401    55    34   104    99    50\n",
            "     90    28    86    54    29    39    42    54    29    28    45   104\n",
            "     28    42    34    34    35    28    58   120   156    47   141    65\n",
            "     54    35    71    59    33   157    29    89    41   120   223    51\n",
            "     88    30    64    75    64    29   224    41    51    28    71    29\n",
            "     35    56    32    31    43    35    31   144    29    66    33    65\n",
            "    112    82    29   127    36   136    32    91    28    47   455    30\n",
            "    223    89    31   107    69   112    59   279   162    76    52    40\n",
            "    275    59    93   126    33    80   136    42    38    61    68    65\n",
            "    103    28    59    33    28   125   135    50   493    37    53    53\n",
            "     44    77    66    34   111    36    41    70   936    32    62    34\n",
            "    160    51    44    62   154    96    44   258    53    32    42    44\n",
            "     47    28    37   229    30   166    50    93    43    74   102    27\n",
            "     61    32    65    33    76   155    68    76    55    43    43    27\n",
            "    144   374    46   240    29    40    65    30    35    30   249    54\n",
            "     62    29   481   304    46   261   160    36    40    74    31    29\n",
            "     54    92    71   233    48    50    38    34    35    58    65    96\n",
            "     42   104   135    36    85   148    38    65    50    35   752    75\n",
            "     65    28    57   295    30   169    33    38    37    92   102   264\n",
            "    177   208   117    89    51    65    54   100   294    45    36   612\n",
            "     29   268    97    51    44    50    31   170    34    31    28    36\n",
            "     38   968    50    30    44    77   373   117    29    52    38    63\n",
            "     28    94    58   299    37    47   525   172    65   311    29   106\n",
            "     76   484   340    77   563    48    43   179    37   111   419    61\n",
            "     38    33    35    49    44   172   149    32    95    33   286   104\n",
            "     79    42    27    46   420    36    82   126   128    43   109    32\n",
            "     59    71    27    52    76    68   881    89    39    27    67    28\n",
            "     43    94    27    28    50   120    38    57    31    40    34    54\n",
            "     45   134    59    53    31    38   497    55   354    44    27    71\n",
            "    140    87    58    40    56    33   155    95    75    77    31    34\n",
            "     42   130    48   140   160   179    32    39    38   100    68    28\n",
            "     42    58    43    43    33    32    30    28    91    48   145    36\n",
            "     50    83    49    40    38    33   228    86    28   108   261    57\n",
            "     94    68    34    49    49   503    29    45    74    40    28    31\n",
            "    126    32    55   705    95   162    30    64   104   150   612   331\n",
            "     61    53    40    54    30    44    63    29    30    47    61   458\n",
            "     54    46   143    27    28    60   315    53    37    34    91    80\n",
            "     46   210    29    42    65    75    40    46   100    41    96    80\n",
            "     34    34    54    34   253    47    31   134    38   138    36    55\n",
            "    365   100   105   132   251    43    28    31    36    32    59    37\n",
            "     77    39    96    30    41    87    85    84   153    48    37    85\n",
            "    114   238    61   103   852    27   159    28    56   218    43   826\n",
            "     61    48  1176    38   271    58    61    27    44   172   145    38\n",
            "    234    40   363    43    29   150   110   298    52    39    67    71\n",
            "     64    65    30    28    33    51    33    44    58    77    67    62\n",
            "    102    31    49    28   107    28    31    75    36   534   548   238\n",
            "     96   248   228    75    95    59   267    41   106    45   179    36\n",
            "     64    39    79   193    27    44    35    63   473    74    31    41\n",
            "     77    31   138    42   426    44    60    29   116    39   179    60\n",
            "    173   411    37    39    32   115    51    55    75    69    45    28\n",
            "     76    35   105    62 10685    39    41    29    27    28    38  1352\n",
            "     30    58    54   140    63    97    37   234    46   146   132    46\n",
            "     79    49    34    29    75    77    95    45    28    59    37    39\n",
            "    122   202   103    28   151   165    29   549   266    37    58    39\n",
            "     28    98    44   178    37    43    93    27   122   100    51    88\n",
            "     89   142   140   347    63    36    49    34    57   141    92    65\n",
            "     36   301   111    36]]\n"
          ]
        }
      ],
      "source": [
        "# tdm을 열방향으로 더해줌\n",
        "# 결과는 각 단어들의 사용 빈도\n",
        "count = tdm.sum(axis=0)  # 열 방향으로 사용 단어들의 합\n",
        "print(count)"
      ]
    },
    {
      "cell_type": "code",
      "execution_count": null,
      "metadata": {
        "id": "XNUi5tPLMu1d"
      },
      "outputs": [],
      "source": [
        "# 단어와 빈도를 Data Frame 형식으로 출력\n",
        "word_count = pd.DataFrame(\n",
        "    {'단어': cv.get_feature_names_out(),\n",
        "    '빈도': count.flat}\n",
        ")"
      ]
    },
    {
      "cell_type": "code",
      "execution_count": null,
      "metadata": {
        "id": "iJwE2115Mu1d",
        "colab": {
          "base_uri": "https://localhost:8080/",
          "height": 206
        },
        "outputId": "1f7386c2-7550-46b3-8612-626900dbf827"
      },
      "outputs": [
        {
          "output_type": "execute_result",
          "data": {
            "text/plain": [
              "     단어   빈도\n",
              "995  효과   65\n",
              "996  훈련   36\n",
              "997  휴가  301\n",
              "998  휴식  111\n",
              "999  휴일   36"
            ],
            "text/html": [
              "\n",
              "\n",
              "  <div id=\"df-5eea110b-e089-4dfd-888c-62a538229045\">\n",
              "    <div class=\"colab-df-container\">\n",
              "      <div>\n",
              "<style scoped>\n",
              "    .dataframe tbody tr th:only-of-type {\n",
              "        vertical-align: middle;\n",
              "    }\n",
              "\n",
              "    .dataframe tbody tr th {\n",
              "        vertical-align: top;\n",
              "    }\n",
              "\n",
              "    .dataframe thead th {\n",
              "        text-align: right;\n",
              "    }\n",
              "</style>\n",
              "<table border=\"1\" class=\"dataframe\">\n",
              "  <thead>\n",
              "    <tr style=\"text-align: right;\">\n",
              "      <th></th>\n",
              "      <th>단어</th>\n",
              "      <th>빈도</th>\n",
              "    </tr>\n",
              "  </thead>\n",
              "  <tbody>\n",
              "    <tr>\n",
              "      <th>995</th>\n",
              "      <td>효과</td>\n",
              "      <td>65</td>\n",
              "    </tr>\n",
              "    <tr>\n",
              "      <th>996</th>\n",
              "      <td>훈련</td>\n",
              "      <td>36</td>\n",
              "    </tr>\n",
              "    <tr>\n",
              "      <th>997</th>\n",
              "      <td>휴가</td>\n",
              "      <td>301</td>\n",
              "    </tr>\n",
              "    <tr>\n",
              "      <th>998</th>\n",
              "      <td>휴식</td>\n",
              "      <td>111</td>\n",
              "    </tr>\n",
              "    <tr>\n",
              "      <th>999</th>\n",
              "      <td>휴일</td>\n",
              "      <td>36</td>\n",
              "    </tr>\n",
              "  </tbody>\n",
              "</table>\n",
              "</div>\n",
              "      <button class=\"colab-df-convert\" onclick=\"convertToInteractive('df-5eea110b-e089-4dfd-888c-62a538229045')\"\n",
              "              title=\"Convert this dataframe to an interactive table.\"\n",
              "              style=\"display:none;\">\n",
              "\n",
              "  <svg xmlns=\"http://www.w3.org/2000/svg\" height=\"24px\"viewBox=\"0 0 24 24\"\n",
              "       width=\"24px\">\n",
              "    <path d=\"M0 0h24v24H0V0z\" fill=\"none\"/>\n",
              "    <path d=\"M18.56 5.44l.94 2.06.94-2.06 2.06-.94-2.06-.94-.94-2.06-.94 2.06-2.06.94zm-11 1L8.5 8.5l.94-2.06 2.06-.94-2.06-.94L8.5 2.5l-.94 2.06-2.06.94zm10 10l.94 2.06.94-2.06 2.06-.94-2.06-.94-.94-2.06-.94 2.06-2.06.94z\"/><path d=\"M17.41 7.96l-1.37-1.37c-.4-.4-.92-.59-1.43-.59-.52 0-1.04.2-1.43.59L10.3 9.45l-7.72 7.72c-.78.78-.78 2.05 0 2.83L4 21.41c.39.39.9.59 1.41.59.51 0 1.02-.2 1.41-.59l7.78-7.78 2.81-2.81c.8-.78.8-2.07 0-2.86zM5.41 20L4 18.59l7.72-7.72 1.47 1.35L5.41 20z\"/>\n",
              "  </svg>\n",
              "      </button>\n",
              "\n",
              "\n",
              "\n",
              "    <div id=\"df-9a31816a-0795-40f8-9f65-a259f46bd4f6\">\n",
              "      <button class=\"colab-df-quickchart\" onclick=\"quickchart('df-9a31816a-0795-40f8-9f65-a259f46bd4f6')\"\n",
              "              title=\"Suggest charts.\"\n",
              "              style=\"display:none;\">\n",
              "\n",
              "<svg xmlns=\"http://www.w3.org/2000/svg\" height=\"24px\"viewBox=\"0 0 24 24\"\n",
              "     width=\"24px\">\n",
              "    <g>\n",
              "        <path d=\"M19 3H5c-1.1 0-2 .9-2 2v14c0 1.1.9 2 2 2h14c1.1 0 2-.9 2-2V5c0-1.1-.9-2-2-2zM9 17H7v-7h2v7zm4 0h-2V7h2v10zm4 0h-2v-4h2v4z\"/>\n",
              "    </g>\n",
              "</svg>\n",
              "      </button>\n",
              "    </div>\n",
              "\n",
              "<style>\n",
              "  .colab-df-quickchart {\n",
              "    background-color: #E8F0FE;\n",
              "    border: none;\n",
              "    border-radius: 50%;\n",
              "    cursor: pointer;\n",
              "    display: none;\n",
              "    fill: #1967D2;\n",
              "    height: 32px;\n",
              "    padding: 0 0 0 0;\n",
              "    width: 32px;\n",
              "  }\n",
              "\n",
              "  .colab-df-quickchart:hover {\n",
              "    background-color: #E2EBFA;\n",
              "    box-shadow: 0px 1px 2px rgba(60, 64, 67, 0.3), 0px 1px 3px 1px rgba(60, 64, 67, 0.15);\n",
              "    fill: #174EA6;\n",
              "  }\n",
              "\n",
              "  [theme=dark] .colab-df-quickchart {\n",
              "    background-color: #3B4455;\n",
              "    fill: #D2E3FC;\n",
              "  }\n",
              "\n",
              "  [theme=dark] .colab-df-quickchart:hover {\n",
              "    background-color: #434B5C;\n",
              "    box-shadow: 0px 1px 3px 1px rgba(0, 0, 0, 0.15);\n",
              "    filter: drop-shadow(0px 1px 2px rgba(0, 0, 0, 0.3));\n",
              "    fill: #FFFFFF;\n",
              "  }\n",
              "</style>\n",
              "\n",
              "    <script>\n",
              "      async function quickchart(key) {\n",
              "        const containerElement = document.querySelector('#' + key);\n",
              "        const charts = await google.colab.kernel.invokeFunction(\n",
              "            'suggestCharts', [key], {});\n",
              "      }\n",
              "    </script>\n",
              "\n",
              "      <script>\n",
              "\n",
              "function displayQuickchartButton(domScope) {\n",
              "  let quickchartButtonEl =\n",
              "    domScope.querySelector('#df-9a31816a-0795-40f8-9f65-a259f46bd4f6 button.colab-df-quickchart');\n",
              "  quickchartButtonEl.style.display =\n",
              "    google.colab.kernel.accessAllowed ? 'block' : 'none';\n",
              "}\n",
              "\n",
              "        displayQuickchartButton(document);\n",
              "      </script>\n",
              "      <style>\n",
              "    .colab-df-container {\n",
              "      display:flex;\n",
              "      flex-wrap:wrap;\n",
              "      gap: 12px;\n",
              "    }\n",
              "\n",
              "    .colab-df-convert {\n",
              "      background-color: #E8F0FE;\n",
              "      border: none;\n",
              "      border-radius: 50%;\n",
              "      cursor: pointer;\n",
              "      display: none;\n",
              "      fill: #1967D2;\n",
              "      height: 32px;\n",
              "      padding: 0 0 0 0;\n",
              "      width: 32px;\n",
              "    }\n",
              "\n",
              "    .colab-df-convert:hover {\n",
              "      background-color: #E2EBFA;\n",
              "      box-shadow: 0px 1px 2px rgba(60, 64, 67, 0.3), 0px 1px 3px 1px rgba(60, 64, 67, 0.15);\n",
              "      fill: #174EA6;\n",
              "    }\n",
              "\n",
              "    [theme=dark] .colab-df-convert {\n",
              "      background-color: #3B4455;\n",
              "      fill: #D2E3FC;\n",
              "    }\n",
              "\n",
              "    [theme=dark] .colab-df-convert:hover {\n",
              "      background-color: #434B5C;\n",
              "      box-shadow: 0px 1px 3px 1px rgba(0, 0, 0, 0.15);\n",
              "      filter: drop-shadow(0px 1px 2px rgba(0, 0, 0, 0.3));\n",
              "      fill: #FFFFFF;\n",
              "    }\n",
              "  </style>\n",
              "\n",
              "      <script>\n",
              "        const buttonEl =\n",
              "          document.querySelector('#df-5eea110b-e089-4dfd-888c-62a538229045 button.colab-df-convert');\n",
              "        buttonEl.style.display =\n",
              "          google.colab.kernel.accessAllowed ? 'block' : 'none';\n",
              "\n",
              "        async function convertToInteractive(key) {\n",
              "          const element = document.querySelector('#df-5eea110b-e089-4dfd-888c-62a538229045');\n",
              "          const dataTable =\n",
              "            await google.colab.kernel.invokeFunction('convertToInteractive',\n",
              "                                                     [key], {});\n",
              "          if (!dataTable) return;\n",
              "\n",
              "          const docLinkHtml = 'Like what you see? Visit the ' +\n",
              "            '<a target=\"_blank\" href=https://colab.research.google.com/notebooks/data_table.ipynb>data table notebook</a>'\n",
              "            + ' to learn more about interactive tables.';\n",
              "          element.innerHTML = '';\n",
              "          dataTable['output_type'] = 'display_data';\n",
              "          await google.colab.output.renderOutput(dataTable, element);\n",
              "          const docLink = document.createElement('div');\n",
              "          docLink.innerHTML = docLinkHtml;\n",
              "          element.appendChild(docLink);\n",
              "        }\n",
              "      </script>\n",
              "    </div>\n",
              "  </div>\n"
            ]
          },
          "metadata": {},
          "execution_count": 52
        }
      ],
      "source": [
        "# 마지막 5개 확인\n",
        "word_count.tail()"
      ]
    },
    {
      "cell_type": "code",
      "execution_count": null,
      "metadata": {
        "id": "uemoUINOMu1e"
      },
      "outputs": [],
      "source": [
        "# 빈도를 기준으로 내림차순 정렬\n",
        "sorted_df = word_count.sort_values('빈도', ascending=False)"
      ]
    },
    {
      "cell_type": "code",
      "execution_count": null,
      "metadata": {
        "scrolled": true,
        "id": "a78Z0jMZMu1e",
        "colab": {
          "base_uri": "https://localhost:8080/",
          "height": 363
        },
        "outputId": "2d1ff925-b55f-4d67-eda5-26403fc03b19"
      },
      "outputs": [
        {
          "output_type": "execute_result",
          "data": {
            "text/plain": [
              "     단어     빈도\n",
              "928  폭염  10685\n",
              "935  피해   1352\n",
              "66   계속   1186\n",
              "830  지역   1176\n",
              "154  기자   1140\n",
              "153  기온    970\n",
              "577  연일    968\n",
              "452  서울    936\n",
              "642  위해    881\n",
              "234  더위    861"
            ],
            "text/html": [
              "\n",
              "\n",
              "  <div id=\"df-7168e33d-d637-498e-ba52-9f671113b0d4\">\n",
              "    <div class=\"colab-df-container\">\n",
              "      <div>\n",
              "<style scoped>\n",
              "    .dataframe tbody tr th:only-of-type {\n",
              "        vertical-align: middle;\n",
              "    }\n",
              "\n",
              "    .dataframe tbody tr th {\n",
              "        vertical-align: top;\n",
              "    }\n",
              "\n",
              "    .dataframe thead th {\n",
              "        text-align: right;\n",
              "    }\n",
              "</style>\n",
              "<table border=\"1\" class=\"dataframe\">\n",
              "  <thead>\n",
              "    <tr style=\"text-align: right;\">\n",
              "      <th></th>\n",
              "      <th>단어</th>\n",
              "      <th>빈도</th>\n",
              "    </tr>\n",
              "  </thead>\n",
              "  <tbody>\n",
              "    <tr>\n",
              "      <th>928</th>\n",
              "      <td>폭염</td>\n",
              "      <td>10685</td>\n",
              "    </tr>\n",
              "    <tr>\n",
              "      <th>935</th>\n",
              "      <td>피해</td>\n",
              "      <td>1352</td>\n",
              "    </tr>\n",
              "    <tr>\n",
              "      <th>66</th>\n",
              "      <td>계속</td>\n",
              "      <td>1186</td>\n",
              "    </tr>\n",
              "    <tr>\n",
              "      <th>830</th>\n",
              "      <td>지역</td>\n",
              "      <td>1176</td>\n",
              "    </tr>\n",
              "    <tr>\n",
              "      <th>154</th>\n",
              "      <td>기자</td>\n",
              "      <td>1140</td>\n",
              "    </tr>\n",
              "    <tr>\n",
              "      <th>153</th>\n",
              "      <td>기온</td>\n",
              "      <td>970</td>\n",
              "    </tr>\n",
              "    <tr>\n",
              "      <th>577</th>\n",
              "      <td>연일</td>\n",
              "      <td>968</td>\n",
              "    </tr>\n",
              "    <tr>\n",
              "      <th>452</th>\n",
              "      <td>서울</td>\n",
              "      <td>936</td>\n",
              "    </tr>\n",
              "    <tr>\n",
              "      <th>642</th>\n",
              "      <td>위해</td>\n",
              "      <td>881</td>\n",
              "    </tr>\n",
              "    <tr>\n",
              "      <th>234</th>\n",
              "      <td>더위</td>\n",
              "      <td>861</td>\n",
              "    </tr>\n",
              "  </tbody>\n",
              "</table>\n",
              "</div>\n",
              "      <button class=\"colab-df-convert\" onclick=\"convertToInteractive('df-7168e33d-d637-498e-ba52-9f671113b0d4')\"\n",
              "              title=\"Convert this dataframe to an interactive table.\"\n",
              "              style=\"display:none;\">\n",
              "\n",
              "  <svg xmlns=\"http://www.w3.org/2000/svg\" height=\"24px\"viewBox=\"0 0 24 24\"\n",
              "       width=\"24px\">\n",
              "    <path d=\"M0 0h24v24H0V0z\" fill=\"none\"/>\n",
              "    <path d=\"M18.56 5.44l.94 2.06.94-2.06 2.06-.94-2.06-.94-.94-2.06-.94 2.06-2.06.94zm-11 1L8.5 8.5l.94-2.06 2.06-.94-2.06-.94L8.5 2.5l-.94 2.06-2.06.94zm10 10l.94 2.06.94-2.06 2.06-.94-2.06-.94-.94-2.06-.94 2.06-2.06.94z\"/><path d=\"M17.41 7.96l-1.37-1.37c-.4-.4-.92-.59-1.43-.59-.52 0-1.04.2-1.43.59L10.3 9.45l-7.72 7.72c-.78.78-.78 2.05 0 2.83L4 21.41c.39.39.9.59 1.41.59.51 0 1.02-.2 1.41-.59l7.78-7.78 2.81-2.81c.8-.78.8-2.07 0-2.86zM5.41 20L4 18.59l7.72-7.72 1.47 1.35L5.41 20z\"/>\n",
              "  </svg>\n",
              "      </button>\n",
              "\n",
              "\n",
              "\n",
              "    <div id=\"df-438fb928-61bf-4b95-9dd4-b2c2e2dbcad2\">\n",
              "      <button class=\"colab-df-quickchart\" onclick=\"quickchart('df-438fb928-61bf-4b95-9dd4-b2c2e2dbcad2')\"\n",
              "              title=\"Suggest charts.\"\n",
              "              style=\"display:none;\">\n",
              "\n",
              "<svg xmlns=\"http://www.w3.org/2000/svg\" height=\"24px\"viewBox=\"0 0 24 24\"\n",
              "     width=\"24px\">\n",
              "    <g>\n",
              "        <path d=\"M19 3H5c-1.1 0-2 .9-2 2v14c0 1.1.9 2 2 2h14c1.1 0 2-.9 2-2V5c0-1.1-.9-2-2-2zM9 17H7v-7h2v7zm4 0h-2V7h2v10zm4 0h-2v-4h2v4z\"/>\n",
              "    </g>\n",
              "</svg>\n",
              "      </button>\n",
              "    </div>\n",
              "\n",
              "<style>\n",
              "  .colab-df-quickchart {\n",
              "    background-color: #E8F0FE;\n",
              "    border: none;\n",
              "    border-radius: 50%;\n",
              "    cursor: pointer;\n",
              "    display: none;\n",
              "    fill: #1967D2;\n",
              "    height: 32px;\n",
              "    padding: 0 0 0 0;\n",
              "    width: 32px;\n",
              "  }\n",
              "\n",
              "  .colab-df-quickchart:hover {\n",
              "    background-color: #E2EBFA;\n",
              "    box-shadow: 0px 1px 2px rgba(60, 64, 67, 0.3), 0px 1px 3px 1px rgba(60, 64, 67, 0.15);\n",
              "    fill: #174EA6;\n",
              "  }\n",
              "\n",
              "  [theme=dark] .colab-df-quickchart {\n",
              "    background-color: #3B4455;\n",
              "    fill: #D2E3FC;\n",
              "  }\n",
              "\n",
              "  [theme=dark] .colab-df-quickchart:hover {\n",
              "    background-color: #434B5C;\n",
              "    box-shadow: 0px 1px 3px 1px rgba(0, 0, 0, 0.15);\n",
              "    filter: drop-shadow(0px 1px 2px rgba(0, 0, 0, 0.3));\n",
              "    fill: #FFFFFF;\n",
              "  }\n",
              "</style>\n",
              "\n",
              "    <script>\n",
              "      async function quickchart(key) {\n",
              "        const containerElement = document.querySelector('#' + key);\n",
              "        const charts = await google.colab.kernel.invokeFunction(\n",
              "            'suggestCharts', [key], {});\n",
              "      }\n",
              "    </script>\n",
              "\n",
              "      <script>\n",
              "\n",
              "function displayQuickchartButton(domScope) {\n",
              "  let quickchartButtonEl =\n",
              "    domScope.querySelector('#df-438fb928-61bf-4b95-9dd4-b2c2e2dbcad2 button.colab-df-quickchart');\n",
              "  quickchartButtonEl.style.display =\n",
              "    google.colab.kernel.accessAllowed ? 'block' : 'none';\n",
              "}\n",
              "\n",
              "        displayQuickchartButton(document);\n",
              "      </script>\n",
              "      <style>\n",
              "    .colab-df-container {\n",
              "      display:flex;\n",
              "      flex-wrap:wrap;\n",
              "      gap: 12px;\n",
              "    }\n",
              "\n",
              "    .colab-df-convert {\n",
              "      background-color: #E8F0FE;\n",
              "      border: none;\n",
              "      border-radius: 50%;\n",
              "      cursor: pointer;\n",
              "      display: none;\n",
              "      fill: #1967D2;\n",
              "      height: 32px;\n",
              "      padding: 0 0 0 0;\n",
              "      width: 32px;\n",
              "    }\n",
              "\n",
              "    .colab-df-convert:hover {\n",
              "      background-color: #E2EBFA;\n",
              "      box-shadow: 0px 1px 2px rgba(60, 64, 67, 0.3), 0px 1px 3px 1px rgba(60, 64, 67, 0.15);\n",
              "      fill: #174EA6;\n",
              "    }\n",
              "\n",
              "    [theme=dark] .colab-df-convert {\n",
              "      background-color: #3B4455;\n",
              "      fill: #D2E3FC;\n",
              "    }\n",
              "\n",
              "    [theme=dark] .colab-df-convert:hover {\n",
              "      background-color: #434B5C;\n",
              "      box-shadow: 0px 1px 3px 1px rgba(0, 0, 0, 0.15);\n",
              "      filter: drop-shadow(0px 1px 2px rgba(0, 0, 0, 0.3));\n",
              "      fill: #FFFFFF;\n",
              "    }\n",
              "  </style>\n",
              "\n",
              "      <script>\n",
              "        const buttonEl =\n",
              "          document.querySelector('#df-7168e33d-d637-498e-ba52-9f671113b0d4 button.colab-df-convert');\n",
              "        buttonEl.style.display =\n",
              "          google.colab.kernel.accessAllowed ? 'block' : 'none';\n",
              "\n",
              "        async function convertToInteractive(key) {\n",
              "          const element = document.querySelector('#df-7168e33d-d637-498e-ba52-9f671113b0d4');\n",
              "          const dataTable =\n",
              "            await google.colab.kernel.invokeFunction('convertToInteractive',\n",
              "                                                     [key], {});\n",
              "          if (!dataTable) return;\n",
              "\n",
              "          const docLinkHtml = 'Like what you see? Visit the ' +\n",
              "            '<a target=\"_blank\" href=https://colab.research.google.com/notebooks/data_table.ipynb>data table notebook</a>'\n",
              "            + ' to learn more about interactive tables.';\n",
              "          element.innerHTML = '';\n",
              "          dataTable['output_type'] = 'display_data';\n",
              "          await google.colab.output.renderOutput(dataTable, element);\n",
              "          const docLink = document.createElement('div');\n",
              "          docLink.innerHTML = docLinkHtml;\n",
              "          element.appendChild(docLink);\n",
              "        }\n",
              "      </script>\n",
              "    </div>\n",
              "  </div>\n"
            ]
          },
          "metadata": {},
          "execution_count": 54
        }
      ],
      "source": [
        "# 가장 많이 출현한 단어 10개 확인\n",
        "sorted_df.head(10)"
      ]
    },
    {
      "cell_type": "code",
      "source": [],
      "metadata": {
        "id": "4-3sbhdH242P"
      },
      "execution_count": null,
      "outputs": []
    },
    {
      "cell_type": "code",
      "source": [
        "!sudo apt-get install -y fonts-nanum > /dev/null 2>&1\n",
        "!sudo fc-cache -fv > /dev/null 2>&1\n",
        "!rm ~/.cache/matplotlib -rf > /dev/null 2>&1"
      ],
      "metadata": {
        "id": "rG4_wfPAmbX0"
      },
      "execution_count": null,
      "outputs": []
    },
    {
      "cell_type": "code",
      "execution_count": null,
      "metadata": {
        "id": "OFVANEHKMu1e",
        "colab": {
          "base_uri": "https://localhost:8080/",
          "height": 430
        },
        "outputId": "4de7e725-e02f-4dd2-e58f-774e3383302c"
      },
      "outputs": [
        {
          "output_type": "display_data",
          "data": {
            "text/plain": [
              "<Figure size 640x480 with 1 Axes>"
            ],
            "image/png": "[encoded data removed]"
          },
          "metadata": {}
        }
      ],
      "source": [
        "# matplotlib.pypot 모듈 불러오기\n",
        "# 가장 많이 출현한 20개 단어를 가로 막대 그래프로 나타냄\n",
        "import matplotlib.pyplot as plt\n",
        "\n",
        "plt.rcParams['font.family'] = 'NanumBarunGothic' # 나눔바른고딕 적용하기\n",
        "\n",
        "plt.barh(sorted_df.head(20)[\"단어\"], sorted_df.head(20)[\"빈도\"])\n",
        "plt.show()"
      ]
    },
    {
      "cell_type": "markdown",
      "metadata": {
        "id": "-gMpXAogMu1f"
      },
      "source": [
        "## TF-IDF"
      ]
    },
    {
      "cell_type": "code",
      "execution_count": null,
      "metadata": {
        "scrolled": true,
        "id": "_tuJwJWpMu1g",
        "colab": {
          "base_uri": "https://localhost:8080/"
        },
        "outputId": "81876a70-a56a-4306-cc1b-80c7f4ad8968"
      },
      "outputs": [
        {
          "output_type": "stream",
          "name": "stdout",
          "text": [
            "[[0.         0.46735098 0.         0.46735098 0.         0.46735098\n",
            "  0.         0.35543247 0.46735098]\n",
            " [0.         0.         0.79596054 0.         0.         0.\n",
            "  0.         0.60534851 0.        ]\n",
            " [0.57735027 0.         0.         0.         0.57735027 0.\n",
            "  0.57735027 0.         0.        ]]\n",
            "{'you': 7, 'know': 1, 'want': 5, 'your': 8, 'love': 3, 'like': 2, 'what': 6, 'should': 4, 'do': 0}\n"
          ]
        }
      ],
      "source": [
        "# sklearn.feature_extraction.text 의 TfidfVectorizer 불러오기\n",
        "# TfidfVectorizer의 fit() 함수에 corpus 적용 후 tfidfv 변수에 할당\n",
        "# 배열로 결과 확인\n",
        "# vocabulary_ 로 단어별 인덱스 확인\n",
        "from sklearn.feature_extraction.text import TfidfVectorizer\n",
        "\n",
        "corpus = ['you know I want your love',\n",
        "          'I like you',\n",
        "          'what should I do' ]\n",
        "\n",
        "tfidfv = TfidfVectorizer().fit(corpus)\n",
        "\n",
        "print(tfidfv.transform(corpus).toarray())\n",
        "print(tfidfv.vocabulary_)"
      ]
    },
    {
      "cell_type": "code",
      "execution_count": null,
      "metadata": {
        "id": "T6d0WBiQMu1u"
      },
      "outputs": [],
      "source": []
    },
    {
      "cell_type": "markdown",
      "metadata": {
        "id": "K2oqtrsVMu1u"
      },
      "source": [
        "### < 과제 >"
      ]
    },
    {
      "cell_type": "code",
      "execution_count": null,
      "metadata": {
        "id": "JpXwxPYlMu1v"
      },
      "outputs": [],
      "source": [
        "from sklearn.feature_extraction.text import TfidfVectorizer"
      ]
    },
    {
      "cell_type": "code",
      "execution_count": null,
      "metadata": {
        "id": "pZqgCNeBMu1v",
        "colab": {
          "base_uri": "https://localhost:8080/"
        },
        "outputId": "4859e78d-b1e2-471d-b316-17799d9c89e7"
      },
      "outputs": [
        {
          "output_type": "stream",
          "name": "stderr",
          "text": [
            "/usr/local/lib/python3.10/dist-packages/sklearn/feature_extraction/text.py:528: UserWarning: The parameter 'token_pattern' will not be used since 'tokenizer' is not None'\n",
            "  warnings.warn(\n"
          ]
        }
      ],
      "source": [
        "tfidfv2 = TfidfVectorizer(max_features=1000,\n",
        "                          tokenizer=get_nouns).fit_transform(df['본문'])"
      ]
    },
    {
      "cell_type": "code",
      "execution_count": null,
      "metadata": {
        "id": "bxbjzhfxMu1w",
        "colab": {
          "base_uri": "https://localhost:8080/"
        },
        "outputId": "7eab6681-5f92-41c4-abc8-1635a70a7e45"
      },
      "outputs": [
        {
          "output_type": "stream",
          "name": "stdout",
          "text": [
            "[[0.         0.         0.         0.         0.         0.\n",
            "  0.         0.         0.         0.         0.         0.\n",
            "  0.         0.         0.         0.         0.         0.\n",
            "  0.         0.         0.         0.         0.         0.\n",
            "  0.         0.         0.         0.         0.         0.\n",
            "  0.         0.         0.         0.         0.         0.\n",
            "  0.         0.         0.         0.         0.         0.\n",
            "  0.         0.         0.         0.         0.         0.\n",
            "  0.         0.         0.         0.         0.         0.\n",
            "  0.         0.         0.         0.2119017  0.29488185 0.\n",
            "  0.         0.         0.         0.         0.         0.\n",
            "  0.24681254 0.         0.         0.         0.         0.\n",
            "  0.         0.         0.         0.         0.         0.\n",
            "  0.         0.         0.         0.         0.         0.\n",
            "  0.         0.         0.         0.         0.         0.\n",
            "  0.         0.         0.         0.         0.         0.\n",
            "  0.         0.         0.         0.         0.24932155 0.\n",
            "  0.         0.         0.         0.         0.         0.\n",
            "  0.         0.         0.         0.         0.         0.\n",
            "  0.         0.         0.         0.         0.         0.\n",
            "  0.         0.         0.         0.         0.         0.\n",
            "  0.         0.         0.         0.         0.         0.\n",
            "  0.         0.         0.         0.         0.         0.\n",
            "  0.         0.         0.         0.         0.         0.\n",
            "  0.14188084 0.         0.         0.18169231 0.         0.\n",
            "  0.         0.         0.         0.14396454 0.         0.\n",
            "  0.         0.         0.         0.         0.         0.\n",
            "  0.         0.         0.         0.         0.         0.\n",
            "  0.         0.         0.         0.         0.         0.\n",
            "  0.         0.         0.         0.         0.         0.\n",
            "  0.         0.         0.         0.         0.         0.\n",
            "  0.         0.         0.         0.         0.         0.\n",
            "  0.         0.         0.         0.         0.         0.\n",
            "  0.         0.         0.         0.         0.         0.\n",
            "  0.         0.         0.         0.         0.         0.\n",
            "  0.         0.         0.         0.         0.20416237 0.\n",
            "  0.         0.         0.         0.         0.         0.\n",
            "  0.         0.         0.         0.         0.         0.\n",
            "  0.         0.         0.         0.         0.         0.\n",
            "  0.13955822 0.         0.         0.         0.         0.\n",
            "  0.         0.         0.         0.         0.         0.\n",
            "  0.         0.         0.         0.         0.         0.\n",
            "  0.         0.         0.         0.         0.         0.\n",
            "  0.         0.         0.         0.         0.         0.\n",
            "  0.         0.         0.         0.         0.         0.\n",
            "  0.         0.         0.         0.         0.         0.\n",
            "  0.         0.         0.         0.         0.         0.\n",
            "  0.         0.         0.         0.         0.         0.\n",
            "  0.         0.         0.         0.         0.         0.\n",
            "  0.         0.         0.         0.         0.         0.\n",
            "  0.         0.         0.         0.         0.         0.\n",
            "  0.         0.         0.         0.         0.         0.\n",
            "  0.         0.         0.         0.         0.         0.\n",
            "  0.         0.         0.         0.         0.         0.\n",
            "  0.         0.         0.         0.         0.         0.\n",
            "  0.         0.         0.         0.         0.         0.\n",
            "  0.         0.         0.         0.         0.         0.\n",
            "  0.         0.         0.         0.         0.         0.\n",
            "  0.         0.         0.         0.         0.         0.\n",
            "  0.         0.         0.         0.         0.         0.\n",
            "  0.         0.         0.         0.         0.         0.\n",
            "  0.         0.         0.         0.         0.         0.\n",
            "  0.         0.         0.         0.         0.         0.\n",
            "  0.         0.         0.         0.         0.         0.\n",
            "  0.         0.         0.         0.         0.         0.\n",
            "  0.         0.         0.         0.         0.         0.\n",
            "  0.23252333 0.         0.         0.         0.         0.\n",
            "  0.         0.         0.         0.         0.         0.\n",
            "  0.         0.         0.         0.         0.         0.\n",
            "  0.         0.         0.         0.         0.         0.\n",
            "  0.         0.         0.         0.         0.         0.\n",
            "  0.         0.         0.         0.         0.         0.\n",
            "  0.         0.         0.         0.         0.         0.\n",
            "  0.         0.         0.         0.         0.         0.\n",
            "  0.         0.         0.         0.         0.         0.\n",
            "  0.         0.         0.         0.         0.         0.\n",
            "  0.         0.         0.         0.         0.         0.\n",
            "  0.         0.         0.         0.         0.         0.\n",
            "  0.         0.         0.         0.         0.         0.\n",
            "  0.         0.         0.         0.         0.         0.\n",
            "  0.         0.         0.         0.         0.         0.\n",
            "  0.         0.         0.         0.         0.         0.\n",
            "  0.         0.         0.         0.         0.         0.\n",
            "  0.         0.         0.         0.         0.         0.\n",
            "  0.         0.         0.         0.         0.         0.\n",
            "  0.         0.         0.         0.         0.         0.\n",
            "  0.         0.         0.         0.         0.         0.\n",
            "  0.         0.         0.         0.         0.         0.\n",
            "  0.         0.         0.         0.         0.         0.\n",
            "  0.         0.         0.         0.         0.         0.\n",
            "  0.         0.         0.         0.         0.         0.\n",
            "  0.         0.         0.         0.         0.         0.\n",
            "  0.         0.         0.         0.         0.         0.\n",
            "  0.         0.         0.         0.         0.         0.\n",
            "  0.         0.         0.         0.         0.         0.\n",
            "  0.         0.21550592 0.         0.         0.         0.\n",
            "  0.         0.         0.         0.         0.         0.\n",
            "  0.         0.         0.         0.         0.28345616 0.\n",
            "  0.         0.         0.         0.         0.         0.\n",
            "  0.         0.         0.         0.         0.         0.\n",
            "  0.         0.         0.         0.         0.         0.\n",
            "  0.         0.         0.         0.         0.1715305  0.\n",
            "  0.         0.         0.         0.         0.         0.\n",
            "  0.         0.         0.         0.         0.         0.\n",
            "  0.24932155 0.         0.         0.         0.         0.\n",
            "  0.         0.         0.         0.         0.         0.\n",
            "  0.         0.         0.         0.         0.         0.\n",
            "  0.         0.         0.         0.         0.         0.\n",
            "  0.         0.         0.         0.         0.         0.\n",
            "  0.         0.         0.         0.         0.         0.\n",
            "  0.         0.         0.         0.         0.         0.\n",
            "  0.         0.         0.         0.         0.         0.\n",
            "  0.         0.         0.         0.         0.         0.\n",
            "  0.         0.         0.         0.         0.         0.\n",
            "  0.         0.         0.         0.         0.         0.\n",
            "  0.         0.         0.         0.         0.         0.\n",
            "  0.         0.         0.         0.         0.         0.\n",
            "  0.         0.         0.         0.         0.         0.\n",
            "  0.         0.         0.         0.         0.         0.\n",
            "  0.         0.         0.         0.         0.         0.\n",
            "  0.         0.         0.         0.         0.         0.\n",
            "  0.         0.         0.         0.         0.         0.\n",
            "  0.         0.         0.         0.15073403 0.         0.\n",
            "  0.         0.         0.         0.         0.         0.\n",
            "  0.         0.         0.         0.         0.         0.\n",
            "  0.         0.         0.         0.         0.         0.\n",
            "  0.         0.         0.         0.         0.         0.\n",
            "  0.         0.         0.         0.         0.         0.\n",
            "  0.         0.         0.         0.         0.         0.\n",
            "  0.         0.         0.         0.         0.         0.\n",
            "  0.         0.         0.         0.         0.         0.\n",
            "  0.         0.         0.         0.         0.28606946 0.\n",
            "  0.         0.         0.         0.         0.         0.\n",
            "  0.         0.         0.         0.         0.         0.\n",
            "  0.         0.         0.         0.         0.         0.\n",
            "  0.         0.24511592 0.         0.         0.         0.\n",
            "  0.         0.         0.         0.         0.         0.\n",
            "  0.         0.         0.         0.         0.         0.\n",
            "  0.         0.         0.         0.         0.         0.\n",
            "  0.         0.         0.         0.         0.         0.\n",
            "  0.         0.         0.         0.         0.         0.\n",
            "  0.         0.         0.         0.         0.         0.\n",
            "  0.         0.         0.         0.         0.         0.\n",
            "  0.         0.         0.         0.         0.         0.\n",
            "  0.         0.         0.         0.         0.         0.\n",
            "  0.         0.         0.         0.33103554 0.         0.\n",
            "  0.         0.         0.         0.         0.         0.\n",
            "  0.         0.         0.         0.         0.         0.\n",
            "  0.         0.         0.         0.         0.         0.\n",
            "  0.         0.         0.         0.         0.         0.\n",
            "  0.         0.         0.         0.         0.         0.\n",
            "  0.         0.         0.         0.         0.         0.\n",
            "  0.         0.         0.         0.         0.         0.\n",
            "  0.         0.         0.         0.         0.         0.\n",
            "  0.         0.         0.         0.         0.25174154 0.\n",
            "  0.         0.         0.         0.         0.         0.\n",
            "  0.         0.         0.         0.         0.         0.\n",
            "  0.         0.         0.         0.         0.         0.\n",
            "  0.         0.         0.         0.         0.         0.\n",
            "  0.         0.         0.         0.         0.         0.\n",
            "  0.         0.         0.         0.         0.         0.\n",
            "  0.         0.         0.         0.         0.         0.\n",
            "  0.         0.         0.         0.         0.         0.\n",
            "  0.         0.         0.         0.         0.         0.\n",
            "  0.         0.         0.         0.         0.         0.\n",
            "  0.         0.         0.         0.         0.         0.\n",
            "  0.         0.         0.         0.        ]]\n"
          ]
        }
      ],
      "source": [
        "print(tfidfv2[0].toarray())"
      ]
    },
    {
      "cell_type": "code",
      "execution_count": null,
      "metadata": {
        "id": "216VIucHMu1w"
      },
      "outputs": [],
      "source": []
    },
    {
      "cell_type": "code",
      "execution_count": null,
      "metadata": {
        "id": "7DNHvvkwMu1w"
      },
      "outputs": [],
      "source": []
    },
    {
      "cell_type": "code",
      "execution_count": null,
      "metadata": {
        "id": "9HvWiAy-Mu1w"
      },
      "outputs": [],
      "source": []
    },
    {
      "cell_type": "code",
      "execution_count": null,
      "metadata": {
        "id": "Tbo1aNIVMu1x"
      },
      "outputs": [],
      "source": []
    }
  ],
  "metadata": {
    "kernelspec": {
      "display_name": "Python 3",
      "language": "python",
      "name": "python3"
    },
    "language_info": {
      "codemirror_mode": {
        "name": "ipython",
        "version": 3
      },
      "file_extension": ".py",
      "mimetype": "text/x-python",
      "name": "python",
      "nbconvert_exporter": "python",
      "pygments_lexer": "ipython3",
      "version": "3.8.8"
    },
    "colab": {
      "provenance": [],
      "include_colab_link": true
    }
  },
  "nbformat": 4,
  "nbformat_minor": 0
}