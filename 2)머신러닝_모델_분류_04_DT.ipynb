{
  "cells": [
    {
      "cell_type": "markdown",
      "metadata": {
        "id": "view-in-github",
        "colab_type": "text"
      },
      "source": [
        "<a href=\"https://colab.research.google.com/github/jungddddd/ML2/blob/main/2)%EB%A8%B8%EC%8B%A0%EB%9F%AC%EB%8B%9D_%EB%AA%A8%EB%8D%B8_%EB%B6%84%EB%A5%98_04_DT.ipynb\" target=\"_parent\"><img src=\"https://colab.research.google.com/assets/colab-badge.svg\" alt=\"Open In Colab\"/></a>"
      ]
    },
    {
      "cell_type": "markdown",
      "metadata": {
        "id": "Hr74jKlX1aKu"
      },
      "source": [
        "### Decision Tree\n",
        "#### iris 분류"
      ]
    },
    {
      "cell_type": "code",
      "execution_count": null,
      "metadata": {
        "id": "2CKAsanY1aKz"
      },
      "outputs": [],
      "source": [
        "# 필요한 모듈 불러오기\n",
        "# Scikit-learn 의 datasets 모듈 불러오기\n",
        "# sklearn.model_selection 의 train_test_split 함수 불러오기\n",
        "# sklearn.metrics 모듈의 confusion_matrix 함수와 accuracy_score 함수 불러오기\n",
        "from sklearn import datasets\n",
        "from sklearn.model_selection import train_test_split\n",
        "from sklearn.metrics import accuracy_score, confusion_matrix"
      ]
    },
    {
      "cell_type": "code",
      "execution_count": null,
      "metadata": {
        "id": "LhKfpFTF1aK1"
      },
      "outputs": [],
      "source": [
        "# datasets의 load_iris() 함수사용\n",
        "# iris 데이터를 불러와 iris 변수에 할당\n",
        "iris = datasets.load_iris()"
      ]
    },
    {
      "cell_type": "code",
      "execution_count": null,
      "metadata": {
        "id": "J3OzHdPm1aK1",
        "colab": {
          "base_uri": "https://localhost:8080/"
        },
        "outputId": "f55f675b-8c94-47db-ecd2-b1a253ed8704"
      },
      "outputs": [
        {
          "output_type": "stream",
          "name": "stdout",
          "text": [
            ".. _iris_dataset:\n",
            "\n",
            "Iris plants dataset\n",
            "--------------------\n",
            "\n",
            "**Data Set Characteristics:**\n",
            "\n",
            "    :Number of Instances: 150 (50 in each of three classes)\n",
            "    :Number of Attributes: 4 numeric, predictive attributes and the class\n",
            "    :Attribute Information:\n",
            "        - sepal length in cm\n",
            "        - sepal width in cm\n",
            "        - petal length in cm\n",
            "        - petal width in cm\n",
            "        - class:\n",
            "                - Iris-Setosa\n",
            "                - Iris-Versicolour\n",
            "                - Iris-Virginica\n",
            "                \n",
            "    :Summary Statistics:\n",
            "\n",
            "    ============== ==== ==== ======= ===== ====================\n",
            "                    Min  Max   Mean    SD   Class Correlation\n",
            "    ============== ==== ==== ======= ===== ====================\n",
            "    sepal length:   4.3  7.9   5.84   0.83    0.7826\n",
            "    sepal width:    2.0  4.4   3.05   0.43   -0.4194\n",
            "    petal length:   1.0  6.9   3.76   1.76    0.9490  (high!)\n",
            "    petal width:    0.1  2.5   1.20   0.76    0.9565  (high!)\n",
            "    ============== ==== ==== ======= ===== ====================\n",
            "\n",
            "    :Missing Attribute Values: None\n",
            "    :Class Distribution: 33.3% for each of 3 classes.\n",
            "    :Creator: R.A. Fisher\n",
            "    :Donor: Michael Marshall (MARSHALL%PLU@io.arc.nasa.gov)\n",
            "    :Date: July, 1988\n",
            "\n",
            "The famous Iris database, first used by Sir R.A. Fisher. The dataset is taken\n",
            "from Fisher's paper. Note that it's the same as in R, but not as in the UCI\n",
            "Machine Learning Repository, which has two wrong data points.\n",
            "\n",
            "This is perhaps the best known database to be found in the\n",
            "pattern recognition literature.  Fisher's paper is a classic in the field and\n",
            "is referenced frequently to this day.  (See Duda & Hart, for example.)  The\n",
            "data set contains 3 classes of 50 instances each, where each class refers to a\n",
            "type of iris plant.  One class is linearly separable from the other 2; the\n",
            "latter are NOT linearly separable from each other.\n",
            "\n",
            ".. topic:: References\n",
            "\n",
            "   - Fisher, R.A. \"The use of multiple measurements in taxonomic problems\"\n",
            "     Annual Eugenics, 7, Part II, 179-188 (1936); also in \"Contributions to\n",
            "     Mathematical Statistics\" (John Wiley, NY, 1950).\n",
            "   - Duda, R.O., & Hart, P.E. (1973) Pattern Classification and Scene Analysis.\n",
            "     (Q327.D83) John Wiley & Sons.  ISBN 0-471-22361-1.  See page 218.\n",
            "   - Dasarathy, B.V. (1980) \"Nosing Around the Neighborhood: A New System\n",
            "     Structure and Classification Rule for Recognition in Partially Exposed\n",
            "     Environments\".  IEEE Transactions on Pattern Analysis and Machine\n",
            "     Intelligence, Vol. PAMI-2, No. 1, 67-71.\n",
            "   - Gates, G.W. (1972) \"The Reduced Nearest Neighbor Rule\".  IEEE Transactions\n",
            "     on Information Theory, May 1972, 431-433.\n",
            "   - See also: 1988 MLC Proceedings, 54-64.  Cheeseman et al\"s AUTOCLASS II\n",
            "     conceptual clustering system finds 3 classes in the data.\n",
            "   - Many, many more ...\n"
          ]
        }
      ],
      "source": [
        "# DESCR(description) 을 이용해 iris 데이터셋과 관련된 정보 확인\n",
        "print(iris.DESCR)"
      ]
    },
    {
      "cell_type": "code",
      "source": [
        "iris.data"
      ],
      "metadata": {
        "id": "85Ulh63D2KdT"
      },
      "execution_count": null,
      "outputs": []
    },
    {
      "cell_type": "code",
      "execution_count": null,
      "metadata": {
        "id": "B6UfcIkF1aK2",
        "colab": {
          "base_uri": "https://localhost:8080/"
        },
        "outputId": "e5cc50cb-0d54-4e76-bbc6-1952c9b6c019"
      },
      "outputs": [
        {
          "output_type": "execute_result",
          "data": {
            "text/plain": [
              "['sepal length (cm)',\n",
              " 'sepal width (cm)',\n",
              " 'petal length (cm)',\n",
              " 'petal width (cm)']"
            ]
          },
          "metadata": {},
          "execution_count": 5
        }
      ],
      "source": [
        "# iris 데이터의 feature_names 확인\n",
        "# 시각화에서 활용\n",
        "iris.feature_names"
      ]
    },
    {
      "cell_type": "code",
      "execution_count": null,
      "metadata": {
        "id": "AJnAnMeG1aK2",
        "colab": {
          "base_uri": "https://localhost:8080/"
        },
        "outputId": "580878d4-81e3-49c6-c87f-ba68fdb0051d"
      },
      "outputs": [
        {
          "output_type": "execute_result",
          "data": {
            "text/plain": [
              "array([0, 0, 0, 0, 0, 0, 0, 0, 0, 0, 0, 0, 0, 0, 0, 0, 0, 0, 0, 0, 0, 0,\n",
              "       0, 0, 0, 0, 0, 0, 0, 0, 0, 0, 0, 0, 0, 0, 0, 0, 0, 0, 0, 0, 0, 0,\n",
              "       0, 0, 0, 0, 0, 0, 1, 1, 1, 1, 1, 1, 1, 1, 1, 1, 1, 1, 1, 1, 1, 1,\n",
              "       1, 1, 1, 1, 1, 1, 1, 1, 1, 1, 1, 1, 1, 1, 1, 1, 1, 1, 1, 1, 1, 1,\n",
              "       1, 1, 1, 1, 1, 1, 1, 1, 1, 1, 1, 1, 2, 2, 2, 2, 2, 2, 2, 2, 2, 2,\n",
              "       2, 2, 2, 2, 2, 2, 2, 2, 2, 2, 2, 2, 2, 2, 2, 2, 2, 2, 2, 2, 2, 2,\n",
              "       2, 2, 2, 2, 2, 2, 2, 2, 2, 2, 2, 2, 2, 2, 2, 2, 2, 2])"
            ]
          },
          "metadata": {},
          "execution_count": 6
        }
      ],
      "source": [
        "iris.target"
      ]
    },
    {
      "cell_type": "code",
      "execution_count": null,
      "metadata": {
        "id": "4CM92mz61aK3",
        "colab": {
          "base_uri": "https://localhost:8080/"
        },
        "outputId": "6e6b109b-cb72-4def-ace3-5bc2f0b76f56"
      },
      "outputs": [
        {
          "output_type": "execute_result",
          "data": {
            "text/plain": [
              "array(['setosa', 'versicolor', 'virginica'], dtype='<U10')"
            ]
          },
          "metadata": {},
          "execution_count": 7
        }
      ],
      "source": [
        "# iris 데이터의 target_names 확인\n",
        "# 시각화에서 활용\n",
        "iris.target_names"
      ]
    },
    {
      "cell_type": "code",
      "execution_count": null,
      "metadata": {
        "id": "sS6mGYn41aK3",
        "colab": {
          "base_uri": "https://localhost:8080/"
        },
        "outputId": "6aae5409-abfc-4abd-b831-eadf359c0d5f"
      },
      "outputs": [
        {
          "output_type": "stream",
          "name": "stdout",
          "text": [
            "(105, 4) (45, 4) (105,) (45,)\n"
          ]
        }
      ],
      "source": [
        "# train_test_split() 함수 이용해 데이터 분할\n",
        "# train, test 데이터 분할 확인\n",
        "x_train, x_test, y_train, y_test = train_test_split(iris.data, iris.target,\n",
        "                                                    test_size = 0.3,\n",
        "                                                    random_state = 102)\n",
        "print(x_train.shape, x_test.shape, y_train.shape, y_test.shape)"
      ]
    },
    {
      "cell_type": "code",
      "execution_count": null,
      "metadata": {
        "id": "ZE8SBdVk1aK3"
      },
      "outputs": [],
      "source": [
        "# tree 모델 생성\n",
        "# sklearn 모듈의 tree 사용\n",
        "from sklearn import tree"
      ]
    },
    {
      "cell_type": "code",
      "execution_count": null,
      "metadata": {
        "id": "6pBZdzsC1aK4"
      },
      "outputs": [],
      "source": [
        "# tree.DecisionTreeClassifier()함수로 트리 모델을 생성해 clf 에 할당\n",
        "# fit 함수 이용해 train 데이터로 학습 시킴\n",
        "clf = tree.DecisionTreeClassifier()\n",
        "clf_dt = clf.fit(x_train, y_train)"
      ]
    },
    {
      "cell_type": "code",
      "execution_count": null,
      "metadata": {
        "id": "77kzDEK11aK4"
      },
      "outputs": [],
      "source": [
        "# 생성된 모델에 test 데이터를 넣어 예측\n",
        "# 예측된 값은 y_pred 변수에 할당\n",
        "y_pred = clf_dt.predict(x_test)"
      ]
    },
    {
      "cell_type": "code",
      "execution_count": null,
      "metadata": {
        "id": "NgAnkrss1aK5",
        "colab": {
          "base_uri": "https://localhost:8080/"
        },
        "outputId": "5eeb1b37-5190-4841-9673-0b7063f0e323"
      },
      "outputs": [
        {
          "output_type": "execute_result",
          "data": {
            "text/plain": [
              "array([0, 2, 1, 1, 2, 0, 0, 0, 1, 1, 2, 1, 0, 2, 2, 0, 0, 2, 0, 2, 0, 2,\n",
              "       1, 2, 0, 1, 2, 2, 2, 0, 0, 1, 0, 1, 1, 0, 1, 2, 0, 0, 2, 1, 0, 1,\n",
              "       2])"
            ]
          },
          "metadata": {},
          "execution_count": 12
        }
      ],
      "source": [
        "# 예측된 값 확인\n",
        "y_pred"
      ]
    },
    {
      "cell_type": "code",
      "execution_count": null,
      "metadata": {
        "id": "knGIJw-T1aK5",
        "colab": {
          "base_uri": "https://localhost:8080/"
        },
        "outputId": "94ad06a6-c031-40d4-aae2-96e15ccb5f3d"
      },
      "outputs": [
        {
          "output_type": "stream",
          "name": "stdout",
          "text": [
            "[[17  0  0]\n",
            " [ 0 11  1]\n",
            " [ 0  2 14]]\n"
          ]
        }
      ],
      "source": [
        "# 실제값인 y_test 와 예측값인 y_pred 를 비교\n",
        "# confusion_matrix() 함수를 이용\n",
        "cfmat = confusion_matrix(y_test, y_pred)\n",
        "print(cfmat)"
      ]
    },
    {
      "cell_type": "code",
      "execution_count": null,
      "metadata": {
        "id": "SGTn2LD-1aK5",
        "colab": {
          "base_uri": "https://localhost:8080/"
        },
        "outputId": "debf33b9-02d6-4645-87ce-d6d1615b4756"
      },
      "outputs": [
        {
          "output_type": "stream",
          "name": "stdout",
          "text": [
            "0.9333333333333333\n"
          ]
        }
      ],
      "source": [
        "# 실제값인 y_test 와 예측값인 y_pred 를 비교\n",
        "# accuracy_score() 함수 이용\n",
        "acc = accuracy_score(y_test, y_pred)\n",
        "print(acc)"
      ]
    },
    {
      "cell_type": "code",
      "execution_count": null,
      "metadata": {
        "id": "-dppiNW01aK6"
      },
      "outputs": [],
      "source": [
        "#pip install graphviz"
      ]
    },
    {
      "cell_type": "code",
      "execution_count": null,
      "metadata": {
        "id": "AwdjKV6k1aK7"
      },
      "outputs": [],
      "source": [
        "# DT 시각화를 위한 graphviz 불러오기\n",
        "import graphviz"
      ]
    },
    {
      "cell_type": "code",
      "execution_count": null,
      "metadata": {
        "id": "q5duGTnN1aK7"
      },
      "outputs": [],
      "source": [
        "# tree모듈의 export_graphviz() 함수 사용\n",
        "# clf_df 모델을 이용해 도식화 하여 dot_data 변수에 할당\n",
        "# graphviz모듈의 Source() 함수를 이용해 graph 생성\n",
        "dot_data = tree.export_graphviz(clf_dt, out_file=None,\n",
        "                                feature_names=iris.feature_names,\n",
        "                                class_names=iris.target_names,\n",
        "                                filled=True, rounded=True)\n",
        "\n",
        "graph = graphviz.Source(dot_data)"
      ]
    },
    {
      "cell_type": "code",
      "execution_count": null,
      "metadata": {
        "id": "5VKOrrml1aK8"
      },
      "outputs": [],
      "source": [
        "# 그래프 확인\n",
        "graph"
      ]
    },
    {
      "cell_type": "code",
      "execution_count": null,
      "metadata": {
        "id": "ylBl40CA1aK8"
      },
      "outputs": [],
      "source": [
        "# tree.export_graphviz() 함수의 out_file 파라미터에 iris_DT.dot로 파일명을 지정해 규칙 저장\n",
        "dot_data = tree.export_graphviz(clf, out_file= \"iris_DT.dot\",\n",
        "                                feature_names=iris.feature_names,\n",
        "                                class_names=iris.target_names,\n",
        "                                filled=True, rounded=True)"
      ]
    },
    {
      "cell_type": "markdown",
      "metadata": {
        "id": "otUhrOs71aK9"
      },
      "source": [
        "- #### 엔트로피를 활용한 트리"
      ]
    },
    {
      "cell_type": "code",
      "execution_count": null,
      "metadata": {
        "id": "Pckujx9T1aK9"
      },
      "outputs": [],
      "source": [
        "# tree.DecisionTreeClassifier()함수로 트리 모델을 생성해 clf2 에 할당\n",
        "# criterion 파라미터를 entropy로 지정해 분류기준 변경\n",
        "clf2 = tree.DecisionTreeClassifier(criterion=\"entropy\")"
      ]
    },
    {
      "cell_type": "code",
      "execution_count": null,
      "metadata": {
        "id": "cxaHnFTe1aK9",
        "colab": {
          "base_uri": "https://localhost:8080/"
        },
        "outputId": "edf5503b-50c4-4dc4-d98b-90351274ba02"
      },
      "outputs": [
        {
          "output_type": "stream",
          "name": "stdout",
          "text": [
            "[[17  0  0]\n",
            " [ 0 11  1]\n",
            " [ 0  2 14]]\n",
            "0.9333333333333333\n"
          ]
        }
      ],
      "source": [
        "# fit 함수 이용해 train 데이터로 학습 시킴\n",
        "# 생성된 모델에 test 데이터를 넣어 예측\n",
        "# 예측된 값은 y_pred2 변수에 할당\n",
        "# 실제값인 y_test 와 예측값인 y_pred 를 비교gkdu confusion_matrix와 accuracy_score 확인\n",
        "clf2_dt = clf2.fit(x_train, y_train)\n",
        "\n",
        "y_pred2 = clf2_dt.predict(x_test)\n",
        "\n",
        "print(confusion_matrix(y_test, y_pred2))\n",
        "print(accuracy_score(y_test, y_pred2))"
      ]
    },
    {
      "cell_type": "code",
      "execution_count": null,
      "metadata": {
        "id": "BnCXDFDd1aK-"
      },
      "outputs": [],
      "source": [
        "# tree모듈의 export_graphviz() 함수 사용\n",
        "# clf2_df 모델을 이용해 도식화 하여 dot_data2 변수에 할당\n",
        "# graphviz모듈의 Source() 함수를 이용해 graph2 생성\n",
        "dot_data2 = tree.export_graphviz(clf2_dt,out_file=None,\n",
        "                               feature_names=iris.feature_names,\n",
        "                               class_names=iris.target_names,\n",
        "                               filled=True, rounded=True,\n",
        "                               special_characters=True)\n",
        "\n",
        "graph2 = graphviz.Source(dot_data2)"
      ]
    },
    {
      "cell_type": "code",
      "execution_count": null,
      "metadata": {
        "id": "w3QKUyXT1aK-",
        "colab": {
          "base_uri": "https://localhost:8080/",
          "height": 756
        },
        "outputId": "35346d76-0788-4e05-e05c-2177329f6833"
      },
      "outputs": [
        {
          "output_type": "execute_result",
          "data": {
            "image/svg+xml": "<?xml version=\"1.0\" encoding=\"UTF-8\" standalone=\"no\"?>\n<!DOCTYPE svg PUBLIC \"-//W3C//DTD SVG 1.1//EN\"\n \"http://www.w3.org/Graphics/SVG/1.1/DTD/svg11.dtd\">\n<!-- Generated by graphviz version 2.43.0 (0)\n -->\n<!-- Title: Tree Pages: 1 -->\n<svg width=\"363pt\" height=\"552pt\"\n viewBox=\"0.00 0.00 363.00 552.00\" xmlns=\"http://www.w3.org/2000/svg\" xmlns:xlink=\"http://www.w3.org/1999/xlink\">\n<g id=\"graph0\" class=\"graph\" transform=\"scale(1 1) rotate(0) translate(4 548)\">\n<title>Tree</title>\n<polygon fill=\"white\" stroke=\"transparent\" points=\"-4,4 -4,-548 359,-548 359,4 -4,4\"/>\n<!-- 0 -->\n<g id=\"node1\" class=\"node\">\n<title>0</title>\n<path fill=\"#f4fef8\" stroke=\"black\" d=\"M205.5,-544C205.5,-544 77.5,-544 77.5,-544 71.5,-544 65.5,-538 65.5,-532 65.5,-532 65.5,-473 65.5,-473 65.5,-467 71.5,-461 77.5,-461 77.5,-461 205.5,-461 205.5,-461 211.5,-461 217.5,-467 217.5,-473 217.5,-473 217.5,-532 217.5,-532 217.5,-538 211.5,-544 205.5,-544\"/>\n<text text-anchor=\"start\" x=\"73.5\" y=\"-528.8\" font-family=\"Helvetica,sans-Serif\" font-size=\"14.00\">petal length (cm) ≤ 2.6</text>\n<text text-anchor=\"start\" x=\"94\" y=\"-513.8\" font-family=\"Helvetica,sans-Serif\" font-size=\"14.00\">entropy = 1.582</text>\n<text text-anchor=\"start\" x=\"96.5\" y=\"-498.8\" font-family=\"Helvetica,sans-Serif\" font-size=\"14.00\">samples = 105</text>\n<text text-anchor=\"start\" x=\"83.5\" y=\"-483.8\" font-family=\"Helvetica,sans-Serif\" font-size=\"14.00\">value = [33, 38, 34]</text>\n<text text-anchor=\"start\" x=\"89\" y=\"-468.8\" font-family=\"Helvetica,sans-Serif\" font-size=\"14.00\">class = versicolor</text>\n</g>\n<!-- 1 -->\n<g id=\"node2\" class=\"node\">\n<title>1</title>\n<path fill=\"#e58139\" stroke=\"black\" d=\"M111,-417.5C111,-417.5 18,-417.5 18,-417.5 12,-417.5 6,-411.5 6,-405.5 6,-405.5 6,-361.5 6,-361.5 6,-355.5 12,-349.5 18,-349.5 18,-349.5 111,-349.5 111,-349.5 117,-349.5 123,-355.5 123,-361.5 123,-361.5 123,-405.5 123,-405.5 123,-411.5 117,-417.5 111,-417.5\"/>\n<text text-anchor=\"start\" x=\"24.5\" y=\"-402.3\" font-family=\"Helvetica,sans-Serif\" font-size=\"14.00\">entropy = 0.0</text>\n<text text-anchor=\"start\" x=\"23.5\" y=\"-387.3\" font-family=\"Helvetica,sans-Serif\" font-size=\"14.00\">samples = 33</text>\n<text text-anchor=\"start\" x=\"14\" y=\"-372.3\" font-family=\"Helvetica,sans-Serif\" font-size=\"14.00\">value = [33, 0, 0]</text>\n<text text-anchor=\"start\" x=\"21\" y=\"-357.3\" font-family=\"Helvetica,sans-Serif\" font-size=\"14.00\">class = setosa</text>\n</g>\n<!-- 0&#45;&gt;1 -->\n<g id=\"edge1\" class=\"edge\">\n<title>0&#45;&gt;1</title>\n<path fill=\"none\" stroke=\"black\" d=\"M114.79,-460.91C107.38,-449.65 99.33,-437.42 91.88,-426.11\"/>\n<polygon fill=\"black\" stroke=\"black\" points=\"94.75,-424.1 86.33,-417.67 88.9,-427.94 94.75,-424.1\"/>\n<text text-anchor=\"middle\" x=\"81.28\" y=\"-438.45\" font-family=\"Helvetica,sans-Serif\" font-size=\"14.00\">True</text>\n</g>\n<!-- 2 -->\n<g id=\"node3\" class=\"node\">\n<title>2</title>\n<path fill=\"#eafcf2\" stroke=\"black\" d=\"M283.5,-425C283.5,-425 153.5,-425 153.5,-425 147.5,-425 141.5,-419 141.5,-413 141.5,-413 141.5,-354 141.5,-354 141.5,-348 147.5,-342 153.5,-342 153.5,-342 283.5,-342 283.5,-342 289.5,-342 295.5,-348 295.5,-354 295.5,-354 295.5,-413 295.5,-413 295.5,-419 289.5,-425 283.5,-425\"/>\n<text text-anchor=\"start\" x=\"149.5\" y=\"-409.8\" font-family=\"Helvetica,sans-Serif\" font-size=\"14.00\">petal width (cm) ≤ 1.75</text>\n<text text-anchor=\"start\" x=\"171\" y=\"-394.8\" font-family=\"Helvetica,sans-Serif\" font-size=\"14.00\">entropy = 0.998</text>\n<text text-anchor=\"start\" x=\"177.5\" y=\"-379.8\" font-family=\"Helvetica,sans-Serif\" font-size=\"14.00\">samples = 72</text>\n<text text-anchor=\"start\" x=\"164\" y=\"-364.8\" font-family=\"Helvetica,sans-Serif\" font-size=\"14.00\">value = [0, 38, 34]</text>\n<text text-anchor=\"start\" x=\"166\" y=\"-349.8\" font-family=\"Helvetica,sans-Serif\" font-size=\"14.00\">class = versicolor</text>\n</g>\n<!-- 0&#45;&gt;2 -->\n<g id=\"edge2\" class=\"edge\">\n<title>0&#45;&gt;2</title>\n<path fill=\"none\" stroke=\"black\" d=\"M168.21,-460.91C174.01,-452.1 180.2,-442.7 186.18,-433.61\"/>\n<polygon fill=\"black\" stroke=\"black\" points=\"189.26,-435.3 191.83,-425.02 183.41,-431.45 189.26,-435.3\"/>\n<text text-anchor=\"middle\" x=\"196.88\" y=\"-445.81\" font-family=\"Helvetica,sans-Serif\" font-size=\"14.00\">False</text>\n</g>\n<!-- 3 -->\n<g id=\"node4\" class=\"node\">\n<title>3</title>\n<path fill=\"#49e78b\" stroke=\"black\" d=\"M208,-306C208,-306 73,-306 73,-306 67,-306 61,-300 61,-294 61,-294 61,-235 61,-235 61,-229 67,-223 73,-223 73,-223 208,-223 208,-223 214,-223 220,-229 220,-235 220,-235 220,-294 220,-294 220,-300 214,-306 208,-306\"/>\n<text text-anchor=\"start\" x=\"69\" y=\"-290.8\" font-family=\"Helvetica,sans-Serif\" font-size=\"14.00\">petal length (cm) ≤ 5.05</text>\n<text text-anchor=\"start\" x=\"93\" y=\"-275.8\" font-family=\"Helvetica,sans-Serif\" font-size=\"14.00\">entropy = 0.378</text>\n<text text-anchor=\"start\" x=\"99.5\" y=\"-260.8\" font-family=\"Helvetica,sans-Serif\" font-size=\"14.00\">samples = 41</text>\n<text text-anchor=\"start\" x=\"90\" y=\"-245.8\" font-family=\"Helvetica,sans-Serif\" font-size=\"14.00\">value = [0, 38, 3]</text>\n<text text-anchor=\"start\" x=\"88\" y=\"-230.8\" font-family=\"Helvetica,sans-Serif\" font-size=\"14.00\">class = versicolor</text>\n</g>\n<!-- 2&#45;&gt;3 -->\n<g id=\"edge3\" class=\"edge\">\n<title>2&#45;&gt;3</title>\n<path fill=\"none\" stroke=\"black\" d=\"M191.44,-341.91C185.57,-333.1 179.3,-323.7 173.24,-314.61\"/>\n<polygon fill=\"black\" stroke=\"black\" points=\"175.97,-312.4 167.51,-306.02 170.15,-316.28 175.97,-312.4\"/>\n</g>\n<!-- 8 -->\n<g id=\"node9\" class=\"node\">\n<title>8</title>\n<path fill=\"#8139e5\" stroke=\"black\" d=\"M343,-298.5C343,-298.5 250,-298.5 250,-298.5 244,-298.5 238,-292.5 238,-286.5 238,-286.5 238,-242.5 238,-242.5 238,-236.5 244,-230.5 250,-230.5 250,-230.5 343,-230.5 343,-230.5 349,-230.5 355,-236.5 355,-242.5 355,-242.5 355,-286.5 355,-286.5 355,-292.5 349,-298.5 343,-298.5\"/>\n<text text-anchor=\"start\" x=\"256.5\" y=\"-283.3\" font-family=\"Helvetica,sans-Serif\" font-size=\"14.00\">entropy = 0.0</text>\n<text text-anchor=\"start\" x=\"255.5\" y=\"-268.3\" font-family=\"Helvetica,sans-Serif\" font-size=\"14.00\">samples = 31</text>\n<text text-anchor=\"start\" x=\"246\" y=\"-253.3\" font-family=\"Helvetica,sans-Serif\" font-size=\"14.00\">value = [0, 0, 31]</text>\n<text text-anchor=\"start\" x=\"248\" y=\"-238.3\" font-family=\"Helvetica,sans-Serif\" font-size=\"14.00\">class = virginica</text>\n</g>\n<!-- 2&#45;&gt;8 -->\n<g id=\"edge8\" class=\"edge\">\n<title>2&#45;&gt;8</title>\n<path fill=\"none\" stroke=\"black\" d=\"M245.56,-341.91C253.07,-330.65 261.22,-318.42 268.76,-307.11\"/>\n<polygon fill=\"black\" stroke=\"black\" points=\"271.75,-308.93 274.39,-298.67 265.93,-305.05 271.75,-308.93\"/>\n</g>\n<!-- 4 -->\n<g id=\"node5\" class=\"node\">\n<title>4</title>\n<path fill=\"#39e581\" stroke=\"black\" d=\"M109,-179.5C109,-179.5 12,-179.5 12,-179.5 6,-179.5 0,-173.5 0,-167.5 0,-167.5 0,-123.5 0,-123.5 0,-117.5 6,-111.5 12,-111.5 12,-111.5 109,-111.5 109,-111.5 115,-111.5 121,-117.5 121,-123.5 121,-123.5 121,-167.5 121,-167.5 121,-173.5 115,-179.5 109,-179.5\"/>\n<text text-anchor=\"start\" x=\"20.5\" y=\"-164.3\" font-family=\"Helvetica,sans-Serif\" font-size=\"14.00\">entropy = 0.0</text>\n<text text-anchor=\"start\" x=\"19.5\" y=\"-149.3\" font-family=\"Helvetica,sans-Serif\" font-size=\"14.00\">samples = 37</text>\n<text text-anchor=\"start\" x=\"10\" y=\"-134.3\" font-family=\"Helvetica,sans-Serif\" font-size=\"14.00\">value = [0, 37, 0]</text>\n<text text-anchor=\"start\" x=\"8\" y=\"-119.3\" font-family=\"Helvetica,sans-Serif\" font-size=\"14.00\">class = versicolor</text>\n</g>\n<!-- 3&#45;&gt;4 -->\n<g id=\"edge4\" class=\"edge\">\n<title>3&#45;&gt;4</title>\n<path fill=\"none\" stroke=\"black\" d=\"M112.74,-222.91C105.05,-211.65 96.68,-199.42 88.95,-188.11\"/>\n<polygon fill=\"black\" stroke=\"black\" points=\"91.71,-185.95 83.18,-179.67 85.93,-189.9 91.71,-185.95\"/>\n</g>\n<!-- 5 -->\n<g id=\"node6\" class=\"node\">\n<title>5</title>\n<path fill=\"#ab7bee\" stroke=\"black\" d=\"M289.5,-187C289.5,-187 151.5,-187 151.5,-187 145.5,-187 139.5,-181 139.5,-175 139.5,-175 139.5,-116 139.5,-116 139.5,-110 145.5,-104 151.5,-104 151.5,-104 289.5,-104 289.5,-104 295.5,-104 301.5,-110 301.5,-116 301.5,-116 301.5,-175 301.5,-175 301.5,-181 295.5,-187 289.5,-187\"/>\n<text text-anchor=\"start\" x=\"147.5\" y=\"-171.8\" font-family=\"Helvetica,sans-Serif\" font-size=\"14.00\">sepal length (cm) ≤ 6.05</text>\n<text text-anchor=\"start\" x=\"173\" y=\"-156.8\" font-family=\"Helvetica,sans-Serif\" font-size=\"14.00\">entropy = 0.811</text>\n<text text-anchor=\"start\" x=\"183\" y=\"-141.8\" font-family=\"Helvetica,sans-Serif\" font-size=\"14.00\">samples = 4</text>\n<text text-anchor=\"start\" x=\"173.5\" y=\"-126.8\" font-family=\"Helvetica,sans-Serif\" font-size=\"14.00\">value = [0, 1, 3]</text>\n<text text-anchor=\"start\" x=\"172\" y=\"-111.8\" font-family=\"Helvetica,sans-Serif\" font-size=\"14.00\">class = virginica</text>\n</g>\n<!-- 3&#45;&gt;5 -->\n<g id=\"edge5\" class=\"edge\">\n<title>3&#45;&gt;5</title>\n<path fill=\"none\" stroke=\"black\" d=\"M168.26,-222.91C174.34,-214.01 180.84,-204.51 187.11,-195.33\"/>\n<polygon fill=\"black\" stroke=\"black\" points=\"190.04,-197.25 192.79,-187.02 184.26,-193.3 190.04,-197.25\"/>\n</g>\n<!-- 6 -->\n<g id=\"node7\" class=\"node\">\n<title>6</title>\n<path fill=\"#39e581\" stroke=\"black\" d=\"M201,-68C201,-68 104,-68 104,-68 98,-68 92,-62 92,-56 92,-56 92,-12 92,-12 92,-6 98,0 104,0 104,0 201,0 201,0 207,0 213,-6 213,-12 213,-12 213,-56 213,-56 213,-62 207,-68 201,-68\"/>\n<text text-anchor=\"start\" x=\"112.5\" y=\"-52.8\" font-family=\"Helvetica,sans-Serif\" font-size=\"14.00\">entropy = 0.0</text>\n<text text-anchor=\"start\" x=\"115\" y=\"-37.8\" font-family=\"Helvetica,sans-Serif\" font-size=\"14.00\">samples = 1</text>\n<text text-anchor=\"start\" x=\"105.5\" y=\"-22.8\" font-family=\"Helvetica,sans-Serif\" font-size=\"14.00\">value = [0, 1, 0]</text>\n<text text-anchor=\"start\" x=\"100\" y=\"-7.8\" font-family=\"Helvetica,sans-Serif\" font-size=\"14.00\">class = versicolor</text>\n</g>\n<!-- 5&#45;&gt;6 -->\n<g id=\"edge6\" class=\"edge\">\n<title>5&#45;&gt;6</title>\n<path fill=\"none\" stroke=\"black\" d=\"M195.18,-103.73C189.74,-94.97 183.99,-85.7 178.52,-76.91\"/>\n<polygon fill=\"black\" stroke=\"black\" points=\"181.43,-74.95 173.18,-68.3 175.48,-78.64 181.43,-74.95\"/>\n</g>\n<!-- 7 -->\n<g id=\"node8\" class=\"node\">\n<title>7</title>\n<path fill=\"#8139e5\" stroke=\"black\" d=\"M332,-68C332,-68 243,-68 243,-68 237,-68 231,-62 231,-56 231,-56 231,-12 231,-12 231,-6 237,0 243,0 243,0 332,0 332,0 338,0 344,-6 344,-12 344,-12 344,-56 344,-56 344,-62 338,-68 332,-68\"/>\n<text text-anchor=\"start\" x=\"247.5\" y=\"-52.8\" font-family=\"Helvetica,sans-Serif\" font-size=\"14.00\">entropy = 0.0</text>\n<text text-anchor=\"start\" x=\"250\" y=\"-37.8\" font-family=\"Helvetica,sans-Serif\" font-size=\"14.00\">samples = 3</text>\n<text text-anchor=\"start\" x=\"240.5\" y=\"-22.8\" font-family=\"Helvetica,sans-Serif\" font-size=\"14.00\">value = [0, 0, 3]</text>\n<text text-anchor=\"start\" x=\"239\" y=\"-7.8\" font-family=\"Helvetica,sans-Serif\" font-size=\"14.00\">class = virginica</text>\n</g>\n<!-- 5&#45;&gt;7 -->\n<g id=\"edge7\" class=\"edge\">\n<title>5&#45;&gt;7</title>\n<path fill=\"none\" stroke=\"black\" d=\"M245.45,-103.73C250.81,-94.97 256.48,-85.7 261.86,-76.91\"/>\n<polygon fill=\"black\" stroke=\"black\" points=\"264.89,-78.66 267.12,-68.3 258.92,-75 264.89,-78.66\"/>\n</g>\n</g>\n</svg>\n",
            "text/plain": [
              "<graphviz.sources.Source at 0x7f32807a0490>"
            ]
          },
          "metadata": {},
          "execution_count": 22
        }
      ],
      "source": [
        "# 그래프 확인\n",
        "graph2"
      ]
    },
    {
      "cell_type": "markdown",
      "metadata": {
        "id": "yMeoASpe1aK-"
      },
      "source": [
        "- #### 프루닝"
      ]
    },
    {
      "cell_type": "code",
      "execution_count": null,
      "metadata": {
        "id": "Q9myy8-b1aK_"
      },
      "outputs": [],
      "source": [
        "# tree.DecisionTreeClassifier()함수로 트리 모델을 생성해 clf3 에 할당\n",
        "# criterion 파라미터를 entropy로 지정해 분류기준 변경\n",
        "# max_depth를 2로 지정하여 깊이 조절하여 가지치기\n",
        "clf3 = tree.DecisionTreeClassifier(criterion=\"entropy\", max_depth=2)"
      ]
    },
    {
      "cell_type": "code",
      "execution_count": null,
      "metadata": {
        "id": "fyXdTXSV1aK_",
        "colab": {
          "base_uri": "https://localhost:8080/"
        },
        "outputId": "204bda6f-d687-4d21-a826-a21209459841"
      },
      "outputs": [
        {
          "output_type": "stream",
          "name": "stdout",
          "text": [
            "[[17  0  0]\n",
            " [ 0 11  1]\n",
            " [ 0  2 14]]\n",
            "0.9333333333333333\n"
          ]
        }
      ],
      "source": [
        "# fit 함수 이용해 train 데이터로 학습 시킴\n",
        "# 생성된 모델에 test 데이터를 넣어 예측\n",
        "# 예측된 값은 y_pred3 변수에 할당\n",
        "# 실제값인 y_test 와 예측값인 y_pred 를 비교하여 confusion_matrix와 accuracy_score 확인\n",
        "clf3_dt = clf3.fit(x_train, y_train)\n",
        "\n",
        "y_pred3 = clf3_dt.predict(x_test)\n",
        "\n",
        "print(confusion_matrix(y_test, y_pred3))\n",
        "print(accuracy_score(y_test, y_pred3))"
      ]
    },
    {
      "cell_type": "code",
      "execution_count": null,
      "metadata": {
        "id": "1MQAtZwa1aK_",
        "colab": {
          "base_uri": "https://localhost:8080/",
          "height": 439
        },
        "outputId": "38bbb65b-e9e1-4d77-e7da-4aeb1bbdcd85"
      },
      "outputs": [
        {
          "output_type": "execute_result",
          "data": {
            "image/svg+xml": "<?xml version=\"1.0\" encoding=\"UTF-8\" standalone=\"no\"?>\n<!DOCTYPE svg PUBLIC \"-//W3C//DTD SVG 1.1//EN\"\n \"http://www.w3.org/Graphics/SVG/1.1/DTD/svg11.dtd\">\n<!-- Generated by graphviz version 2.43.0 (0)\n -->\n<!-- Title: Tree Pages: 1 -->\n<svg width=\"347pt\" height=\"314pt\"\n viewBox=\"0.00 0.00 347.00 314.00\" xmlns=\"http://www.w3.org/2000/svg\" xmlns:xlink=\"http://www.w3.org/1999/xlink\">\n<g id=\"graph0\" class=\"graph\" transform=\"scale(1 1) rotate(0) translate(4 310)\">\n<title>Tree</title>\n<polygon fill=\"white\" stroke=\"transparent\" points=\"-4,4 -4,-310 343,-310 343,4 -4,4\"/>\n<!-- 0 -->\n<g id=\"node1\" class=\"node\">\n<title>0</title>\n<path fill=\"#f4fef8\" stroke=\"black\" d=\"M196.5,-306C196.5,-306 74.5,-306 74.5,-306 68.5,-306 62.5,-300 62.5,-294 62.5,-294 62.5,-235 62.5,-235 62.5,-229 68.5,-223 74.5,-223 74.5,-223 196.5,-223 196.5,-223 202.5,-223 208.5,-229 208.5,-235 208.5,-235 208.5,-294 208.5,-294 208.5,-300 202.5,-306 196.5,-306\"/>\n<text text-anchor=\"start\" x=\"70.5\" y=\"-290.8\" font-family=\"Helvetica,sans-Serif\" font-size=\"14.00\">petal width (cm) ≤ 0.8</text>\n<text text-anchor=\"start\" x=\"88\" y=\"-275.8\" font-family=\"Helvetica,sans-Serif\" font-size=\"14.00\">entropy = 1.582</text>\n<text text-anchor=\"start\" x=\"90.5\" y=\"-260.8\" font-family=\"Helvetica,sans-Serif\" font-size=\"14.00\">samples = 105</text>\n<text text-anchor=\"start\" x=\"77.5\" y=\"-245.8\" font-family=\"Helvetica,sans-Serif\" font-size=\"14.00\">value = [33, 38, 34]</text>\n<text text-anchor=\"start\" x=\"83\" y=\"-230.8\" font-family=\"Helvetica,sans-Serif\" font-size=\"14.00\">class = versicolor</text>\n</g>\n<!-- 1 -->\n<g id=\"node2\" class=\"node\">\n<title>1</title>\n<path fill=\"#e58139\" stroke=\"black\" d=\"M105,-179.5C105,-179.5 12,-179.5 12,-179.5 6,-179.5 0,-173.5 0,-167.5 0,-167.5 0,-123.5 0,-123.5 0,-117.5 6,-111.5 12,-111.5 12,-111.5 105,-111.5 105,-111.5 111,-111.5 117,-117.5 117,-123.5 117,-123.5 117,-167.5 117,-167.5 117,-173.5 111,-179.5 105,-179.5\"/>\n<text text-anchor=\"start\" x=\"18.5\" y=\"-164.3\" font-family=\"Helvetica,sans-Serif\" font-size=\"14.00\">entropy = 0.0</text>\n<text text-anchor=\"start\" x=\"17.5\" y=\"-149.3\" font-family=\"Helvetica,sans-Serif\" font-size=\"14.00\">samples = 33</text>\n<text text-anchor=\"start\" x=\"8\" y=\"-134.3\" font-family=\"Helvetica,sans-Serif\" font-size=\"14.00\">value = [33, 0, 0]</text>\n<text text-anchor=\"start\" x=\"15\" y=\"-119.3\" font-family=\"Helvetica,sans-Serif\" font-size=\"14.00\">class = setosa</text>\n</g>\n<!-- 0&#45;&gt;1 -->\n<g id=\"edge1\" class=\"edge\">\n<title>0&#45;&gt;1</title>\n<path fill=\"none\" stroke=\"black\" d=\"M108.79,-222.91C101.38,-211.65 93.33,-199.42 85.88,-188.11\"/>\n<polygon fill=\"black\" stroke=\"black\" points=\"88.75,-186.1 80.33,-179.67 82.9,-189.94 88.75,-186.1\"/>\n<text text-anchor=\"middle\" x=\"75.28\" y=\"-200.45\" font-family=\"Helvetica,sans-Serif\" font-size=\"14.00\">True</text>\n</g>\n<!-- 2 -->\n<g id=\"node3\" class=\"node\">\n<title>2</title>\n<path fill=\"#eafcf2\" stroke=\"black\" d=\"M277.5,-187C277.5,-187 147.5,-187 147.5,-187 141.5,-187 135.5,-181 135.5,-175 135.5,-175 135.5,-116 135.5,-116 135.5,-110 141.5,-104 147.5,-104 147.5,-104 277.5,-104 277.5,-104 283.5,-104 289.5,-110 289.5,-116 289.5,-116 289.5,-175 289.5,-175 289.5,-181 283.5,-187 277.5,-187\"/>\n<text text-anchor=\"start\" x=\"143.5\" y=\"-171.8\" font-family=\"Helvetica,sans-Serif\" font-size=\"14.00\">petal width (cm) ≤ 1.75</text>\n<text text-anchor=\"start\" x=\"165\" y=\"-156.8\" font-family=\"Helvetica,sans-Serif\" font-size=\"14.00\">entropy = 0.998</text>\n<text text-anchor=\"start\" x=\"171.5\" y=\"-141.8\" font-family=\"Helvetica,sans-Serif\" font-size=\"14.00\">samples = 72</text>\n<text text-anchor=\"start\" x=\"158\" y=\"-126.8\" font-family=\"Helvetica,sans-Serif\" font-size=\"14.00\">value = [0, 38, 34]</text>\n<text text-anchor=\"start\" x=\"160\" y=\"-111.8\" font-family=\"Helvetica,sans-Serif\" font-size=\"14.00\">class = versicolor</text>\n</g>\n<!-- 0&#45;&gt;2 -->\n<g id=\"edge2\" class=\"edge\">\n<title>0&#45;&gt;2</title>\n<path fill=\"none\" stroke=\"black\" d=\"M162.21,-222.91C168.01,-214.1 174.2,-204.7 180.18,-195.61\"/>\n<polygon fill=\"black\" stroke=\"black\" points=\"183.26,-197.3 185.83,-187.02 177.41,-193.45 183.26,-197.3\"/>\n<text text-anchor=\"middle\" x=\"190.88\" y=\"-207.81\" font-family=\"Helvetica,sans-Serif\" font-size=\"14.00\">False</text>\n</g>\n<!-- 3 -->\n<g id=\"node4\" class=\"node\">\n<title>3</title>\n<path fill=\"#49e78b\" stroke=\"black\" d=\"M192,-68C192,-68 95,-68 95,-68 89,-68 83,-62 83,-56 83,-56 83,-12 83,-12 83,-6 89,0 95,0 95,0 192,0 192,0 198,0 204,-6 204,-12 204,-12 204,-56 204,-56 204,-62 198,-68 192,-68\"/>\n<text text-anchor=\"start\" x=\"96\" y=\"-52.8\" font-family=\"Helvetica,sans-Serif\" font-size=\"14.00\">entropy = 0.378</text>\n<text text-anchor=\"start\" x=\"102.5\" y=\"-37.8\" font-family=\"Helvetica,sans-Serif\" font-size=\"14.00\">samples = 41</text>\n<text text-anchor=\"start\" x=\"93\" y=\"-22.8\" font-family=\"Helvetica,sans-Serif\" font-size=\"14.00\">value = [0, 38, 3]</text>\n<text text-anchor=\"start\" x=\"91\" y=\"-7.8\" font-family=\"Helvetica,sans-Serif\" font-size=\"14.00\">class = versicolor</text>\n</g>\n<!-- 2&#45;&gt;3 -->\n<g id=\"edge3\" class=\"edge\">\n<title>2&#45;&gt;3</title>\n<path fill=\"none\" stroke=\"black\" d=\"M186.81,-103.73C181.29,-94.97 175.45,-85.7 169.91,-76.91\"/>\n<polygon fill=\"black\" stroke=\"black\" points=\"172.78,-74.89 164.48,-68.3 166.85,-78.63 172.78,-74.89\"/>\n</g>\n<!-- 4 -->\n<g id=\"node5\" class=\"node\">\n<title>4</title>\n<path fill=\"#8139e5\" stroke=\"black\" d=\"M327,-68C327,-68 234,-68 234,-68 228,-68 222,-62 222,-56 222,-56 222,-12 222,-12 222,-6 228,0 234,0 234,0 327,0 327,0 333,0 339,-6 339,-12 339,-12 339,-56 339,-56 339,-62 333,-68 327,-68\"/>\n<text text-anchor=\"start\" x=\"240.5\" y=\"-52.8\" font-family=\"Helvetica,sans-Serif\" font-size=\"14.00\">entropy = 0.0</text>\n<text text-anchor=\"start\" x=\"239.5\" y=\"-37.8\" font-family=\"Helvetica,sans-Serif\" font-size=\"14.00\">samples = 31</text>\n<text text-anchor=\"start\" x=\"230\" y=\"-22.8\" font-family=\"Helvetica,sans-Serif\" font-size=\"14.00\">value = [0, 0, 31]</text>\n<text text-anchor=\"start\" x=\"232\" y=\"-7.8\" font-family=\"Helvetica,sans-Serif\" font-size=\"14.00\">class = virginica</text>\n</g>\n<!-- 2&#45;&gt;4 -->\n<g id=\"edge4\" class=\"edge\">\n<title>2&#45;&gt;4</title>\n<path fill=\"none\" stroke=\"black\" d=\"M237.82,-103.73C243.26,-94.97 249.01,-85.7 254.48,-76.91\"/>\n<polygon fill=\"black\" stroke=\"black\" points=\"257.52,-78.64 259.82,-68.3 251.57,-74.95 257.52,-78.64\"/>\n</g>\n</g>\n</svg>\n",
            "text/plain": [
              "<graphviz.sources.Source at 0x7f3243ecadd0>"
            ]
          },
          "metadata": {},
          "execution_count": 25
        }
      ],
      "source": [
        "# tree모듈의 export_graphviz() 함수 사용\n",
        "# clf3_df 모델을 이용해 도식화 하여 dot_data3 변수에 할당\n",
        "# graphviz모듈의 Source() 함수를 이용해 graph3 생성 후 그래프 확인\n",
        "dot_data3 = tree.export_graphviz(clf3_dt,out_file=None,\n",
        "                                 feature_names=iris.feature_names,\n",
        "                                 class_names=iris.target_names,\n",
        "                                 filled=True, rounded=True,\n",
        "                                 special_characters=True)\n",
        "\n",
        "graph3 = graphviz.Source(dot_data3)\n",
        "graph3"
      ]
    },
    {
      "cell_type": "code",
      "execution_count": null,
      "metadata": {
        "id": "Vuk3CEad1aLA"
      },
      "outputs": [],
      "source": []
    },
    {
      "cell_type": "code",
      "execution_count": null,
      "metadata": {
        "id": "XHcz_nmP1aLA",
        "colab": {
          "base_uri": "https://localhost:8080/"
        },
        "outputId": "a146926b-c06b-499c-ee6e-9a386a3c33ac"
      },
      "outputs": [
        {
          "output_type": "stream",
          "name": "stdout",
          "text": [
            "0.9333333333333333\n",
            "0.9333333333333333\n",
            "0.9333333333333333\n"
          ]
        }
      ],
      "source": [
        "# 실제값인 y_test 와 3개 모델로 예측된 y_pred, y_pred2, y_pred3 을 비교하여 accuracy_score 확인\n",
        "print(accuracy_score(y_test, y_pred))\n",
        "print(accuracy_score(y_test, y_pred2))\n",
        "print(accuracy_score(y_test, y_pred3))"
      ]
    },
    {
      "cell_type": "code",
      "execution_count": null,
      "metadata": {
        "id": "5wOVfcOQ1aLA",
        "colab": {
          "base_uri": "https://localhost:8080/"
        },
        "outputId": "5598e25d-cd51-4671-b9fe-f1429f5b50b1"
      },
      "outputs": [
        {
          "output_type": "execute_result",
          "data": {
            "text/plain": [
              "0.98"
            ]
          },
          "metadata": {},
          "execution_count": 27
        }
      ],
      "source": [
        "# 더 많은 데이터 이용해 결과 비교\n",
        "# 실제값인 iris.target 데이터와 clf_dt 모델로 iris.data 데이터를 이용해 예측된 값을 비교하여 accuracy_score 확인\n",
        "accuracy_score(iris.target,clf_dt.predict(iris.data))"
      ]
    },
    {
      "cell_type": "code",
      "execution_count": null,
      "metadata": {
        "id": "Xam7Q9CN1aLA",
        "colab": {
          "base_uri": "https://localhost:8080/"
        },
        "outputId": "ae56288b-3cc0-4ac3-a781-f177f382a952"
      },
      "outputs": [
        {
          "output_type": "execute_result",
          "data": {
            "text/plain": [
              "0.98"
            ]
          },
          "metadata": {},
          "execution_count": 28
        }
      ],
      "source": [
        "# 더 많은 데이터 이용해 결과 비교\n",
        "# 실제값인 iris.target 데이터와 clf2_dt 모델로 iris.data 데이터를 이용해 예측된 값을 비교하여 accuracy_score 확인\n",
        "accuracy_score(iris.target,clf2_dt.predict(iris.data)) #엔트로피"
      ]
    },
    {
      "cell_type": "code",
      "execution_count": null,
      "metadata": {
        "id": "HbiAtPiR1aLA",
        "colab": {
          "base_uri": "https://localhost:8080/"
        },
        "outputId": "d33b36ef-61c7-4b4a-891b-88bdcedd8d1e"
      },
      "outputs": [
        {
          "output_type": "execute_result",
          "data": {
            "text/plain": [
              "0.96"
            ]
          },
          "metadata": {},
          "execution_count": 29
        }
      ],
      "source": [
        "# 더 많은 데이터 이용해 결과 비교\n",
        "# 실제값인 iris.target 데이터와 clf3_dt 모델로 iris.data 데이터를 이용해 예측된 값을 비교하여 accuracy_score 확인\n",
        "accuracy_score(iris.target,clf3_dt.predict(iris.data)) #프루닝"
      ]
    },
    {
      "cell_type": "code",
      "execution_count": null,
      "metadata": {
        "id": "sIU3FeTz1aLB"
      },
      "outputs": [],
      "source": []
    },
    {
      "cell_type": "markdown",
      "metadata": {
        "id": "w4iZzoo21aLB"
      },
      "source": [
        "### <과제> DT를 이용\n",
        "\n",
        "#### 와인 등급을 분류하는 모델을 만들고, 모델 성능을 평가하시오."
      ]
    },
    {
      "cell_type": "code",
      "execution_count": null,
      "metadata": {
        "id": "3h6ubD5l1aLB"
      },
      "outputs": [],
      "source": [
        "from sklearn import datasets\n",
        "from sklearn.model_selection import train_test_split\n",
        "from sklearn.metrics import accuracy_score, confusion_matrix\n",
        "from sklearn import tree\n",
        "\n",
        "import graphviz"
      ]
    },
    {
      "cell_type": "code",
      "execution_count": null,
      "metadata": {
        "id": "w82qDYZI1aLC"
      },
      "outputs": [],
      "source": [
        "wine = datasets.load_wine()"
      ]
    },
    {
      "cell_type": "code",
      "execution_count": null,
      "metadata": {
        "id": "iMPsA0zC1aLC"
      },
      "outputs": [],
      "source": [
        "x_train, x_test, y_train, y_test = train_test_split(wine.data, wine.target,\n",
        "                                                    test_size = 0.3,\n",
        "                                                    random_state = 103)\n",
        "print(x_train.shape, x_test.shape, y_train.shape, y_test.shape)"
      ]
    },
    {
      "cell_type": "code",
      "execution_count": null,
      "metadata": {
        "id": "CF3u5XaH1aLD"
      },
      "outputs": [],
      "source": [
        "clf = tree.DecisionTreeClassifier(criterion=\"entropy\")\n",
        "clf_dt = clf.fit(x_train, y_train)"
      ]
    },
    {
      "cell_type": "code",
      "execution_count": null,
      "metadata": {
        "id": "ptkLF9dJ1aLE"
      },
      "outputs": [],
      "source": [
        "y_pred = clf.predict(x_test)\n",
        "\n",
        "print(confusion_matrix(y_test, y_pred))\n",
        "print(accuracy_score(y_test, y_pred))"
      ]
    },
    {
      "cell_type": "code",
      "execution_count": null,
      "metadata": {
        "id": "ge7lLROb1aLE"
      },
      "outputs": [],
      "source": [
        "dot_data = tree.export_graphviz(clf_dt, out_file=None,\n",
        "                                feature_names=wine.feature_names,\n",
        "                                class_names=wine.target_names,\n",
        "                                filled=True, rounded=True,\n",
        "                                special_characters=True)\n",
        "\n",
        "graph = graphviz.Source(dot_data)\n",
        "graph"
      ]
    },
    {
      "cell_type": "code",
      "execution_count": null,
      "metadata": {
        "id": "23BujO-u1aLF"
      },
      "outputs": [],
      "source": [
        "clf2 = tree.DecisionTreeClassifier(criterion=\"entropy\", max_depth=3)"
      ]
    },
    {
      "cell_type": "code",
      "execution_count": null,
      "metadata": {
        "id": "uO3Kep-W1aLF"
      },
      "outputs": [],
      "source": [
        "clf2_dt = clf2.fit(x_train, y_train)\n",
        "\n",
        "y_pred2 = clf2.predict(x_test)\n",
        "\n",
        "print(confusion_matrix(y_test, y_pred2))\n",
        "print(accuracy_score(y_test, y_pred2))"
      ]
    },
    {
      "cell_type": "code",
      "execution_count": null,
      "metadata": {
        "id": "PBrOW99w1aLG"
      },
      "outputs": [],
      "source": []
    },
    {
      "cell_type": "code",
      "execution_count": null,
      "metadata": {
        "id": "FRa-oFn81aLG"
      },
      "outputs": [],
      "source": []
    }
  ],
  "metadata": {
    "kernelspec": {
      "display_name": "Python 3",
      "language": "python",
      "name": "python3"
    },
    "language_info": {
      "codemirror_mode": {
        "name": "ipython",
        "version": 3
      },
      "file_extension": ".py",
      "mimetype": "text/x-python",
      "name": "python",
      "nbconvert_exporter": "python",
      "pygments_lexer": "ipython3",
      "version": "3.7.6"
    },
    "colab": {
      "provenance": [],
      "collapsed_sections": [
        "w4iZzoo21aLB"
      ],
      "include_colab_link": true
    }
  },
  "nbformat": 4,
  "nbformat_minor": 0
}