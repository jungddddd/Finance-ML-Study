{
  "cells": [
    {
      "cell_type": "markdown",
      "metadata": {
        "id": "view-in-github",
        "colab_type": "text"
      },
      "source": [
        "<a href=\"https://colab.research.google.com/github/jungddddd/ML2/blob/main/2)%EB%A8%B8%EC%8B%A0%EB%9F%AC%EB%8B%9D_%EB%AA%A8%EB%8D%B8_%EB%B6%84%EB%A5%9803_svm.ipynb\" target=\"_parent\"><img src=\"https://colab.research.google.com/assets/colab-badge.svg\" alt=\"Open In Colab\"/></a>"
      ]
    },
    {
      "cell_type": "markdown",
      "metadata": {
        "id": "Z_Rhf5Empknr"
      },
      "source": [
        "### SVM\n",
        "#### iris 분류"
      ]
    },
    {
      "cell_type": "code",
      "execution_count": null,
      "metadata": {
        "id": "EwnwFPbapknu"
      },
      "outputs": [],
      "source": [
        "# 필요한 모듈 불러오기\n",
        "# numpy와 matplotlib 모듈 불러오기\n",
        "# Scikit-learn 의 datasets 모듈 불러오기\n",
        "# sklearn.model_selection 의 train_test_split 함수 불러오기\n",
        "# sklearn.metrics 모듈의 confusion_matrix 함수와 accuracy_score 함수 불러오기\n",
        "import numpy as np\n",
        "import matplotlib.pyplot as plt\n",
        "\n",
        "from sklearn import datasets\n",
        "from sklearn.model_selection import train_test_split\n",
        "from sklearn.metrics import confusion_matrix, accuracy_score, classification_report"
      ]
    },
    {
      "cell_type": "code",
      "execution_count": null,
      "metadata": {
        "id": "TC9IkRz0pknw"
      },
      "outputs": [],
      "source": [
        "# datasets의 load_iris() 함수사용\n",
        "# iris 데이터를 불러와 iris 변수에 할당\n",
        "iris = datasets.load_iris()"
      ]
    },
    {
      "cell_type": "code",
      "execution_count": null,
      "metadata": {
        "id": "PQM9sNXXpknx"
      },
      "outputs": [],
      "source": [
        "# iris 의 data 중 꽃받침(sepal)의 길이와 너비 선택 하여 x_data로 할당\n",
        "# iris 의 target 을 y_data 로 할당\n",
        "x_data = iris.data[:,:2] #꽃받침(sepal)의 길이와 너비\n",
        "y_data = iris.target"
      ]
    },
    {
      "cell_type": "code",
      "source": [
        "# 데이터 확인\n",
        "print(\"x_data\\n\", x_data[:5])\n",
        "print(\"y_data\\n\", y_data[:5])"
      ],
      "metadata": {
        "id": "dftEGfOfq9ou",
        "colab": {
          "base_uri": "https://localhost:8080/"
        },
        "outputId": "413e52c8-587c-4e40-9861-3055aa2960cb"
      },
      "execution_count": null,
      "outputs": [
        {
          "output_type": "stream",
          "name": "stdout",
          "text": [
            "x_data\n",
            " [[5.1 3.5]\n",
            " [4.9 3. ]\n",
            " [4.7 3.2]\n",
            " [4.6 3.1]\n",
            " [5.  3.6]]\n",
            "y_data\n",
            " [0 0 0 0 0]\n"
          ]
        }
      ]
    },
    {
      "cell_type": "code",
      "execution_count": null,
      "metadata": {
        "id": "_HXdZBi4pknx",
        "colab": {
          "base_uri": "https://localhost:8080/"
        },
        "outputId": "baab4dda-8ad7-410f-9eb3-ffb154096275"
      },
      "outputs": [
        {
          "output_type": "stream",
          "name": "stdout",
          "text": [
            "(105, 2) (45, 2) (105,) (45,)\n"
          ]
        }
      ],
      "source": [
        "# train_test_split() 함수 이용해 데이터 분할\n",
        "# train, test 데이터 분할 확인\n",
        "x_train, x_test, y_train, y_test = train_test_split(x_data, y_data,\n",
        "                                                    test_size = 0.3,\n",
        "                                                    random_state = 102)\n",
        "print(x_train.shape, x_test.shape, y_train.shape, y_test.shape)"
      ]
    },
    {
      "cell_type": "code",
      "execution_count": null,
      "metadata": {
        "id": "NJJ1cNf1pkny"
      },
      "outputs": [],
      "source": [
        "# svm 모델 생성\n",
        "# sklearns 모듈의 svm 사용\n",
        "from sklearn import svm"
      ]
    },
    {
      "cell_type": "code",
      "execution_count": null,
      "metadata": {
        "id": "CacY6Rcopkny",
        "colab": {
          "base_uri": "https://localhost:8080/",
          "height": 74
        },
        "outputId": "59f129c1-bfeb-460d-8cd7-f0b2dd2ac752"
      },
      "outputs": [
        {
          "output_type": "execute_result",
          "data": {
            "text/plain": [
              "SVC(kernel='linear')"
            ],
            "text/html": [
              "<style>#sk-container-id-1 {color: black;background-color: white;}#sk-container-id-1 pre{padding: 0;}#sk-container-id-1 div.sk-toggleable {background-color: white;}#sk-container-id-1 label.sk-toggleable__label {cursor: pointer;display: block;width: 100%;margin-bottom: 0;padding: 0.3em;box-sizing: border-box;text-align: center;}#sk-container-id-1 label.sk-toggleable__label-arrow:before {content: \"▸\";float: left;margin-right: 0.25em;color: #696969;}#sk-container-id-1 label.sk-toggleable__label-arrow:hover:before {color: black;}#sk-container-id-1 div.sk-estimator:hover label.sk-toggleable__label-arrow:before {color: black;}#sk-container-id-1 div.sk-toggleable__content {max-height: 0;max-width: 0;overflow: hidden;text-align: left;background-color: #f0f8ff;}#sk-container-id-1 div.sk-toggleable__content pre {margin: 0.2em;color: black;border-radius: 0.25em;background-color: #f0f8ff;}#sk-container-id-1 input.sk-toggleable__control:checked~div.sk-toggleable__content {max-height: 200px;max-width: 100%;overflow: auto;}#sk-container-id-1 input.sk-toggleable__control:checked~label.sk-toggleable__label-arrow:before {content: \"▾\";}#sk-container-id-1 div.sk-estimator input.sk-toggleable__control:checked~label.sk-toggleable__label {background-color: #d4ebff;}#sk-container-id-1 div.sk-label input.sk-toggleable__control:checked~label.sk-toggleable__label {background-color: #d4ebff;}#sk-container-id-1 input.sk-hidden--visually {border: 0;clip: rect(1px 1px 1px 1px);clip: rect(1px, 1px, 1px, 1px);height: 1px;margin: -1px;overflow: hidden;padding: 0;position: absolute;width: 1px;}#sk-container-id-1 div.sk-estimator {font-family: monospace;background-color: #f0f8ff;border: 1px dotted black;border-radius: 0.25em;box-sizing: border-box;margin-bottom: 0.5em;}#sk-container-id-1 div.sk-estimator:hover {background-color: #d4ebff;}#sk-container-id-1 div.sk-parallel-item::after {content: \"\";width: 100%;border-bottom: 1px solid gray;flex-grow: 1;}#sk-container-id-1 div.sk-label:hover label.sk-toggleable__label {background-color: #d4ebff;}#sk-container-id-1 div.sk-serial::before {content: \"\";position: absolute;border-left: 1px solid gray;box-sizing: border-box;top: 0;bottom: 0;left: 50%;z-index: 0;}#sk-container-id-1 div.sk-serial {display: flex;flex-direction: column;align-items: center;background-color: white;padding-right: 0.2em;padding-left: 0.2em;position: relative;}#sk-container-id-1 div.sk-item {position: relative;z-index: 1;}#sk-container-id-1 div.sk-parallel {display: flex;align-items: stretch;justify-content: center;background-color: white;position: relative;}#sk-container-id-1 div.sk-item::before, #sk-container-id-1 div.sk-parallel-item::before {content: \"\";position: absolute;border-left: 1px solid gray;box-sizing: border-box;top: 0;bottom: 0;left: 50%;z-index: -1;}#sk-container-id-1 div.sk-parallel-item {display: flex;flex-direction: column;z-index: 1;position: relative;background-color: white;}#sk-container-id-1 div.sk-parallel-item:first-child::after {align-self: flex-end;width: 50%;}#sk-container-id-1 div.sk-parallel-item:last-child::after {align-self: flex-start;width: 50%;}#sk-container-id-1 div.sk-parallel-item:only-child::after {width: 0;}#sk-container-id-1 div.sk-dashed-wrapped {border: 1px dashed gray;margin: 0 0.4em 0.5em 0.4em;box-sizing: border-box;padding-bottom: 0.4em;background-color: white;}#sk-container-id-1 div.sk-label label {font-family: monospace;font-weight: bold;display: inline-block;line-height: 1.2em;}#sk-container-id-1 div.sk-label-container {text-align: center;}#sk-container-id-1 div.sk-container {/* jupyter's `normalize.less` sets `[hidden] { display: none; }` but bootstrap.min.css set `[hidden] { display: none !important; }` so we also need the `!important` here to be able to override the default hidden behavior on the sphinx rendered scikit-learn.org. See: https://github.com/scikit-learn/scikit-learn/issues/21755 */display: inline-block !important;position: relative;}#sk-container-id-1 div.sk-text-repr-fallback {display: none;}</style><div id=\"sk-container-id-1\" class=\"sk-top-container\"><div class=\"sk-text-repr-fallback\"><pre>SVC(kernel=&#x27;linear&#x27;)</pre><b>In a Jupyter environment, please rerun this cell to show the HTML representation or trust the notebook. <br />On GitHub, the HTML representation is unable to render, please try loading this page with nbviewer.org.</b></div><div class=\"sk-container\" hidden><div class=\"sk-item\"><div class=\"sk-estimator sk-toggleable\"><input class=\"sk-toggleable__control sk-hidden--visually\" id=\"sk-estimator-id-1\" type=\"checkbox\" checked><label for=\"sk-estimator-id-1\" class=\"sk-toggleable__label sk-toggleable__label-arrow\">SVC</label><div class=\"sk-toggleable__content\"><pre>SVC(kernel=&#x27;linear&#x27;)</pre></div></div></div></div></div>"
            ]
          },
          "metadata": {},
          "execution_count": 7
        }
      ],
      "source": [
        "# svm 모델 생성\n",
        "# svm의 svc() 함수에 kervel 파라미터를 linear로 지정\n",
        "# fit 함수 이용해 train 데이터로 학습 시킴\n",
        "clf = svm.SVC(kernel='linear')\n",
        "clf.fit(x_train,y_train)"
      ]
    },
    {
      "cell_type": "code",
      "execution_count": null,
      "metadata": {
        "id": "ngQgeyvNpkny"
      },
      "outputs": [],
      "source": [
        "# 생성된 모델에 test 데이터를 넣어 예측\n",
        "# 예측된 값은 y_pred 변수에 할당\n",
        "y_pred = clf.predict(x_test)"
      ]
    },
    {
      "cell_type": "code",
      "execution_count": null,
      "metadata": {
        "id": "LB9lhC8wpknz",
        "colab": {
          "base_uri": "https://localhost:8080/"
        },
        "outputId": "8d2f6046-b3bc-4caa-a385-32d588129c8f"
      },
      "outputs": [
        {
          "output_type": "stream",
          "name": "stdout",
          "text": [
            "[[17  0  0]\n",
            " [ 0  9  3]\n",
            " [ 0  6 10]]\n"
          ]
        }
      ],
      "source": [
        "# 실제값인 y_test 와 예측값인 y_pred 를 비교\n",
        "# confusion_matrix() 함수를 이용\n",
        "cfmat = confusion_matrix(y_test,y_pred)\n",
        "print(cfmat)"
      ]
    },
    {
      "cell_type": "code",
      "execution_count": null,
      "metadata": {
        "id": "KMv3cQg0pknz",
        "colab": {
          "base_uri": "https://localhost:8080/"
        },
        "outputId": "6301ab6f-f9d5-4a4a-c53a-84071f379eda"
      },
      "outputs": [
        {
          "output_type": "stream",
          "name": "stdout",
          "text": [
            "0.8\n"
          ]
        }
      ],
      "source": [
        "# 실제값인 y_test 와 예측값인 y_pred 를 비교\n",
        "# accuracy_score() 함수 이용\n",
        "acc = accuracy_score(y_test, y_pred)\n",
        "print(acc)"
      ]
    },
    {
      "cell_type": "markdown",
      "metadata": {
        "id": "oGwsF7OTpknz"
      },
      "source": [
        "- #### linear"
      ]
    },
    {
      "cell_type": "code",
      "execution_count": null,
      "metadata": {
        "id": "8V81mTwzpkn0",
        "colab": {
          "base_uri": "https://localhost:8080/"
        },
        "outputId": "2b44dbe2-c0ab-42a4-f483-0f098e56eedf"
      },
      "outputs": [
        {
          "output_type": "stream",
          "name": "stdout",
          "text": [
            "[[17  0  0]\n",
            " [ 0  7  5]\n",
            " [ 0  6 10]]\n",
            "0.7555555555555555\n"
          ]
        },
        {
          "output_type": "stream",
          "name": "stderr",
          "text": [
            "/usr/local/lib/python3.10/dist-packages/sklearn/svm/_base.py:1244: ConvergenceWarning: Liblinear failed to converge, increase the number of iterations.\n",
            "  warnings.warn(\n"
          ]
        }
      ],
      "source": [
        "# svm의 LinearSVC() 함수 사용\n",
        "# fit 함수 이용해 train 데이터로 학습 시킴\n",
        "# 생성된 모델에 test 데이터를 넣어 예측\n",
        "# 예측된 값은 y_pred_lin 변수에 할당\n",
        "# 실제값인 y_test 와 예측값인 y_pred_lin 를 비교하여 confusion_matrix 와 accuracy_matrix 출력\n",
        "clf_lin = svm.LinearSVC()\n",
        "clf_lin.fit(x_train,y_train)\n",
        "\n",
        "y_pred_lin = clf_lin.predict(x_test)\n",
        "\n",
        "print(confusion_matrix(y_test,y_pred_lin))\n",
        "print(accuracy_score(y_test, y_pred_lin))"
      ]
    },
    {
      "cell_type": "markdown",
      "metadata": {
        "id": "MTMPOXxnpkn0"
      },
      "source": [
        "- #### radial basis function(RBF)"
      ]
    },
    {
      "cell_type": "code",
      "execution_count": null,
      "metadata": {
        "id": "dIydwXD-pkn0",
        "colab": {
          "base_uri": "https://localhost:8080/"
        },
        "outputId": "07a780a5-9ca6-4597-ec09-d2760618aa27"
      },
      "outputs": [
        {
          "output_type": "stream",
          "name": "stdout",
          "text": [
            "[[17  0  0]\n",
            " [ 0  9  3]\n",
            " [ 0  6 10]]\n",
            "0.8\n"
          ]
        }
      ],
      "source": [
        "# svm의 svc() 함수에 kervel 파라미터를 rbf로 지정. gamma는 0.5로 지정\n",
        "# fit 함수 이용해 train 데이터로 학습 시킴\n",
        "# 생성된 모델에 test 데이터를 넣어 예측\n",
        "# 예측된 값은 y_pred_rbf 변수에 할당\n",
        "# 실제값인 y_test 와 예측값인 y_pred_rbf 를 비교하여 confusion_matrix 와 accuracy_matrix 출력\n",
        "clf_rbf = svm.SVC(kernel='rbf', gamma=0.5)\n",
        "clf_rbf.fit(x_train,y_train)\n",
        "\n",
        "y_pred_rbf = clf_rbf.predict(x_test)\n",
        "\n",
        "print(confusion_matrix(y_test,y_pred_rbf))\n",
        "print(accuracy_score(y_test, y_pred_rbf))"
      ]
    },
    {
      "cell_type": "markdown",
      "metadata": {
        "id": "vuW3lGLGpkn1"
      },
      "source": [
        "- #### polynomial kernel"
      ]
    },
    {
      "cell_type": "code",
      "execution_count": null,
      "metadata": {
        "id": "1eyDiSYbpkn1",
        "colab": {
          "base_uri": "https://localhost:8080/"
        },
        "outputId": "4b0acd38-8122-4fbb-a8a9-eb35280fbc58"
      },
      "outputs": [
        {
          "output_type": "stream",
          "name": "stdout",
          "text": [
            "[[17  0  0]\n",
            " [ 0  9  3]\n",
            " [ 0  7  9]]\n",
            "0.7777777777777778\n"
          ]
        }
      ],
      "source": [
        "# svm의 svc() 함수에 kervel 파라미터를 poly로 지정. degree는 3으로 지정\n",
        "# fit 함수 이용해 train 데이터로 학습 시킴\n",
        "# 생성된 모델에 test 데이터를 넣어 예측\n",
        "# 예측된 값은 clf_poly 변수에 할당\n",
        "# 실제값인 y_test 와 예측값인 clf_poly 를 비교하여 confusion_matrix 와 accuracy_matrix 출력\n",
        "clf_poly = svm.SVC(kernel='poly',degree=3)\n",
        "clf_poly.fit(x_train, y_train)\n",
        "\n",
        "y_pred_poly = clf_poly.predict(x_test)\n",
        "\n",
        "print(confusion_matrix(y_test, y_pred_poly))\n",
        "print(accuracy_score(y_test, y_pred_poly))"
      ]
    },
    {
      "cell_type": "markdown",
      "metadata": {
        "id": "S2Nr6GXfpkn1"
      },
      "source": [
        "- #### 시각화"
      ]
    },
    {
      "cell_type": "code",
      "execution_count": null,
      "metadata": {
        "id": "yexXqMR-pkn1"
      },
      "outputs": [],
      "source": [
        "# 시각화를 하기위한 함수 정의\n",
        "# make_meshgrid() 함수로 도표의 x축, y축 범위 지정\n",
        "# plot_contours() 함수로 contourplot(등고선도) 도식화\n",
        "def make_meshgrid(x, y, h=.02):\n",
        "    x_min, x_max = x.min() - 1, x.max() + 1\n",
        "    y_min, y_max = y.min() - 1, y.max() + 1\n",
        "    xx, yy = np.meshgrid(np.arange(x_min, x_max, h),\n",
        "                         np.arange(y_min, y_max, h))\n",
        "    return xx, yy\n",
        "\n",
        "\n",
        "def plot_contours(ax, clf, xx, yy, **params):\n",
        "    Z = clf.predict(np.c_[xx.ravel(), yy.ravel()])\n",
        "    Z = Z.reshape(xx.shape)\n",
        "    out = ax.contourf(xx, yy, Z, **params)\n",
        "    return out"
      ]
    },
    {
      "cell_type": "markdown",
      "metadata": {
        "id": "zrcDftQvpkn1"
      },
      "source": [
        "- 데이터 불러오기"
      ]
    },
    {
      "cell_type": "code",
      "execution_count": null,
      "metadata": {
        "id": "MFp6DIjUpkn2"
      },
      "outputs": [],
      "source": [
        "\"\"\"x_data = iris.data[:,:2] #꽃받침(sepal)의 길이와 너비\n",
        "y_data = iris.target\n",
        "\n",
        "x_train, x_test, y_train, y_test\"\"\""
      ]
    },
    {
      "cell_type": "markdown",
      "metadata": {
        "id": "E-FI5MxZpkn2"
      },
      "source": [
        "- 모델정의 및 피팅"
      ]
    },
    {
      "cell_type": "code",
      "execution_count": null,
      "metadata": {
        "id": "o2FYauZipkn2"
      },
      "outputs": [],
      "source": [
        "# 시각화할 4개의 svm 모델을 models 로 할당\n",
        "# 모델을 생성해 fit 함수 이용해 train 데이터로 학습 시킴\n",
        "models = (svm.SVC(kernel='linear'),\n",
        "          svm.LinearSVC(),\n",
        "          svm.SVC(kernel='rbf', gamma=0.5),\n",
        "          svm.SVC(kernel='poly', degree=3))\n",
        "models = (clf.fit(x_train, y_train) for clf in models)"
      ]
    },
    {
      "cell_type": "code",
      "execution_count": null,
      "metadata": {
        "id": "gV5kH1TGpkn2"
      },
      "outputs": [],
      "source": [
        "# 모델이 지정된 순서대로 도표의 제목을 지정하여 titles 로 할당\n",
        "titles = ('SVC with linear kernel',\n",
        "          'LinearSVC (linear kernel)',\n",
        "          'SVC with RBF kernel',\n",
        "          'SVC with polynomial (degree 3) kernel')"
      ]
    },
    {
      "cell_type": "code",
      "execution_count": null,
      "metadata": {
        "id": "MIsun9Rmpkn3",
        "colab": {
          "base_uri": "https://localhost:8080/",
          "height": 505
        },
        "outputId": "ea9a4693-d9b9-4c12-d7cd-0112bfa56fcf"
      },
      "outputs": [
        {
          "output_type": "stream",
          "name": "stderr",
          "text": [
            "/usr/local/lib/python3.10/dist-packages/sklearn/svm/_base.py:1244: ConvergenceWarning: Liblinear failed to converge, increase the number of iterations.\n",
            "  warnings.warn(\n"
          ]
        },
        {
          "output_type": "display_data",
          "data": {
            "text/plain": [
              "<Figure size 640x480 with 4 Axes>"
            ],
            "image/png": "[encoded data removed]"
          },
          "metadata": {}
        }
      ],
      "source": [
        "# 2 X 2 형으로 plot 생성, plot 사이 공백 지정\n",
        "# x축, y축 데이터 지정하여 X0, X1 로 할당\n",
        "# make_meshgrid() 함수에  X0, X1 데이터로 도표의 x축, y축 범위 지정\n",
        "# countours() 함수로 등고선도 생성\n",
        "# scatter() 함수로 산점도 도식화\n",
        "fig, sub = plt.subplots(2, 2)\n",
        "plt.subplots_adjust(wspace=0.4, hspace=0.4)\n",
        "\n",
        "X0, X1 = x_data[:, 0], x_data[:, 1]\n",
        "xx, yy = make_meshgrid(X0, X1)\n",
        "\n",
        "for clf, title, ax in zip(models, titles, sub.flatten()):\n",
        "    plot_contours(ax, clf, xx, yy,\n",
        "                  cmap=plt.cm.coolwarm, alpha=0.8)\n",
        "    ax.scatter(X0, X1, c=y_data, cmap=plt.cm.coolwarm, s=20, edgecolors='k')\n",
        "    ax.set_xlim(xx.min(), xx.max())\n",
        "    ax.set_ylim(yy.min(), yy.max())\n",
        "    ax.set_xlabel('Sepal length')\n",
        "    ax.set_ylabel('Sepal width')\n",
        "    ax.set_xticks(())\n",
        "    ax.set_yticks(())\n",
        "    ax.set_title(title)\n",
        "\n",
        "plt.show()"
      ]
    },
    {
      "cell_type": "markdown",
      "metadata": {
        "id": "-9NCTePUpkn3"
      },
      "source": [
        "- LinearSVC minimizes the squared hinge loss while SVC minimizes the regular hinge loss.\n",
        "- LinearSVC uses the One-vs-All (also known as One-vs-Rest) multiclass reduction while SVC uses the One-vs-One multiclass reduction."
      ]
    },
    {
      "cell_type": "code",
      "execution_count": null,
      "metadata": {
        "id": "2KjVe-oEpkn3"
      },
      "outputs": [],
      "source": []
    },
    {
      "cell_type": "markdown",
      "metadata": {
        "id": "F68gON53pkn3"
      },
      "source": [
        "### <과제> svm 을 이용\n",
        "#### 와인 등급을 분류하는 모델을 kenel을 이용해 만들고, 모델 성능을 평가하시오."
      ]
    },
    {
      "cell_type": "code",
      "execution_count": null,
      "metadata": {
        "id": "Vgz0F_m8pkn4"
      },
      "outputs": [],
      "source": [
        "import numpy as np\n",
        "import matplotlib.pyplot as plt\n",
        "from sklearn.model_selection import train_test_split\n",
        "from sklearn.metrics import confusion_matrix, accuracy_score\n",
        "from sklearn import datasets\n",
        "from sklearn import svm"
      ]
    },
    {
      "cell_type": "code",
      "execution_count": null,
      "metadata": {
        "scrolled": true,
        "id": "bGMsEoKmpkn4"
      },
      "outputs": [],
      "source": [
        "wine = datasets.load_wine()\n",
        "print(wine.DESCR)"
      ]
    },
    {
      "cell_type": "code",
      "execution_count": null,
      "metadata": {
        "id": "7qVE-jQQpkn6"
      },
      "outputs": [],
      "source": [
        "x_data = wine.data[:, [0, 9]] #'alcohol', 'color_intensity'\n",
        "y_data = wine.target"
      ]
    },
    {
      "cell_type": "code",
      "execution_count": null,
      "metadata": {
        "id": "nQD0JZ60pkn6"
      },
      "outputs": [],
      "source": [
        "wine.feature_names"
      ]
    },
    {
      "cell_type": "code",
      "execution_count": null,
      "metadata": {
        "id": "SEb03XpZpkn6"
      },
      "outputs": [],
      "source": [
        "x_train, x_test, y_train, y_test = train_test_split(x_data, y_data,\n",
        "                                                    test_size = 0.3,\n",
        "                                                    random_state = 102)\n",
        "print(x_train.shape, x_test.shape, y_train.shape, y_test.shape)"
      ]
    },
    {
      "cell_type": "code",
      "execution_count": null,
      "metadata": {
        "id": "ouFbk__zpkn7"
      },
      "outputs": [],
      "source": [
        "clf = svm.SVC(kernel='linear')\n",
        "clf.fit(x_train,y_train)\n",
        "\n",
        "y_pred = clf.predict(x_test)\n",
        "\n",
        "print(confusion_matrix(y_test,y_pred))\n",
        "print(accuracy_score(y_test, y_pred))"
      ]
    },
    {
      "cell_type": "code",
      "execution_count": null,
      "metadata": {
        "id": "vBz1j30Gpkn7"
      },
      "outputs": [],
      "source": [
        "#linear\n",
        "clf_lin = svm.LinearSVC()\n",
        "clf_lin.fit(x_train,y_train)\n",
        "\n",
        "y_pred_lin = clf_lin.predict(x_test)\n",
        "\n",
        "print(confusion_matrix(y_test,y_pred_lin))\n",
        "print(accuracy_score(y_test, y_pred_lin))"
      ]
    },
    {
      "cell_type": "code",
      "execution_count": null,
      "metadata": {
        "id": "a96iVF2Wpkn7"
      },
      "outputs": [],
      "source": [
        "#rbf\n",
        "clf_rbf = svm.SVC(kernel = 'rbf', gamma = 0.7)\n",
        "clf_rbf.fit(x_train,y_train)\n",
        "\n",
        "y_pred_rbf = clf_rbf.predict(x_test)\n",
        "\n",
        "print(confusion_matrix(y_test,y_pred_rbf))\n",
        "print(accuracy_score(y_test, y_pred_rbf))"
      ]
    },
    {
      "cell_type": "code",
      "execution_count": null,
      "metadata": {
        "id": "nEX-1LLgpkn8"
      },
      "outputs": [],
      "source": [
        "#poly\n",
        "clf_poly = svm.SVC(kernel='poly',degree=3)\n",
        "clf_poly.fit(x_train, y_train)\n",
        "\n",
        "y_pred_poly = clf_poly.predict(x_test)\n",
        "\n",
        "print(confusion_matrix(y_test, y_pred_poly))\n",
        "print(accuracy_score(y_test, y_pred_poly))"
      ]
    },
    {
      "cell_type": "code",
      "execution_count": null,
      "metadata": {
        "id": "0hBW7lDfpkn8"
      },
      "outputs": [],
      "source": [
        "def make_meshgrid(x, y, h=.02):\n",
        "    x_min, x_max = x.min() - 1, x.max() + 1\n",
        "    y_min, y_max = y.min() - 1, y.max() + 1\n",
        "    xx, yy = np.meshgrid(np.arange(x_min, x_max, h),\n",
        "                         np.arange(y_min, y_max, h))\n",
        "    return xx, yy\n",
        "\n",
        "\n",
        "def plot_contours(ax, clf, xx, yy, **params):\n",
        "    Z = clf.predict(np.c_[xx.ravel(), yy.ravel()])\n",
        "    Z = Z.reshape(xx.shape)\n",
        "    out = ax.contourf(xx, yy, Z, **params)\n",
        "    return out"
      ]
    },
    {
      "cell_type": "code",
      "execution_count": null,
      "metadata": {
        "id": "uPNzTM47pkn8"
      },
      "outputs": [],
      "source": [
        "#C = 1.0 #Regularization parameter\n",
        "models = (svm.SVC(kernel='linear'),\n",
        "          svm.LinearSVC(),\n",
        "          svm.SVC(kernel='rbf', gamma=0.7),\n",
        "          svm.SVC(kernel='poly', degree=3))\n",
        "models = (clf.fit(x_train, y_train) for clf in models)"
      ]
    },
    {
      "cell_type": "code",
      "execution_count": null,
      "metadata": {
        "id": "oGgPEZXvpkn8"
      },
      "outputs": [],
      "source": [
        "titles = ('SVC with linear kernel',\n",
        "          'LinearSVC (linear kernel)',\n",
        "          'SVC with RBF kernel',\n",
        "          'SVC with polynomial (degree 3) kernel')"
      ]
    },
    {
      "cell_type": "code",
      "execution_count": null,
      "metadata": {
        "id": "UHPtMUKDpkn9"
      },
      "outputs": [],
      "source": [
        "fig, sub = plt.subplots(2, 2)\n",
        "plt.subplots_adjust(wspace=0.4, hspace=0.4)\n",
        "\n",
        "X0, X1 = x_data[:, 0], x_data[:, 1]\n",
        "xx, yy = make_meshgrid(X0, X1)\n",
        "\n",
        "for clf, title, ax in zip(models, titles, sub.flatten()):\n",
        "    plot_contours(ax, clf, xx, yy,\n",
        "                  cmap=plt.cm.coolwarm, alpha=0.8)\n",
        "    ax.scatter(X0, X1, c=y_data, cmap=plt.cm.coolwarm, s=20, edgecolors='k')\n",
        "    ax.set_xlim(xx.min(), xx.max())\n",
        "    ax.set_ylim(yy.min(), yy.max())\n",
        "    ax.set_xlabel('alc')\n",
        "    ax.set_ylabel('colr')\n",
        "    ax.set_xticks(())\n",
        "    ax.set_yticks(())\n",
        "    ax.set_title(title)\n",
        "\n",
        "plt.show()"
      ]
    },
    {
      "cell_type": "code",
      "execution_count": null,
      "metadata": {
        "id": "NRY7T-M6pkn9"
      },
      "outputs": [],
      "source": []
    },
    {
      "cell_type": "code",
      "execution_count": null,
      "metadata": {
        "id": "11P6yX_wpkn-"
      },
      "outputs": [],
      "source": []
    },
    {
      "cell_type": "code",
      "execution_count": null,
      "metadata": {
        "id": "AoMR8HDBpkn-"
      },
      "outputs": [],
      "source": []
    },
    {
      "cell_type": "code",
      "execution_count": null,
      "metadata": {
        "id": "s7w4e2rqpkn-"
      },
      "outputs": [],
      "source": [
        "from sklearn.preprocessing import StandardScaler"
      ]
    },
    {
      "cell_type": "code",
      "execution_count": null,
      "metadata": {
        "id": "XIRTC3ASpkn_"
      },
      "outputs": [],
      "source": [
        "scaler = StandardScaler()\n",
        "scaler.fit(wine.data)\n",
        "wine.data_nom = scaler.transform(wine.data)\n",
        "\n",
        "x_train2, x_test2, y_train2, y_test2 = train_test_split(wine.data_nom, wine.target,\n",
        "                                                        test_size = 0.3,\n",
        "                                                        random_state = 103)\n",
        "print(x_train2.shape, x_test2.shape, y_train2.shape, y_test2.shape)"
      ]
    },
    {
      "cell_type": "code",
      "source": [],
      "metadata": {
        "id": "bIRKeYU9pzZ_"
      },
      "execution_count": null,
      "outputs": []
    }
  ],
  "metadata": {
    "kernelspec": {
      "display_name": "Python 3",
      "language": "python",
      "name": "python3"
    },
    "language_info": {
      "codemirror_mode": {
        "name": "ipython",
        "version": 3
      },
      "file_extension": ".py",
      "mimetype": "text/x-python",
      "name": "python",
      "nbconvert_exporter": "python",
      "pygments_lexer": "ipython3",
      "version": "3.7.6"
    },
    "colab": {
      "provenance": [],
      "collapsed_sections": [
        "F68gON53pkn3"
      ],
      "include_colab_link": true
    }
  },
  "nbformat": 4,
  "nbformat_minor": 0
}